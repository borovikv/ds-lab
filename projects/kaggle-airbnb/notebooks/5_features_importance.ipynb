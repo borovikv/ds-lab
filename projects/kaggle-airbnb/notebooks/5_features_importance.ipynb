{
 "cells": [
  {
   "cell_type": "code",
   "execution_count": 1,
   "id": "423c29e1-96b9-43ee-92ac-5862468c3b00",
   "metadata": {},
   "outputs": [
    {
     "name": "stdout",
     "output_type": "stream",
     "text": [
      "time: 268 µs (started: 2021-09-06 15:09:41 +00:00)\n"
     ]
    }
   ],
   "source": [
    "from catboost import Pool, CatBoostClassifier\n",
    "from sklearn.model_selection import train_test_split\n",
    "from sklearn.metrics import confusion_matrix, accuracy_score\n",
    "import matplotlib.pyplot as plt\n",
    "import seaborn as sns\n",
    "import pandas as pd\n",
    "import numpy as np\n",
    "\n",
    "pd.set_option('display.max_columns', None)\n",
    "pd.set_option('display.max_rows', 100)\n",
    "%load_ext autotime"
   ]
  },
  {
   "cell_type": "markdown",
   "id": "a0dab059-dc14-4713-8a83-feae90e00dba",
   "metadata": {
    "tags": []
   },
   "source": [
    "### 0. Loading test data and model"
   ]
  },
  {
   "cell_type": "code",
   "execution_count": 2,
   "id": "54443d9e-d789-4cb6-b318-440cdba6aaeb",
   "metadata": {},
   "outputs": [
    {
     "data": {
      "text/plain": [
       "((21346, 722), (21346,))"
      ]
     },
     "execution_count": 2,
     "metadata": {},
     "output_type": "execute_result"
    },
    {
     "name": "stdout",
     "output_type": "stream",
     "text": [
      "time: 1.51 s (started: 2021-09-06 15:09:42 +00:00)\n"
     ]
    }
   ],
   "source": [
    "x_test = pd.read_pickle('../data/processed/x_test.pickle')\n",
    "y_test = pd.read_pickle('../data/processed/y_test.pickle')\n",
    "x_test.shape, y_test.shape"
   ]
  },
  {
   "cell_type": "code",
   "execution_count": 7,
   "id": "da4b8ea9-f8ad-4eb3-b4d6-b6faa40434c4",
   "metadata": {},
   "outputs": [
    {
     "name": "stdout",
     "output_type": "stream",
     "text": [
      "time: 828 µs (started: 2021-09-06 15:10:00 +00:00)\n"
     ]
    }
   ],
   "source": [
    "cat_features = [\n",
    "    'gender',\n",
    "    'signup_method',\n",
    "    'signup_flow',\n",
    "    'language',\n",
    "    'affiliate_channel',\n",
    "    'affiliate_provider',\n",
    "    'first_affiliate_tracked',\n",
    "    'signup_app',\n",
    "    'first_device_type',\n",
    "    'first_browser',\n",
    "    'dow_registered',\n",
    "    'hr_registered',\n",
    "    'age_group',\n",
    "    'dow_registered',\n",
    "    'day_registered',\n",
    "    'month_registered',\n",
    "    'year_registered',\n",
    "]"
   ]
  },
  {
   "cell_type": "code",
   "execution_count": 8,
   "id": "4e7a2e1e-00a9-422c-b45d-c840ea2862ce",
   "metadata": {},
   "outputs": [
    {
     "data": {
      "text/plain": [
       "<catboost.core.CatBoostClassifier at 0x7f41a0433f70>"
      ]
     },
     "execution_count": 8,
     "metadata": {},
     "output_type": "execute_result"
    },
    {
     "name": "stdout",
     "output_type": "stream",
     "text": [
      "time: 11.6 ms (started: 2021-09-06 15:10:01 +00:00)\n"
     ]
    }
   ],
   "source": [
    "model = CatBoostClassifier()\n",
    "model.load_model('../models/model_2021_09_06_14_22_11.cbm')"
   ]
  },
  {
   "cell_type": "code",
   "execution_count": 9,
   "id": "f228988a-d493-4da2-9166-301dedd1486e",
   "metadata": {},
   "outputs": [
    {
     "name": "stdout",
     "output_type": "stream",
     "text": [
      "time: 273 ms (started: 2021-09-06 15:10:01 +00:00)\n"
     ]
    }
   ],
   "source": [
    "test_pool = Pool(x_test, label=y_test,cat_features=cat_features)"
   ]
  },
  {
   "cell_type": "code",
   "execution_count": 10,
   "id": "89b6b5f2-d174-4e6f-a6b8-f9dfe3cb0963",
   "metadata": {},
   "outputs": [
    {
     "name": "stdout",
     "output_type": "stream",
     "text": [
      "time: 177 ms (started: 2021-09-06 15:10:01 +00:00)\n"
     ]
    }
   ],
   "source": [
    "fi = model.get_feature_importance(test_pool)"
   ]
  },
  {
   "cell_type": "code",
   "execution_count": 11,
   "id": "7c4e0a58-e583-430d-92b0-9b58f97503d4",
   "metadata": {},
   "outputs": [
    {
     "name": "stdout",
     "output_type": "stream",
     "text": [
      "time: 3.88 ms (started: 2021-09-06 15:10:02 +00:00)\n"
     ]
    }
   ],
   "source": [
    "fi = pd.DataFrame({'feature_name': list(x_test), 'weight': fi})\n",
    "fi = fi.sort_values('weight', ascending=False).reset_index(drop=True)"
   ]
  },
  {
   "cell_type": "code",
   "execution_count": 12,
   "id": "2c1a3589-5717-4105-a578-16a67931f4ff",
   "metadata": {},
   "outputs": [
    {
     "data": {
      "text/html": [
       "<div>\n",
       "<style scoped>\n",
       "    .dataframe tbody tr th:only-of-type {\n",
       "        vertical-align: middle;\n",
       "    }\n",
       "\n",
       "    .dataframe tbody tr th {\n",
       "        vertical-align: top;\n",
       "    }\n",
       "\n",
       "    .dataframe thead th {\n",
       "        text-align: right;\n",
       "    }\n",
       "</style>\n",
       "<table border=\"1\" class=\"dataframe\">\n",
       "  <thead>\n",
       "    <tr style=\"text-align: right;\">\n",
       "      <th></th>\n",
       "      <th>feature_name</th>\n",
       "      <th>weight</th>\n",
       "    </tr>\n",
       "  </thead>\n",
       "  <tbody>\n",
       "    <tr>\n",
       "      <th>0</th>\n",
       "      <td>age</td>\n",
       "      <td>34.672504</td>\n",
       "    </tr>\n",
       "    <tr>\n",
       "      <th>1</th>\n",
       "      <td>ai_pending_booking_request_pending</td>\n",
       "      <td>10.410821</td>\n",
       "    </tr>\n",
       "    <tr>\n",
       "      <th>2</th>\n",
       "      <td>age_group</td>\n",
       "      <td>5.028007</td>\n",
       "    </tr>\n",
       "    <tr>\n",
       "      <th>3</th>\n",
       "      <td>signup_method</td>\n",
       "      <td>3.305411</td>\n",
       "    </tr>\n",
       "    <tr>\n",
       "      <th>4</th>\n",
       "      <td>first_affiliate_tracked</td>\n",
       "      <td>2.849090</td>\n",
       "    </tr>\n",
       "    <tr>\n",
       "      <th>5</th>\n",
       "      <td>month_registered</td>\n",
       "      <td>2.778638</td>\n",
       "    </tr>\n",
       "    <tr>\n",
       "      <th>6</th>\n",
       "      <td>gender</td>\n",
       "      <td>2.743356</td>\n",
       "    </tr>\n",
       "    <tr>\n",
       "      <th>7</th>\n",
       "      <td>signup_flow</td>\n",
       "      <td>2.427030</td>\n",
       "    </tr>\n",
       "    <tr>\n",
       "      <th>8</th>\n",
       "      <td>year_registered</td>\n",
       "      <td>2.331422</td>\n",
       "    </tr>\n",
       "    <tr>\n",
       "      <th>9</th>\n",
       "      <td>count_tos_confirm_-unknown-_-unknown-</td>\n",
       "      <td>2.273198</td>\n",
       "    </tr>\n",
       "    <tr>\n",
       "      <th>10</th>\n",
       "      <td>count_create_submit_create_user</td>\n",
       "      <td>2.025810</td>\n",
       "    </tr>\n",
       "    <tr>\n",
       "      <th>11</th>\n",
       "      <td>first_browser</td>\n",
       "      <td>1.863749</td>\n",
       "    </tr>\n",
       "    <tr>\n",
       "      <th>12</th>\n",
       "      <td>hr_registered</td>\n",
       "      <td>1.795021</td>\n",
       "    </tr>\n",
       "    <tr>\n",
       "      <th>13</th>\n",
       "      <td>first_device_type</td>\n",
       "      <td>1.729594</td>\n",
       "    </tr>\n",
       "    <tr>\n",
       "      <th>14</th>\n",
       "      <td>affiliate_channel</td>\n",
       "      <td>1.569029</td>\n",
       "    </tr>\n",
       "    <tr>\n",
       "      <th>15</th>\n",
       "      <td>signup_app</td>\n",
       "      <td>0.917067</td>\n",
       "    </tr>\n",
       "    <tr>\n",
       "      <th>16</th>\n",
       "      <td>affiliate_provider</td>\n",
       "      <td>0.878213</td>\n",
       "    </tr>\n",
       "    <tr>\n",
       "      <th>17</th>\n",
       "      <td>count_nan_message_post_message_post</td>\n",
       "      <td>0.683636</td>\n",
       "    </tr>\n",
       "    <tr>\n",
       "      <th>18</th>\n",
       "      <td>ai_nan_message_post_message_post</td>\n",
       "      <td>0.556243</td>\n",
       "    </tr>\n",
       "    <tr>\n",
       "      <th>19</th>\n",
       "      <td>ai_confirm_email_click_confirm_email_link</td>\n",
       "      <td>0.554479</td>\n",
       "    </tr>\n",
       "  </tbody>\n",
       "</table>\n",
       "</div>"
      ],
      "text/plain": [
       "                                 feature_name     weight\n",
       "0                                         age  34.672504\n",
       "1          ai_pending_booking_request_pending  10.410821\n",
       "2                                   age_group   5.028007\n",
       "3                               signup_method   3.305411\n",
       "4                     first_affiliate_tracked   2.849090\n",
       "5                            month_registered   2.778638\n",
       "6                                      gender   2.743356\n",
       "7                                 signup_flow   2.427030\n",
       "8                             year_registered   2.331422\n",
       "9       count_tos_confirm_-unknown-_-unknown-   2.273198\n",
       "10            count_create_submit_create_user   2.025810\n",
       "11                              first_browser   1.863749\n",
       "12                              hr_registered   1.795021\n",
       "13                          first_device_type   1.729594\n",
       "14                          affiliate_channel   1.569029\n",
       "15                                 signup_app   0.917067\n",
       "16                         affiliate_provider   0.878213\n",
       "17        count_nan_message_post_message_post   0.683636\n",
       "18           ai_nan_message_post_message_post   0.556243\n",
       "19  ai_confirm_email_click_confirm_email_link   0.554479"
      ]
     },
     "execution_count": 12,
     "metadata": {},
     "output_type": "execute_result"
    },
    {
     "name": "stdout",
     "output_type": "stream",
     "text": [
      "time: 19.6 ms (started: 2021-09-06 15:10:09 +00:00)\n"
     ]
    }
   ],
   "source": [
    "fi.head(20)"
   ]
  },
  {
   "cell_type": "code",
   "execution_count": 11,
   "id": "9f2242be-cee0-4ce0-a469-131ce6cd9771",
   "metadata": {},
   "outputs": [
    {
     "data": {
      "text/html": [
       "<div>\n",
       "<style scoped>\n",
       "    .dataframe tbody tr th:only-of-type {\n",
       "        vertical-align: middle;\n",
       "    }\n",
       "\n",
       "    .dataframe tbody tr th {\n",
       "        vertical-align: top;\n",
       "    }\n",
       "\n",
       "    .dataframe thead th {\n",
       "        text-align: right;\n",
       "    }\n",
       "</style>\n",
       "<table border=\"1\" class=\"dataframe\">\n",
       "  <thead>\n",
       "    <tr style=\"text-align: right;\">\n",
       "      <th></th>\n",
       "      <th>feature_name</th>\n",
       "      <th>weight</th>\n",
       "    </tr>\n",
       "  </thead>\n",
       "  <tbody>\n",
       "    <tr>\n",
       "      <th>0</th>\n",
       "      <td>age</td>\n",
       "      <td>34.493106</td>\n",
       "    </tr>\n",
       "    <tr>\n",
       "      <th>1</th>\n",
       "      <td>at_booking_request</td>\n",
       "      <td>28.578179</td>\n",
       "    </tr>\n",
       "    <tr>\n",
       "      <th>2</th>\n",
       "      <td>ai_nan_message_post_message_post</td>\n",
       "      <td>4.979213</td>\n",
       "    </tr>\n",
       "    <tr>\n",
       "      <th>3</th>\n",
       "      <td>at_click</td>\n",
       "      <td>4.919769</td>\n",
       "    </tr>\n",
       "    <tr>\n",
       "      <th>4</th>\n",
       "      <td>signup_method</td>\n",
       "      <td>2.824850</td>\n",
       "    </tr>\n",
       "    <tr>\n",
       "      <th>5</th>\n",
       "      <td>ai_manage_listing_view_manage_listing</td>\n",
       "      <td>1.912749</td>\n",
       "    </tr>\n",
       "    <tr>\n",
       "      <th>6</th>\n",
       "      <td>gender</td>\n",
       "      <td>1.362305</td>\n",
       "    </tr>\n",
       "    <tr>\n",
       "      <th>7</th>\n",
       "      <td>at_-unknown-</td>\n",
       "      <td>1.158748</td>\n",
       "    </tr>\n",
       "    <tr>\n",
       "      <th>8</th>\n",
       "      <td>at_message_post</td>\n",
       "      <td>1.038676</td>\n",
       "    </tr>\n",
       "    <tr>\n",
       "      <th>9</th>\n",
       "      <td>deltas_std</td>\n",
       "      <td>0.880617</td>\n",
       "    </tr>\n",
       "    <tr>\n",
       "      <th>10</th>\n",
       "      <td>at_submit</td>\n",
       "      <td>0.860454</td>\n",
       "    </tr>\n",
       "    <tr>\n",
       "      <th>11</th>\n",
       "      <td>affiliate_channel</td>\n",
       "      <td>0.845147</td>\n",
       "    </tr>\n",
       "    <tr>\n",
       "      <th>12</th>\n",
       "      <td>ai_ask_question_submit_contact_host</td>\n",
       "      <td>0.713657</td>\n",
       "    </tr>\n",
       "    <tr>\n",
       "      <th>13</th>\n",
       "      <td>at_data</td>\n",
       "      <td>0.694781</td>\n",
       "    </tr>\n",
       "    <tr>\n",
       "      <th>14</th>\n",
       "      <td>at_view</td>\n",
       "      <td>0.690212</td>\n",
       "    </tr>\n",
       "    <tr>\n",
       "      <th>15</th>\n",
       "      <td>ai_pending_booking_request_pending</td>\n",
       "      <td>0.595512</td>\n",
       "    </tr>\n",
       "    <tr>\n",
       "      <th>16</th>\n",
       "      <td>ai_verify_-unknown-_-unknown-</td>\n",
       "      <td>0.594034</td>\n",
       "    </tr>\n",
       "    <tr>\n",
       "      <th>17</th>\n",
       "      <td>ai_update_submit_update_listing</td>\n",
       "      <td>0.552840</td>\n",
       "    </tr>\n",
       "    <tr>\n",
       "      <th>18</th>\n",
       "      <td>hr_registered</td>\n",
       "      <td>0.526008</td>\n",
       "    </tr>\n",
       "    <tr>\n",
       "      <th>19</th>\n",
       "      <td>ai_create_submit_create_user</td>\n",
       "      <td>0.519394</td>\n",
       "    </tr>\n",
       "  </tbody>\n",
       "</table>\n",
       "</div>"
      ],
      "text/plain": [
       "                             feature_name     weight\n",
       "0                                     age  34.493106\n",
       "1                      at_booking_request  28.578179\n",
       "2        ai_nan_message_post_message_post   4.979213\n",
       "3                                at_click   4.919769\n",
       "4                           signup_method   2.824850\n",
       "5   ai_manage_listing_view_manage_listing   1.912749\n",
       "6                                  gender   1.362305\n",
       "7                            at_-unknown-   1.158748\n",
       "8                         at_message_post   1.038676\n",
       "9                              deltas_std   0.880617\n",
       "10                              at_submit   0.860454\n",
       "11                      affiliate_channel   0.845147\n",
       "12    ai_ask_question_submit_contact_host   0.713657\n",
       "13                                at_data   0.694781\n",
       "14                                at_view   0.690212\n",
       "15     ai_pending_booking_request_pending   0.595512\n",
       "16          ai_verify_-unknown-_-unknown-   0.594034\n",
       "17        ai_update_submit_update_listing   0.552840\n",
       "18                          hr_registered   0.526008\n",
       "19           ai_create_submit_create_user   0.519394"
      ]
     },
     "execution_count": 11,
     "metadata": {},
     "output_type": "execute_result"
    },
    {
     "name": "stdout",
     "output_type": "stream",
     "text": [
      "time: 27.3 ms (started: 2021-08-16 13:46:09 +00:00)\n"
     ]
    }
   ],
   "source": [
    "fi.head(20)"
   ]
  },
  {
   "cell_type": "code",
   "execution_count": null,
   "id": "c0a2fa0f-44cd-4c0d-be3e-105ef973bb58",
   "metadata": {},
   "outputs": [],
   "source": []
  },
  {
   "cell_type": "code",
   "execution_count": null,
   "id": "cabab023-61a8-43f2-bd76-dd20e62d5e43",
   "metadata": {},
   "outputs": [],
   "source": []
  }
 ],
 "metadata": {
  "kernelspec": {
   "display_name": "Python 3 (ipykernel)",
   "language": "python",
   "name": "python3"
  },
  "language_info": {
   "codemirror_mode": {
    "name": "ipython",
    "version": 3
   },
   "file_extension": ".py",
   "mimetype": "text/x-python",
   "name": "python",
   "nbconvert_exporter": "python",
   "pygments_lexer": "ipython3",
   "version": "3.9.6"
  }
 },
 "nbformat": 4,
 "nbformat_minor": 5
}
