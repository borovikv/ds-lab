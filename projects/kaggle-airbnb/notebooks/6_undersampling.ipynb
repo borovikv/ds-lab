{
 "cells": [
  {
   "cell_type": "markdown",
   "id": "b09d0e9a-8f9a-45cd-9893-6d18245eb331",
   "metadata": {},
   "source": [
    "### An attempt to balance classes in training dataset"
   ]
  },
  {
   "cell_type": "code",
   "execution_count": 5,
   "id": "dd54a22c-03d6-44fc-9236-1bfbc33dc4ac",
   "metadata": {},
   "outputs": [],
   "source": [
    "import sys\n",
    "sys.path.append('../src/')\n",
    "import filter_features as ff\n",
    "import pandas as pd"
   ]
  },
  {
   "cell_type": "code",
   "execution_count": 6,
   "id": "7e9db5a9-6fe5-4e1b-89e4-6a0e7e645844",
   "metadata": {},
   "outputs": [
    {
     "data": {
      "text/plain": [
       "(213451, 1105)"
      ]
     },
     "execution_count": 6,
     "metadata": {},
     "output_type": "execute_result"
    }
   ],
   "source": [
    "df = pd.read_parquet('../data/processed/train_features.parquet')\n",
    "df.shape"
   ]
  },
  {
   "cell_type": "code",
   "execution_count": 7,
   "id": "56e8108f-599f-418f-bceb-91889e268d75",
   "metadata": {},
   "outputs": [],
   "source": [
    "df['nan_counts'] = df.isnull().sum(axis=1)"
   ]
  },
  {
   "cell_type": "code",
   "execution_count": 8,
   "id": "e86db126-91ac-4faa-9ee7-470925f5218b",
   "metadata": {},
   "outputs": [
    {
     "data": {
      "text/html": [
       "<div>\n",
       "<style scoped>\n",
       "    .dataframe tbody tr th:only-of-type {\n",
       "        vertical-align: middle;\n",
       "    }\n",
       "\n",
       "    .dataframe tbody tr th {\n",
       "        vertical-align: top;\n",
       "    }\n",
       "\n",
       "    .dataframe thead th {\n",
       "        text-align: right;\n",
       "    }\n",
       "</style>\n",
       "<table border=\"1\" class=\"dataframe\">\n",
       "  <thead>\n",
       "    <tr style=\"text-align: right;\">\n",
       "      <th></th>\n",
       "      <th>country_destination</th>\n",
       "      <th>nan_counts</th>\n",
       "    </tr>\n",
       "  </thead>\n",
       "  <tbody>\n",
       "    <tr>\n",
       "      <th>0</th>\n",
       "      <td>NDF</td>\n",
       "      <td>1085</td>\n",
       "    </tr>\n",
       "    <tr>\n",
       "      <th>1</th>\n",
       "      <td>NDF</td>\n",
       "      <td>1085</td>\n",
       "    </tr>\n",
       "    <tr>\n",
       "      <th>2</th>\n",
       "      <td>US</td>\n",
       "      <td>1085</td>\n",
       "    </tr>\n",
       "    <tr>\n",
       "      <th>3</th>\n",
       "      <td>other</td>\n",
       "      <td>1085</td>\n",
       "    </tr>\n",
       "    <tr>\n",
       "      <th>4</th>\n",
       "      <td>US</td>\n",
       "      <td>1085</td>\n",
       "    </tr>\n",
       "  </tbody>\n",
       "</table>\n",
       "</div>"
      ],
      "text/plain": [
       "  country_destination  nan_counts\n",
       "0                 NDF        1085\n",
       "1                 NDF        1085\n",
       "2                  US        1085\n",
       "3               other        1085\n",
       "4                  US        1085"
      ]
     },
     "execution_count": 8,
     "metadata": {},
     "output_type": "execute_result"
    }
   ],
   "source": [
    "df[['country_destination', 'nan_counts']].head()"
   ]
  },
  {
   "cell_type": "code",
   "execution_count": 13,
   "id": "9bdb2f8a-c1d5-43c9-8028-f31a42197c75",
   "metadata": {},
   "outputs": [
    {
     "data": {
      "text/plain": [
       "NDF      124543\n",
       "US        62376\n",
       "other     10094\n",
       "FR         5023\n",
       "IT         2835\n",
       "GB         2324\n",
       "ES         2249\n",
       "CA         1428\n",
       "DE         1061\n",
       "NL          762\n",
       "AU          539\n",
       "PT          217\n",
       "Name: country_destination, dtype: int64"
      ]
     },
     "execution_count": 13,
     "metadata": {},
     "output_type": "execute_result"
    }
   ],
   "source": [
    "df.country_destination.value_counts()"
   ]
  },
  {
   "cell_type": "code",
   "execution_count": 11,
   "id": "bc98cc70-641c-4c34-824d-dfc81cd7cbf4",
   "metadata": {},
   "outputs": [],
   "source": [
    "df = df.sort_values(by=['country_destination', 'nan_counts'], ascending=[True, True])\n",
    "df.reset_index(drop=True, inplace=True)"
   ]
  },
  {
   "cell_type": "code",
   "execution_count": 12,
   "id": "ec7bbbdb-c314-47fa-a5e1-f3ccecc8bbee",
   "metadata": {},
   "outputs": [
    {
     "data": {
      "text/html": [
       "<div>\n",
       "<style scoped>\n",
       "    .dataframe tbody tr th:only-of-type {\n",
       "        vertical-align: middle;\n",
       "    }\n",
       "\n",
       "    .dataframe tbody tr th {\n",
       "        vertical-align: top;\n",
       "    }\n",
       "\n",
       "    .dataframe thead th {\n",
       "        text-align: right;\n",
       "    }\n",
       "</style>\n",
       "<table border=\"1\" class=\"dataframe\">\n",
       "  <thead>\n",
       "    <tr style=\"text-align: right;\">\n",
       "      <th></th>\n",
       "      <th>user_id</th>\n",
       "      <th>gender</th>\n",
       "      <th>age</th>\n",
       "      <th>signup_method</th>\n",
       "      <th>signup_flow</th>\n",
       "      <th>language</th>\n",
       "      <th>affiliate_channel</th>\n",
       "      <th>affiliate_provider</th>\n",
       "      <th>first_affiliate_tracked</th>\n",
       "      <th>signup_app</th>\n",
       "      <th>...</th>\n",
       "      <th>deltas_no_num_outliers</th>\n",
       "      <th>secs_elapsed_mean</th>\n",
       "      <th>secs_elapsed_std</th>\n",
       "      <th>secs_elapsed_max</th>\n",
       "      <th>secs_elapsed_min</th>\n",
       "      <th>secs_elapsed_median</th>\n",
       "      <th>secs_elapsed_mode</th>\n",
       "      <th>secs_elapsed_mode_count</th>\n",
       "      <th>device_count</th>\n",
       "      <th>nan_counts</th>\n",
       "    </tr>\n",
       "  </thead>\n",
       "  <tbody>\n",
       "    <tr>\n",
       "      <th>0</th>\n",
       "      <td>s66w91j0y7</td>\n",
       "      <td>FEMALE</td>\n",
       "      <td>28.0</td>\n",
       "      <td>basic</td>\n",
       "      <td>0</td>\n",
       "      <td>en</td>\n",
       "      <td>direct</td>\n",
       "      <td>direct</td>\n",
       "      <td>untracked</td>\n",
       "      <td>Web</td>\n",
       "      <td>...</td>\n",
       "      <td>7.0</td>\n",
       "      <td>39621.497717</td>\n",
       "      <td>164291.995336</td>\n",
       "      <td>1487383.0</td>\n",
       "      <td>0.0</td>\n",
       "      <td>3305.0</td>\n",
       "      <td>713.0</td>\n",
       "      <td>3.0</td>\n",
       "      <td>2.0</td>\n",
       "      <td>279</td>\n",
       "    </tr>\n",
       "    <tr>\n",
       "      <th>1</th>\n",
       "      <td>9o12wb0jeb</td>\n",
       "      <td>-unknown-</td>\n",
       "      <td>42.0</td>\n",
       "      <td>basic</td>\n",
       "      <td>0</td>\n",
       "      <td>en</td>\n",
       "      <td>direct</td>\n",
       "      <td>direct</td>\n",
       "      <td>linked</td>\n",
       "      <td>Web</td>\n",
       "      <td>...</td>\n",
       "      <td>8.0</td>\n",
       "      <td>14417.816583</td>\n",
       "      <td>41111.161821</td>\n",
       "      <td>497616.0</td>\n",
       "      <td>0.0</td>\n",
       "      <td>3634.5</td>\n",
       "      <td>29.0</td>\n",
       "      <td>2.0</td>\n",
       "      <td>2.0</td>\n",
       "      <td>286</td>\n",
       "    </tr>\n",
       "    <tr>\n",
       "      <th>2</th>\n",
       "      <td>dbkeg7u7tu</td>\n",
       "      <td>MALE</td>\n",
       "      <td>23.0</td>\n",
       "      <td>facebook</td>\n",
       "      <td>0</td>\n",
       "      <td>en</td>\n",
       "      <td>seo</td>\n",
       "      <td>google</td>\n",
       "      <td>linked</td>\n",
       "      <td>Web</td>\n",
       "      <td>...</td>\n",
       "      <td>6.0</td>\n",
       "      <td>28855.781659</td>\n",
       "      <td>129938.096336</td>\n",
       "      <td>1314963.0</td>\n",
       "      <td>0.0</td>\n",
       "      <td>1292.0</td>\n",
       "      <td>28.0</td>\n",
       "      <td>2.0</td>\n",
       "      <td>4.0</td>\n",
       "      <td>289</td>\n",
       "    </tr>\n",
       "    <tr>\n",
       "      <th>3</th>\n",
       "      <td>qe5tnxmn4y</td>\n",
       "      <td>MALE</td>\n",
       "      <td>26.0</td>\n",
       "      <td>basic</td>\n",
       "      <td>0</td>\n",
       "      <td>en</td>\n",
       "      <td>direct</td>\n",
       "      <td>direct</td>\n",
       "      <td>untracked</td>\n",
       "      <td>Web</td>\n",
       "      <td>...</td>\n",
       "      <td>12.0</td>\n",
       "      <td>19538.686424</td>\n",
       "      <td>89629.372564</td>\n",
       "      <td>1011499.0</td>\n",
       "      <td>0.0</td>\n",
       "      <td>693.0</td>\n",
       "      <td>27.0</td>\n",
       "      <td>4.0</td>\n",
       "      <td>4.0</td>\n",
       "      <td>293</td>\n",
       "    </tr>\n",
       "    <tr>\n",
       "      <th>4</th>\n",
       "      <td>lhgslic0bg</td>\n",
       "      <td>MALE</td>\n",
       "      <td>30.0</td>\n",
       "      <td>basic</td>\n",
       "      <td>0</td>\n",
       "      <td>en</td>\n",
       "      <td>direct</td>\n",
       "      <td>direct</td>\n",
       "      <td>linked</td>\n",
       "      <td>Web</td>\n",
       "      <td>...</td>\n",
       "      <td>4.0</td>\n",
       "      <td>40610.519231</td>\n",
       "      <td>159223.055975</td>\n",
       "      <td>1548479.0</td>\n",
       "      <td>0.0</td>\n",
       "      <td>1013.5</td>\n",
       "      <td>0.0</td>\n",
       "      <td>10.0</td>\n",
       "      <td>1.0</td>\n",
       "      <td>296</td>\n",
       "    </tr>\n",
       "  </tbody>\n",
       "</table>\n",
       "<p>5 rows × 1106 columns</p>\n",
       "</div>"
      ],
      "text/plain": [
       "      user_id     gender   age signup_method  signup_flow language  \\\n",
       "0  s66w91j0y7     FEMALE  28.0         basic            0       en   \n",
       "1  9o12wb0jeb  -unknown-  42.0         basic            0       en   \n",
       "2  dbkeg7u7tu       MALE  23.0      facebook            0       en   \n",
       "3  qe5tnxmn4y       MALE  26.0         basic            0       en   \n",
       "4  lhgslic0bg       MALE  30.0         basic            0       en   \n",
       "\n",
       "  affiliate_channel affiliate_provider first_affiliate_tracked signup_app  \\\n",
       "0            direct             direct               untracked        Web   \n",
       "1            direct             direct                  linked        Web   \n",
       "2               seo             google                  linked        Web   \n",
       "3            direct             direct               untracked        Web   \n",
       "4            direct             direct                  linked        Web   \n",
       "\n",
       "   ... deltas_no_num_outliers secs_elapsed_mean secs_elapsed_std  \\\n",
       "0  ...                    7.0      39621.497717    164291.995336   \n",
       "1  ...                    8.0      14417.816583     41111.161821   \n",
       "2  ...                    6.0      28855.781659    129938.096336   \n",
       "3  ...                   12.0      19538.686424     89629.372564   \n",
       "4  ...                    4.0      40610.519231    159223.055975   \n",
       "\n",
       "   secs_elapsed_max  secs_elapsed_min  secs_elapsed_median  secs_elapsed_mode  \\\n",
       "0         1487383.0               0.0               3305.0              713.0   \n",
       "1          497616.0               0.0               3634.5               29.0   \n",
       "2         1314963.0               0.0               1292.0               28.0   \n",
       "3         1011499.0               0.0                693.0               27.0   \n",
       "4         1548479.0               0.0               1013.5                0.0   \n",
       "\n",
       "   secs_elapsed_mode_count  device_count  nan_counts  \n",
       "0                      3.0           2.0         279  \n",
       "1                      2.0           2.0         286  \n",
       "2                      2.0           4.0         289  \n",
       "3                      4.0           4.0         293  \n",
       "4                     10.0           1.0         296  \n",
       "\n",
       "[5 rows x 1106 columns]"
      ]
     },
     "execution_count": 12,
     "metadata": {},
     "output_type": "execute_result"
    }
   ],
   "source": [
    "df.head()"
   ]
  },
  {
   "cell_type": "code",
   "execution_count": 20,
   "id": "87f7e436-5044-407c-9eb1-3f8d007370f0",
   "metadata": {},
   "outputs": [
    {
     "data": {
      "text/plain": [
       "(46438, 1106)"
      ]
     },
     "execution_count": 20,
     "metadata": {},
     "output_type": "execute_result"
    }
   ],
   "source": [
    "tmp = df.groupby('country_destination', as_index=False).head(10000)\n",
    "tmp.shape"
   ]
  },
  {
   "cell_type": "code",
   "execution_count": 21,
   "id": "e2104156-412a-41d7-802b-64073066af04",
   "metadata": {},
   "outputs": [
    {
     "data": {
      "text/plain": [
       "NDF      10000\n",
       "US       10000\n",
       "other    10000\n",
       "FR        5023\n",
       "IT        2835\n",
       "GB        2324\n",
       "ES        2249\n",
       "CA        1428\n",
       "DE        1061\n",
       "NL         762\n",
       "AU         539\n",
       "PT         217\n",
       "Name: country_destination, dtype: int64"
      ]
     },
     "execution_count": 21,
     "metadata": {},
     "output_type": "execute_result"
    }
   ],
   "source": [
    "tmp.country_destination.value_counts()"
   ]
  },
  {
   "cell_type": "code",
   "execution_count": 23,
   "id": "058558ed-f602-466c-955d-daf90b82c4eb",
   "metadata": {},
   "outputs": [
    {
     "data": {
      "text/plain": [
       "(213451, 1106)"
      ]
     },
     "execution_count": 23,
     "metadata": {},
     "output_type": "execute_result"
    }
   ],
   "source": [
    "df.to_parquet('../data/processed/train_features_undersample.parquet')\n",
    "df.shape"
   ]
  },
  {
   "cell_type": "code",
   "execution_count": null,
   "id": "09c30be3-96bb-401b-a6c3-69ba8802cb3f",
   "metadata": {},
   "outputs": [],
   "source": []
  }
 ],
 "metadata": {
  "kernelspec": {
   "display_name": "Python 3 (ipykernel)",
   "language": "python",
   "name": "python3"
  },
  "language_info": {
   "codemirror_mode": {
    "name": "ipython",
    "version": 3
   },
   "file_extension": ".py",
   "mimetype": "text/x-python",
   "name": "python",
   "nbconvert_exporter": "python",
   "pygments_lexer": "ipython3",
   "version": "3.9.6"
  }
 },
 "nbformat": 4,
 "nbformat_minor": 5
}
