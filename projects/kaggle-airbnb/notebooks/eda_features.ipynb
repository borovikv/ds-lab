{
 "cells": [
  {
   "cell_type": "code",
   "execution_count": 1,
   "id": "25a2ccd0-0e01-4868-b93b-dec628813c52",
   "metadata": {},
   "outputs": [
    {
     "name": "stdout",
     "output_type": "stream",
     "text": [
      "time: 415 µs (started: 2021-08-12 16:53:50 +00:00)\n"
     ]
    }
   ],
   "source": [
    "import pandas as pd\n",
    "from pandas_profiling import ProfileReport\n",
    "from datetime import datetime\n",
    "\n",
    "pd.options.display.float_format = \"{:.6f}\".format\n",
    "%load_ext autotime\n",
    "pd.set_option('display.max_rows', 100)\n",
    "pd.set_option('display.max_columns', None)"
   ]
  },
  {
   "cell_type": "code",
   "execution_count": 2,
   "id": "f4c23932-c900-4017-917d-b236f2863c75",
   "metadata": {},
   "outputs": [
    {
     "data": {
      "text/plain": [
       "(73815, 341)"
      ]
     },
     "execution_count": 2,
     "metadata": {},
     "output_type": "execute_result"
    },
    {
     "name": "stdout",
     "output_type": "stream",
     "text": [
      "time: 580 ms (started: 2021-08-12 16:53:50 +00:00)\n"
     ]
    }
   ],
   "source": [
    "df = pd.read_parquet('../data/processed/features.parquet')\n",
    "df.shape"
   ]
  },
  {
   "cell_type": "code",
   "execution_count": 3,
   "id": "d8fb28e9-c709-4cea-a77e-41e683afa992",
   "metadata": {},
   "outputs": [
    {
     "name": "stdout",
     "output_type": "stream",
     "text": [
      "time: 1.19 ms (started: 2021-08-12 16:53:50 +00:00)\n"
     ]
    }
   ],
   "source": [
    "category_cols = [\n",
    "    'gender',\n",
    "    'signup_method',\n",
    "    'signup_flow',\n",
    "    'language',\n",
    "    'affiliate_channel',\n",
    "    'affiliate_provider',\n",
    "    'first_affiliate_tracked',\n",
    "    'signup_app',\n",
    "    'first_device_type',\n",
    "    'first_browser',\n",
    "    'country_destination',\n",
    "    'dow_registered',\n",
    "    'hr_registered'\n",
    "]"
   ]
  },
  {
   "cell_type": "code",
   "execution_count": 4,
   "id": "91e5c7ad-5b4a-45fb-913d-ba6e52e278b2",
   "metadata": {},
   "outputs": [
    {
     "name": "stdout",
     "output_type": "stream",
     "text": [
      "time: 427 ms (started: 2021-08-12 16:53:50 +00:00)\n"
     ]
    }
   ],
   "source": [
    "for col in category_cols:\n",
    "    df[col] = df[col].astype('category')"
   ]
  },
  {
   "cell_type": "code",
   "execution_count": 5,
   "id": "d4d6232e-fd4d-4ebd-a116-ea43c8edf1d2",
   "metadata": {},
   "outputs": [
    {
     "data": {
      "application/vnd.jupyter.widget-view+json": {
       "model_id": "9dd2e5baaa2744ee9636683b9909c1f3",
       "version_major": 2,
       "version_minor": 0
      },
      "text/plain": [
       "Summarize dataset:   0%|          | 0/349 [00:00<?, ?it/s]"
      ]
     },
     "metadata": {},
     "output_type": "display_data"
    },
    {
     "data": {
      "application/vnd.jupyter.widget-view+json": {
       "model_id": "4040e40cf0d3418997585448c8c1aee1",
       "version_major": 2,
       "version_minor": 0
      },
      "text/plain": [
       "Generate report structure:   0%|          | 0/1 [00:00<?, ?it/s]"
      ]
     },
     "metadata": {},
     "output_type": "display_data"
    },
    {
     "data": {
      "application/vnd.jupyter.widget-view+json": {
       "model_id": "0e787d7d58d24cc9b868f462d97044c1",
       "version_major": 2,
       "version_minor": 0
      },
      "text/plain": [
       "Render HTML:   0%|          | 0/1 [00:00<?, ?it/s]"
      ]
     },
     "metadata": {},
     "output_type": "display_data"
    },
    {
     "data": {
      "application/vnd.jupyter.widget-view+json": {
       "model_id": "f59df8b214624e13b8a5e27ff2299a85",
       "version_major": 2,
       "version_minor": 0
      },
      "text/plain": [
       "Export report to file:   0%|          | 0/1 [00:00<?, ?it/s]"
      ]
     },
     "metadata": {},
     "output_type": "display_data"
    },
    {
     "name": "stdout",
     "output_type": "stream",
     "text": [
      "time: 3min 3s (started: 2021-08-12 16:53:51 +00:00)\n"
     ]
    }
   ],
   "source": [
    "profile = ProfileReport(\n",
    "    df, \n",
    "    title=\"Features Dataset Profiling Report\", \n",
    "    explorative=True,\n",
    "    minimal=True\n",
    ")\n",
    "profile.to_file('../reports/features1.html')"
   ]
  },
  {
   "cell_type": "code",
   "execution_count": null,
   "id": "95815bee-a308-40de-abb1-2bb8f854f70f",
   "metadata": {},
   "outputs": [],
   "source": []
  },
  {
   "cell_type": "code",
   "execution_count": null,
   "id": "8a488c39-e079-47a7-aa89-04e12000f074",
   "metadata": {},
   "outputs": [],
   "source": [
    "profile = ProfileReport(\n",
    "    df[list(df)[:42]], \n",
    "    title=\"Features Dataset Profiling Report\", \n",
    "    explorative=True,\n",
    ")\n",
    "profile.to_file('../reports/features1.html')"
   ]
  },
  {
   "cell_type": "code",
   "execution_count": null,
   "id": "4324e82c-dc54-44d3-833a-b3371b065ea0",
   "metadata": {},
   "outputs": [],
   "source": []
  }
 ],
 "metadata": {
  "kernelspec": {
   "display_name": "Python 3 (ipykernel)",
   "language": "python",
   "name": "python3"
  },
  "language_info": {
   "codemirror_mode": {
    "name": "ipython",
    "version": 3
   },
   "file_extension": ".py",
   "mimetype": "text/x-python",
   "name": "python",
   "nbconvert_exporter": "python",
   "pygments_lexer": "ipython3",
   "version": "3.9.6"
  }
 },
 "nbformat": 4,
 "nbformat_minor": 5
}
