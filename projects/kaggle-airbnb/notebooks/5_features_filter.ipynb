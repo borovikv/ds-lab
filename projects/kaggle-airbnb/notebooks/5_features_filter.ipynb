{
 "cells": [
  {
   "cell_type": "markdown",
   "id": "2f456ecf-440d-464e-aa29-73b2e8979d7c",
   "metadata": {},
   "source": [
    "### Filtering features from Low Variance, High Correlation and Empty Values Columns"
   ]
  },
  {
   "cell_type": "code",
   "execution_count": 1,
   "id": "cc34c543-9ae8-42d3-a01e-4ce59565ee80",
   "metadata": {},
   "outputs": [],
   "source": [
    "import sys\n",
    "sys.path.append('../src/')\n",
    "import filter_features as ff\n",
    "import pandas as pd"
   ]
  },
  {
   "cell_type": "code",
   "execution_count": 7,
   "id": "63278f33-ea49-4997-a794-041549937c45",
   "metadata": {},
   "outputs": [
    {
     "data": {
      "text/plain": [
       "(213451, 725)"
      ]
     },
     "execution_count": 7,
     "metadata": {},
     "output_type": "execute_result"
    }
   ],
   "source": [
    "df = pd.read_parquet('../data/processed/train_features.parquet')\n",
    "df.shape"
   ]
  },
  {
   "cell_type": "code",
   "execution_count": 4,
   "id": "24af77fb-8af8-4bc6-b2a3-484467d6efd1",
   "metadata": {},
   "outputs": [
    {
     "name": "stderr",
     "output_type": "stream",
     "text": [
      "100%|██████████| 725/725 [00:01<00:00, 688.42it/s]\n"
     ]
    },
    {
     "data": {
      "text/plain": [
       "155"
      ]
     },
     "execution_count": 4,
     "metadata": {},
     "output_type": "execute_result"
    }
   ],
   "source": [
    "empty_columns = ff.get_empty_columns(df, threshold=0.999)\n",
    "len(empty_columns)"
   ]
  },
  {
   "cell_type": "markdown",
   "id": "062a9ade-cf96-401c-82ba-d3bab1fbb035",
   "metadata": {},
   "source": [
    "### 1. Getting and loading Feature Importance file"
   ]
  },
  {
   "cell_type": "code",
   "execution_count": 3,
   "id": "dd7ef9a4-4a6d-4f8c-bd5c-570b8ff83d5e",
   "metadata": {},
   "outputs": [],
   "source": [
    "model_path = '/home/jovyan/projects/kaggle-airbnb/models/model_2021_09_06_14_22_11.cbm'\n",
    "x_pickle_path = '/home/jovyan/projects/kaggle-airbnb/data/processed/x_test.pickle'\n",
    "y_pickle_path = '/home/jovyan/projects/kaggle-airbnb/data/processed/y_test.pickle'\n",
    "cat_features = [\n",
    "    'gender',\n",
    "    'signup_method',\n",
    "    'signup_flow',\n",
    "    'language',\n",
    "    'affiliate_channel',\n",
    "    'affiliate_provider',\n",
    "    'first_affiliate_tracked',\n",
    "    'signup_app',\n",
    "    'first_device_type',\n",
    "    'first_browser',\n",
    "    'dow_registered',\n",
    "    'hr_registered',\n",
    "    'age_group',\n",
    "    'dow_registered',\n",
    "    'day_registered',\n",
    "    'month_registered',\n",
    "    'year_registered',\n",
    "]\n",
    "save_to = '/home/jovyan/projects/kaggle-airbnb/data/processed/features_importance.csv'"
   ]
  },
  {
   "cell_type": "code",
   "execution_count": 4,
   "id": "bdf9c111-7e83-4bb3-b704-7321ff7e8426",
   "metadata": {},
   "outputs": [],
   "source": [
    "ff.generate_feature_importance_file(model_path, x_pickle_path, y_pickle_path, cat_features, save_to)"
   ]
  },
  {
   "cell_type": "code",
   "execution_count": 5,
   "id": "4337d22c-d99a-43bf-b279-d63988be24a5",
   "metadata": {},
   "outputs": [
    {
     "data": {
      "text/plain": [
       "(722, 3)"
      ]
     },
     "execution_count": 5,
     "metadata": {},
     "output_type": "execute_result"
    }
   ],
   "source": [
    "fi = ff.get_normalized_feature_weights(save_to)\n",
    "fi = [{'feature_name': k, 'weight': v} for k, v in fi.items()]\n",
    "fi = pd.DataFrame(fi)\n",
    "fi['w_sum'] = fi.weight.cumsum()\n",
    "fi.shape"
   ]
  },
  {
   "cell_type": "code",
   "execution_count": 8,
   "id": "eaa72eeb-94c4-4f94-bcc7-842aff64edce",
   "metadata": {},
   "outputs": [
    {
     "data": {
      "text/html": [
       "<div>\n",
       "<style scoped>\n",
       "    .dataframe tbody tr th:only-of-type {\n",
       "        vertical-align: middle;\n",
       "    }\n",
       "\n",
       "    .dataframe tbody tr th {\n",
       "        vertical-align: top;\n",
       "    }\n",
       "\n",
       "    .dataframe thead th {\n",
       "        text-align: right;\n",
       "    }\n",
       "</style>\n",
       "<table border=\"1\" class=\"dataframe\">\n",
       "  <thead>\n",
       "    <tr style=\"text-align: right;\">\n",
       "      <th></th>\n",
       "      <th>feature_name</th>\n",
       "      <th>weight</th>\n",
       "      <th>w_sum</th>\n",
       "    </tr>\n",
       "  </thead>\n",
       "  <tbody>\n",
       "    <tr>\n",
       "      <th>0</th>\n",
       "      <td>age</td>\n",
       "      <td>0.346725</td>\n",
       "      <td>0.346725</td>\n",
       "    </tr>\n",
       "    <tr>\n",
       "      <th>1</th>\n",
       "      <td>ai_pending_booking_request_pending</td>\n",
       "      <td>0.104108</td>\n",
       "      <td>0.450833</td>\n",
       "    </tr>\n",
       "    <tr>\n",
       "      <th>2</th>\n",
       "      <td>age_group</td>\n",
       "      <td>0.050280</td>\n",
       "      <td>0.501113</td>\n",
       "    </tr>\n",
       "    <tr>\n",
       "      <th>3</th>\n",
       "      <td>signup_method</td>\n",
       "      <td>0.033054</td>\n",
       "      <td>0.534167</td>\n",
       "    </tr>\n",
       "    <tr>\n",
       "      <th>4</th>\n",
       "      <td>first_affiliate_tracked</td>\n",
       "      <td>0.028491</td>\n",
       "      <td>0.562658</td>\n",
       "    </tr>\n",
       "    <tr>\n",
       "      <th>5</th>\n",
       "      <td>month_registered</td>\n",
       "      <td>0.027786</td>\n",
       "      <td>0.590445</td>\n",
       "    </tr>\n",
       "    <tr>\n",
       "      <th>6</th>\n",
       "      <td>gender</td>\n",
       "      <td>0.027434</td>\n",
       "      <td>0.617878</td>\n",
       "    </tr>\n",
       "    <tr>\n",
       "      <th>7</th>\n",
       "      <td>signup_flow</td>\n",
       "      <td>0.024270</td>\n",
       "      <td>0.642149</td>\n",
       "    </tr>\n",
       "    <tr>\n",
       "      <th>8</th>\n",
       "      <td>year_registered</td>\n",
       "      <td>0.023314</td>\n",
       "      <td>0.665463</td>\n",
       "    </tr>\n",
       "    <tr>\n",
       "      <th>9</th>\n",
       "      <td>count_tos_confirm_-unknown-_-unknown-</td>\n",
       "      <td>0.022732</td>\n",
       "      <td>0.688195</td>\n",
       "    </tr>\n",
       "  </tbody>\n",
       "</table>\n",
       "</div>"
      ],
      "text/plain": [
       "                            feature_name    weight     w_sum\n",
       "0                                    age  0.346725  0.346725\n",
       "1     ai_pending_booking_request_pending  0.104108  0.450833\n",
       "2                              age_group  0.050280  0.501113\n",
       "3                          signup_method  0.033054  0.534167\n",
       "4                first_affiliate_tracked  0.028491  0.562658\n",
       "5                       month_registered  0.027786  0.590445\n",
       "6                                 gender  0.027434  0.617878\n",
       "7                            signup_flow  0.024270  0.642149\n",
       "8                        year_registered  0.023314  0.665463\n",
       "9  count_tos_confirm_-unknown-_-unknown-  0.022732  0.688195"
      ]
     },
     "execution_count": 8,
     "metadata": {},
     "output_type": "execute_result"
    }
   ],
   "source": [
    "fi.head(10)"
   ]
  },
  {
   "cell_type": "code",
   "execution_count": 7,
   "id": "2a4121d5-bbf3-4176-8252-c310569aea7e",
   "metadata": {},
   "outputs": [
    {
     "data": {
      "text/html": [
       "<div>\n",
       "<style scoped>\n",
       "    .dataframe tbody tr th:only-of-type {\n",
       "        vertical-align: middle;\n",
       "    }\n",
       "\n",
       "    .dataframe tbody tr th {\n",
       "        vertical-align: top;\n",
       "    }\n",
       "\n",
       "    .dataframe thead th {\n",
       "        text-align: right;\n",
       "    }\n",
       "</style>\n",
       "<table border=\"1\" class=\"dataframe\">\n",
       "  <thead>\n",
       "    <tr style=\"text-align: right;\">\n",
       "      <th></th>\n",
       "      <th>feature_name</th>\n",
       "      <th>weight</th>\n",
       "      <th>w_sum</th>\n",
       "    </tr>\n",
       "  </thead>\n",
       "  <tbody>\n",
       "    <tr>\n",
       "      <th>6</th>\n",
       "      <td>gender</td>\n",
       "      <td>0.027434</td>\n",
       "      <td>0.617878</td>\n",
       "    </tr>\n",
       "  </tbody>\n",
       "</table>\n",
       "</div>"
      ],
      "text/plain": [
       "  feature_name    weight     w_sum\n",
       "6       gender  0.027434  0.617878"
      ]
     },
     "execution_count": 7,
     "metadata": {},
     "output_type": "execute_result"
    }
   ],
   "source": [
    "fi[fi.feature_name == 'gender']"
   ]
  },
  {
   "cell_type": "markdown",
   "id": "ebd3d569-1b1f-4fd7-bd58-f01bb3600083",
   "metadata": {
    "tags": []
   },
   "source": [
    "### 1.1 If we remove empty_cols columns we would lose approximately 1.4% of feature importance"
   ]
  },
  {
   "cell_type": "code",
   "execution_count": 9,
   "id": "957d181c-8680-4fa7-a508-fba9b150a2d3",
   "metadata": {},
   "outputs": [
    {
     "data": {
      "text/plain": [
       "0.00014591925762891996"
      ]
     },
     "execution_count": 9,
     "metadata": {},
     "output_type": "execute_result"
    }
   ],
   "source": [
    "fi[fi.feature_name.isin(empty_columns)].weight.sum()"
   ]
  },
  {
   "cell_type": "code",
   "execution_count": null,
   "id": "a9c14dc1-62b0-496c-9188-019f61ce5433",
   "metadata": {},
   "outputs": [],
   "source": []
  },
  {
   "cell_type": "code",
   "execution_count": null,
   "id": "fcb690f5-d8e1-44f3-ac24-3afec7bdd752",
   "metadata": {},
   "outputs": [],
   "source": []
  },
  {
   "cell_type": "markdown",
   "id": "2acb24a8-f160-40d1-8ca7-1eb59e9ec1f2",
   "metadata": {},
   "source": [
    "### 2. Generating Low variance columns"
   ]
  },
  {
   "cell_type": "code",
   "execution_count": 10,
   "id": "582697ac-89dd-45a7-bf3c-07fc7ed41a9b",
   "metadata": {},
   "outputs": [
    {
     "data": {
      "text/plain": [
       "49"
      ]
     },
     "execution_count": 10,
     "metadata": {},
     "output_type": "execute_result"
    }
   ],
   "source": [
    "low_variance_columns = ff.get_low_variance_columns(df, threshold=0.0001)\n",
    "len(low_variance_columns)"
   ]
  },
  {
   "cell_type": "code",
   "execution_count": 11,
   "id": "9aabad22-fd5c-40fe-bf68-e2fa32297048",
   "metadata": {},
   "outputs": [
    {
     "data": {
      "text/plain": [
       "0.006943689345756206"
      ]
     },
     "execution_count": 11,
     "metadata": {},
     "output_type": "execute_result"
    }
   ],
   "source": [
    "fi[fi.feature_name.isin(low_variance_columns)].weight.sum()"
   ]
  },
  {
   "cell_type": "code",
   "execution_count": 12,
   "id": "5379fcbc-5778-4662-a975-53525b50bbb3",
   "metadata": {},
   "outputs": [
    {
     "data": {
      "text/plain": [
       "186"
      ]
     },
     "execution_count": 12,
     "metadata": {},
     "output_type": "execute_result"
    }
   ],
   "source": [
    "remove_columns = set(empty_columns).union(set(low_variance_columns))\n",
    "len(remove_columns)"
   ]
  },
  {
   "cell_type": "code",
   "execution_count": 13,
   "id": "83d50e68-1333-4f96-a179-689f905c61a9",
   "metadata": {},
   "outputs": [
    {
     "data": {
      "text/plain": [
       "False"
      ]
     },
     "execution_count": 13,
     "metadata": {},
     "output_type": "execute_result"
    }
   ],
   "source": [
    "'country_destination' in remove_columns"
   ]
  },
  {
   "cell_type": "code",
   "execution_count": null,
   "id": "e43bcd51-8c7d-4f2c-a5e4-08304dd036e3",
   "metadata": {},
   "outputs": [],
   "source": []
  },
  {
   "cell_type": "markdown",
   "id": "ee639f2f-be0f-4d18-95f9-c0abf9a507ce",
   "metadata": {},
   "source": [
    "### 3. Generating highly correlated columns set"
   ]
  },
  {
   "cell_type": "code",
   "execution_count": 14,
   "id": "303916a5-db5a-4b9d-8e49-fd1db87c7503",
   "metadata": {},
   "outputs": [
    {
     "data": {
      "text/plain": [
       "(722, 0.3467250418657691)"
      ]
     },
     "execution_count": 14,
     "metadata": {},
     "output_type": "execute_result"
    }
   ],
   "source": [
    "fi_weights = ff.get_normalized_feature_weights(save_to)\n",
    "len(fi_weights), fi_weights['age']"
   ]
  },
  {
   "cell_type": "code",
   "execution_count": 15,
   "id": "265061bb-1fd6-49c9-baf5-44ac5d8b9bd6",
   "metadata": {},
   "outputs": [
    {
     "data": {
      "text/plain": [
       "(213451, 539)"
      ]
     },
     "execution_count": 15,
     "metadata": {},
     "output_type": "execute_result"
    }
   ],
   "source": [
    "df.drop(remove_columns, axis=1, inplace=True)\n",
    "df.shape"
   ]
  },
  {
   "cell_type": "code",
   "execution_count": 16,
   "id": "d114fc2a-159a-4b1f-9db6-94f07632ff15",
   "metadata": {},
   "outputs": [
    {
     "name": "stderr",
     "output_type": "stream",
     "text": [
      "100%|██████████| 528/528 [00:18<00:00, 28.84it/s]\n"
     ]
    },
    {
     "data": {
      "text/plain": [
       "(174, 3)"
      ]
     },
     "execution_count": 16,
     "metadata": {},
     "output_type": "execute_result"
    }
   ],
   "source": [
    "cdf = ff.get_correlated_features_pairs(df, fi_weights, threshold=0.95)\n",
    "cdf.shape"
   ]
  },
  {
   "cell_type": "code",
   "execution_count": 17,
   "id": "05ce4251-fb05-4f29-b9d7-0690b3cb10d2",
   "metadata": {},
   "outputs": [
    {
     "data": {
      "text/html": [
       "<div>\n",
       "<style scoped>\n",
       "    .dataframe tbody tr th:only-of-type {\n",
       "        vertical-align: middle;\n",
       "    }\n",
       "\n",
       "    .dataframe tbody tr th {\n",
       "        vertical-align: top;\n",
       "    }\n",
       "\n",
       "    .dataframe thead th {\n",
       "        text-align: right;\n",
       "    }\n",
       "</style>\n",
       "<table border=\"1\" class=\"dataframe\">\n",
       "  <thead>\n",
       "    <tr style=\"text-align: right;\">\n",
       "      <th></th>\n",
       "      <th>col1</th>\n",
       "      <th>col2</th>\n",
       "      <th>coef</th>\n",
       "    </tr>\n",
       "  </thead>\n",
       "  <tbody>\n",
       "    <tr>\n",
       "      <th>135</th>\n",
       "      <td>count_acculynk_load_pin_pad_-unknown-_-unknown-</td>\n",
       "      <td>count_acculynk_pin_pad_inactive_-unknown-_-unk...</td>\n",
       "      <td>1.0</td>\n",
       "    </tr>\n",
       "    <tr>\n",
       "      <th>143</th>\n",
       "      <td>count_acculynk_pin_pad_inactive_-unknown-_-unk...</td>\n",
       "      <td>count_acculynk_session_obtained_-unknown-_-unk...</td>\n",
       "      <td>1.0</td>\n",
       "    </tr>\n",
       "    <tr>\n",
       "      <th>137</th>\n",
       "      <td>count_acculynk_pin_pad_inactive_-unknown-_-unk...</td>\n",
       "      <td>count_acculynk_bin_check_success_-unknown-_-un...</td>\n",
       "      <td>1.0</td>\n",
       "    </tr>\n",
       "    <tr>\n",
       "      <th>16</th>\n",
       "      <td>ai_open_graph_setting_-unknown-_-unknown-</td>\n",
       "      <td>ai_click_click_contact_host</td>\n",
       "      <td>1.0</td>\n",
       "    </tr>\n",
       "    <tr>\n",
       "      <th>13</th>\n",
       "      <td>ai_domains_-unknown-_-unknown-</td>\n",
       "      <td>ai_index_view_listing_descriptions</td>\n",
       "      <td>1.0</td>\n",
       "    </tr>\n",
       "  </tbody>\n",
       "</table>\n",
       "</div>"
      ],
      "text/plain": [
       "                                                  col1  \\\n",
       "135    count_acculynk_load_pin_pad_-unknown-_-unknown-   \n",
       "143  count_acculynk_pin_pad_inactive_-unknown-_-unk...   \n",
       "137  count_acculynk_pin_pad_inactive_-unknown-_-unk...   \n",
       "16           ai_open_graph_setting_-unknown-_-unknown-   \n",
       "13                      ai_domains_-unknown-_-unknown-   \n",
       "\n",
       "                                                  col2  coef  \n",
       "135  count_acculynk_pin_pad_inactive_-unknown-_-unk...   1.0  \n",
       "143  count_acculynk_session_obtained_-unknown-_-unk...   1.0  \n",
       "137  count_acculynk_bin_check_success_-unknown-_-un...   1.0  \n",
       "16                         ai_click_click_contact_host   1.0  \n",
       "13                  ai_index_view_listing_descriptions   1.0  "
      ]
     },
     "execution_count": 17,
     "metadata": {},
     "output_type": "execute_result"
    }
   ],
   "source": [
    "cdf.head()"
   ]
  },
  {
   "cell_type": "code",
   "execution_count": 18,
   "id": "5359e020-de16-47ff-97bc-1b82383d42bf",
   "metadata": {},
   "outputs": [
    {
     "data": {
      "text/plain": [
       "11"
      ]
     },
     "execution_count": 18,
     "metadata": {},
     "output_type": "execute_result"
    }
   ],
   "source": [
    "ccs = ff.get_connected_components(cdf)\n",
    "len(ccs)"
   ]
  },
  {
   "cell_type": "code",
   "execution_count": 19,
   "id": "60ddbf3b-7d9e-46c2-8baf-9172ab137a38",
   "metadata": {},
   "outputs": [
    {
     "data": {
      "text/plain": [
       "['age', 'age_group']"
      ]
     },
     "execution_count": 19,
     "metadata": {},
     "output_type": "execute_result"
    }
   ],
   "source": [
    "ccs[-5]"
   ]
  },
  {
   "cell_type": "code",
   "execution_count": 20,
   "id": "2304cac4-831b-468a-abe6-e99b4ef47f57",
   "metadata": {},
   "outputs": [],
   "source": [
    "corr = abs(df.corr())"
   ]
  },
  {
   "cell_type": "code",
   "execution_count": 21,
   "id": "b93b0f03-00e6-4ef0-87fc-a5b4a8b1e1b8",
   "metadata": {},
   "outputs": [
    {
     "data": {
      "text/html": [
       "<div>\n",
       "<style scoped>\n",
       "    .dataframe tbody tr th:only-of-type {\n",
       "        vertical-align: middle;\n",
       "    }\n",
       "\n",
       "    .dataframe tbody tr th {\n",
       "        vertical-align: top;\n",
       "    }\n",
       "\n",
       "    .dataframe thead th {\n",
       "        text-align: right;\n",
       "    }\n",
       "</style>\n",
       "<table border=\"1\" class=\"dataframe\">\n",
       "  <thead>\n",
       "    <tr style=\"text-align: right;\">\n",
       "      <th></th>\n",
       "      <th>age</th>\n",
       "      <th>age_group</th>\n",
       "    </tr>\n",
       "  </thead>\n",
       "  <tbody>\n",
       "    <tr>\n",
       "      <th>age</th>\n",
       "      <td>1.000000</td>\n",
       "      <td>0.988654</td>\n",
       "    </tr>\n",
       "    <tr>\n",
       "      <th>age_group</th>\n",
       "      <td>0.988654</td>\n",
       "      <td>1.000000</td>\n",
       "    </tr>\n",
       "  </tbody>\n",
       "</table>\n",
       "</div>"
      ],
      "text/plain": [
       "                age  age_group\n",
       "age        1.000000   0.988654\n",
       "age_group  0.988654   1.000000"
      ]
     },
     "execution_count": 21,
     "metadata": {},
     "output_type": "execute_result"
    }
   ],
   "source": [
    "ix = -5\n",
    "corr[ccs[ix]][corr.index.isin(ccs[ix]) | corr.index.isin(ccs[ix])]"
   ]
  },
  {
   "cell_type": "code",
   "execution_count": 25,
   "id": "a622c33b-4d15-4919-9d2b-ba07949ebd9a",
   "metadata": {},
   "outputs": [
    {
     "data": {
      "text/html": [
       "<div>\n",
       "<style scoped>\n",
       "    .dataframe tbody tr th:only-of-type {\n",
       "        vertical-align: middle;\n",
       "    }\n",
       "\n",
       "    .dataframe tbody tr th {\n",
       "        vertical-align: top;\n",
       "    }\n",
       "\n",
       "    .dataframe thead th {\n",
       "        text-align: right;\n",
       "    }\n",
       "</style>\n",
       "<table border=\"1\" class=\"dataframe\">\n",
       "  <thead>\n",
       "    <tr style=\"text-align: right;\">\n",
       "      <th></th>\n",
       "      <th>feature_name</th>\n",
       "      <th>weight</th>\n",
       "      <th>w_sum</th>\n",
       "    </tr>\n",
       "  </thead>\n",
       "  <tbody>\n",
       "    <tr>\n",
       "      <th>186</th>\n",
       "      <td>count_coupon_field_focus_click_coupon_field_focus</td>\n",
       "      <td>0.000021</td>\n",
       "      <td>0.999797</td>\n",
       "    </tr>\n",
       "    <tr>\n",
       "      <th>342</th>\n",
       "      <td>count_apply_coupon_click_click_apply_coupon_click</td>\n",
       "      <td>0.000000</td>\n",
       "      <td>1.000000</td>\n",
       "    </tr>\n",
       "    <tr>\n",
       "      <th>352</th>\n",
       "      <td>count_apply_coupon_error_type_-unknown-_-unknown-</td>\n",
       "      <td>0.000000</td>\n",
       "      <td>1.000000</td>\n",
       "    </tr>\n",
       "    <tr>\n",
       "      <th>391</th>\n",
       "      <td>count_apply_coupon_error_click_apply_coupon_error</td>\n",
       "      <td>0.000000</td>\n",
       "      <td>1.000000</td>\n",
       "    </tr>\n",
       "  </tbody>\n",
       "</table>\n",
       "</div>"
      ],
      "text/plain": [
       "                                          feature_name    weight     w_sum\n",
       "186  count_coupon_field_focus_click_coupon_field_focus  0.000021  0.999797\n",
       "342  count_apply_coupon_click_click_apply_coupon_click  0.000000  1.000000\n",
       "352  count_apply_coupon_error_type_-unknown-_-unknown-  0.000000  1.000000\n",
       "391  count_apply_coupon_error_click_apply_coupon_error  0.000000  1.000000"
      ]
     },
     "execution_count": 25,
     "metadata": {},
     "output_type": "execute_result"
    }
   ],
   "source": [
    "fi[fi.feature_name.isin(ccs[ix])].head()"
   ]
  },
  {
   "cell_type": "code",
   "execution_count": 27,
   "id": "81fe66a4-6a73-4b7c-bb7f-596f610ad5ec",
   "metadata": {},
   "outputs": [],
   "source": [
    "# len(highly_correlated_features)"
   ]
  },
  {
   "cell_type": "code",
   "execution_count": 22,
   "id": "9faea28d-a435-4185-8e1c-761b68df7a83",
   "metadata": {},
   "outputs": [
    {
     "name": "stdout",
     "output_type": "stream",
     "text": [
      "started selection of removal candidates:\n",
      "ccs and fi_weights sizes: (11, 722)\n",
      "removing all but first in each group:\n",
      "\n",
      "~~~~~~~~~~~~~~~~~~~~~~~~~~~~~~~\n",
      "count_acculynk_pin_pad_inactive_-unknown-_-unknown-\n",
      "count_acculynk_bin_check_success_-unknown-_-unknown-\n",
      "count_acculynk_load_pin_pad_-unknown-_-unknown-\n",
      "count_acculynk_session_obtained_-unknown-_-unknown-\n",
      "~~~~~~~~~~~~~~~~~~~~~~~~~~~~~~~\n",
      "ai_login_modal_view_login_modal\n",
      "ai_new_view_list_your_space\n",
      "ai_qt_reply_v2_submit_send_message\n",
      "ai_click_click_book_it\n",
      "ai_similar_listings_v2_nan_nan\n",
      "ai_click_click_contact_host\n",
      "ai_payment_instruments_data_payment_instruments\n",
      "size\n",
      "ai_faq_-unknown-_-unknown-\n",
      "ai_index_view_listing_descriptions\n",
      "ai_notifications_data_notifications\n",
      "ai_impressions_view_p4\n",
      "seassion_length\n",
      "ai_update_submit_update_listing_description\n",
      "ai_domains_-unknown-_-unknown-\n",
      "ai_complete_redirect_-unknown-_-unknown-\n",
      "ai_signup_login_view_signup_login_page\n",
      "ai_referrer_status_-unknown-_-unknown-\n",
      "ai_agree_terms_check_-unknown-_-unknown-\n",
      "ai_create_submit_create_phone_numbers\n",
      "ai_my_view_user_wishlists\n",
      "ai_show_view_wishlist\n",
      "ai_message_to_host_change_click_message_to_host_change\n",
      "ai_connect_submit_oauth_login\n",
      "ai_update_submit_update_user\n",
      "ai_payment_methods_-unknown-_-unknown-\n",
      "ai_create_view_list_your_space\n",
      "ai_at_checkpoint_booking_request_at_checkpoint\n",
      "ai_populate_help_dropdown_-unknown-_-unknown-\n",
      "ai_verify_-unknown-_-unknown-\n",
      "ai_apply_reservation_submit_apply_coupon\n",
      "ai_kba_update_-unknown-_-unknown-\n",
      "ai_jumio_token_-unknown-_-unknown-\n",
      "ai_jumio_redirect_-unknown-_-unknown-\n",
      "ai_ajax_image_upload_-unknown-_-unknown-\n",
      "ai_reviews_data_user_reviews\n",
      "ai_this_hosting_reviews_click_listing_reviews_page\n",
      "ai_ajax_lwlb_contact_click_contact_host\n",
      "ai_open_graph_setting_-unknown-_-unknown-\n",
      "ai_references_view_profile_references\n",
      "ai_populate_from_facebook_-unknown-_-unknown-\n",
      "ai_kba_-unknown-_-unknown-\n",
      "ai_requested_submit_post_checkout_action\n",
      "ai_languages_multiselect_-unknown-_-unknown-\n",
      "ai_set_user_submit_create_listing\n",
      "ai_requested_view_p5\n",
      "ai_manage_listing_view_manage_listing\n",
      "ai_confirm_email_click_confirm_email_link\n",
      "~~~~~~~~~~~~~~~~~~~~~~~~~~~~~~~\n",
      "count_callback_partner_callback_oauth_response\n",
      "at_partner_callback\n",
      "~~~~~~~~~~~~~~~~~~~~~~~~~~~~~~~\n",
      "deltas_min\n",
      "deltas_mode\n",
      "~~~~~~~~~~~~~~~~~~~~~~~~~~~~~~~\n",
      "count_apply_coupon_error_click_apply_coupon_error\n",
      "count_apply_coupon_error_type_-unknown-_-unknown-\n",
      "count_apply_coupon_click_click_apply_coupon_click\n",
      "count_coupon_field_focus_click_coupon_field_focus\n",
      "~~~~~~~~~~~~~~~~~~~~~~~~~~~~~~~\n",
      "deltas_median\n",
      "deltas_no_median\n",
      "deltas_no_mean\n",
      "~~~~~~~~~~~~~~~~~~~~~~~~~~~~~~~\n",
      "age_group\n",
      "age\n",
      "~~~~~~~~~~~~~~~~~~~~~~~~~~~~~~~\n",
      "count_signature_-unknown-_-unknown-\n",
      "count_complete_-unknown-_-unknown-\n",
      "~~~~~~~~~~~~~~~~~~~~~~~~~~~~~~~\n",
      "count_recent_reservations_-unknown-_-unknown-\n",
      "count_decision_tree_-unknown-_-unknown-\n",
      "~~~~~~~~~~~~~~~~~~~~~~~~~~~~~~~\n",
      "count_social_connections_data_user_social_connections\n",
      "count_show_view_user_profile\n",
      "~~~~~~~~~~~~~~~~~~~~~~~~~~~~~~~\n",
      "at_message_post\n",
      "count_nan_message_post_message_post\n",
      "selected for removal features count: 62\n"
     ]
    }
   ],
   "source": [
    "highly_correlated_features = ff.get_highly_correlated_removal_candidates(ccs, fi_weights, verbose=1)"
   ]
  },
  {
   "cell_type": "code",
   "execution_count": null,
   "id": "4be3f418-c895-47a6-b93c-292ebbe169f3",
   "metadata": {},
   "outputs": [],
   "source": []
  },
  {
   "cell_type": "code",
   "execution_count": null,
   "id": "ece57133-59bd-49b6-aa28-bf7929a8d448",
   "metadata": {},
   "outputs": [],
   "source": []
  },
  {
   "cell_type": "code",
   "execution_count": null,
   "id": "eb812be7-72f8-497f-be5f-a4434f4ec7d3",
   "metadata": {},
   "outputs": [],
   "source": []
  },
  {
   "cell_type": "code",
   "execution_count": 23,
   "id": "9f3303a2-ce6b-49d2-9f46-ef8c7f768d49",
   "metadata": {},
   "outputs": [
    {
     "data": {
      "text/plain": [
       "248"
      ]
     },
     "execution_count": 23,
     "metadata": {},
     "output_type": "execute_result"
    }
   ],
   "source": [
    "remove_columns = remove_columns.union(set(highly_correlated_features))\n",
    "len(remove_columns)"
   ]
  },
  {
   "cell_type": "code",
   "execution_count": null,
   "id": "0b405078-abc3-49df-ad5a-2129e3753a47",
   "metadata": {},
   "outputs": [
    {
     "ename": "NameError",
     "evalue": "name 'remove_columns' is not defined",
     "output_type": "error",
     "traceback": [
      "\u001b[0;31m---------------------------------------------------------------------------\u001b[0m",
      "\u001b[0;31mNameError\u001b[0m                                 Traceback (most recent call last)",
      "\u001b[0;32m/tmp/ipykernel_1662/3338215729.py\u001b[0m in \u001b[0;36m<module>\u001b[0;34m\u001b[0m\n\u001b[0;32m----> 1\u001b[0;31m \u001b[0;34m'country_of_destination'\u001b[0m \u001b[0;32min\u001b[0m \u001b[0mremove_columns\u001b[0m\u001b[0;34m\u001b[0m\u001b[0;34m\u001b[0m\u001b[0m\n\u001b[0m",
      "\u001b[0;31mNameError\u001b[0m: name 'remove_columns' is not defined"
     ]
    }
   ],
   "source": [
    "'country_destination' in remove_columns"
   ]
  },
  {
   "cell_type": "code",
   "execution_count": null,
   "id": "1ce369a9-ea97-4273-9c26-72685594be2b",
   "metadata": {},
   "outputs": [],
   "source": []
  },
  {
   "cell_type": "markdown",
   "id": "f9d4d9f1-b236-4fc3-9e92-151fa0422729",
   "metadata": {},
   "source": [
    "### 4. Dropping filtered columns and saving data. Repeating same process for test set"
   ]
  },
  {
   "cell_type": "code",
   "execution_count": 27,
   "id": "1d934f8a-a163-4373-a79c-9b890f17de04",
   "metadata": {},
   "outputs": [
    {
     "data": {
      "text/plain": [
       "(213451, 477)"
      ]
     },
     "execution_count": 27,
     "metadata": {},
     "output_type": "execute_result"
    }
   ],
   "source": [
    "remove_columns = list(set(remove_columns).intersection(set(df)))\n",
    "df.drop(remove_columns, axis=1, inplace=True)\n",
    "df.shape"
   ]
  },
  {
   "cell_type": "code",
   "execution_count": 28,
   "id": "74ef1dc2-d44b-4f5c-b506-2808edcde2a5",
   "metadata": {},
   "outputs": [
    {
     "data": {
      "text/plain": [
       "(62096, 725)"
      ]
     },
     "execution_count": 28,
     "metadata": {},
     "output_type": "execute_result"
    }
   ],
   "source": [
    "test_df = pd.read_parquet('../data/processed/test_features.parquet')\n",
    "test_df.shape"
   ]
  },
  {
   "cell_type": "code",
   "execution_count": 29,
   "id": "13d2068f-8675-47f3-ab3f-b8f4effcc41e",
   "metadata": {},
   "outputs": [
    {
     "data": {
      "text/plain": [
       "(62096, 663)"
      ]
     },
     "execution_count": 29,
     "metadata": {},
     "output_type": "execute_result"
    }
   ],
   "source": [
    "test_df.drop(remove_columns, axis=1, inplace=True)\n",
    "test_df.shape"
   ]
  },
  {
   "cell_type": "code",
   "execution_count": null,
   "id": "97083837-dc06-4213-8668-4b487c20a073",
   "metadata": {},
   "outputs": [],
   "source": []
  },
  {
   "cell_type": "code",
   "execution_count": 32,
   "id": "bc8aa857-4ab8-4b47-bfab-3e8ef26b4929",
   "metadata": {},
   "outputs": [],
   "source": [
    "df.to_parquet('../data/processed/train_features_uncorr.parquet')"
   ]
  },
  {
   "cell_type": "code",
   "execution_count": 33,
   "id": "6435c2ef-90ce-405f-b77c-3e82c4e98a8a",
   "metadata": {},
   "outputs": [],
   "source": [
    "test_df.to_parquet('../data/processed/test_features_uncorr.parquet')"
   ]
  },
  {
   "cell_type": "code",
   "execution_count": null,
   "id": "c2689785-c33d-47e1-ae30-ced9dde3070d",
   "metadata": {},
   "outputs": [],
   "source": []
  },
  {
   "cell_type": "code",
   "execution_count": null,
   "id": "e8dd679b-2314-4ebf-9cae-b8049c41e10a",
   "metadata": {},
   "outputs": [],
   "source": []
  },
  {
   "cell_type": "code",
   "execution_count": null,
   "id": "955223b7-db43-4d94-a013-9c36da706cc3",
   "metadata": {},
   "outputs": [],
   "source": []
  },
  {
   "cell_type": "code",
   "execution_count": null,
   "id": "8466c22c-d7a1-4fc6-89c2-b542da84bc67",
   "metadata": {},
   "outputs": [],
   "source": []
  },
  {
   "cell_type": "code",
   "execution_count": 41,
   "id": "6f4ede7f-8074-48ba-af06-325af4d7701f",
   "metadata": {},
   "outputs": [
    {
     "data": {
      "text/html": [
       "<div>\n",
       "<style scoped>\n",
       "    .dataframe tbody tr th:only-of-type {\n",
       "        vertical-align: middle;\n",
       "    }\n",
       "\n",
       "    .dataframe tbody tr th {\n",
       "        vertical-align: top;\n",
       "    }\n",
       "\n",
       "    .dataframe thead th {\n",
       "        text-align: right;\n",
       "    }\n",
       "</style>\n",
       "<table border=\"1\" class=\"dataframe\">\n",
       "  <thead>\n",
       "    <tr style=\"text-align: right;\">\n",
       "      <th></th>\n",
       "      <th>feature_name</th>\n",
       "      <th>weight</th>\n",
       "      <th>w_sum</th>\n",
       "    </tr>\n",
       "  </thead>\n",
       "  <tbody>\n",
       "    <tr>\n",
       "      <th>1</th>\n",
       "      <td>ai_pending_booking_request_pending</td>\n",
       "      <td>0.104108</td>\n",
       "      <td>0.450833</td>\n",
       "    </tr>\n",
       "    <tr>\n",
       "      <th>18</th>\n",
       "      <td>ai_nan_message_post_message_post</td>\n",
       "      <td>0.005562</td>\n",
       "      <td>0.808378</td>\n",
       "    </tr>\n",
       "    <tr>\n",
       "      <th>19</th>\n",
       "      <td>ai_confirm_email_click_confirm_email_link</td>\n",
       "      <td>0.005545</td>\n",
       "      <td>0.813923</td>\n",
       "    </tr>\n",
       "    <tr>\n",
       "      <th>22</th>\n",
       "      <td>ai_update_submit_update_listing</td>\n",
       "      <td>0.004765</td>\n",
       "      <td>0.829002</td>\n",
       "    </tr>\n",
       "    <tr>\n",
       "      <th>23</th>\n",
       "      <td>ai_dashboard_view_dashboard</td>\n",
       "      <td>0.004585</td>\n",
       "      <td>0.833586</td>\n",
       "    </tr>\n",
       "    <tr>\n",
       "      <th>27</th>\n",
       "      <td>ai_show_nan_nan</td>\n",
       "      <td>0.003879</td>\n",
       "      <td>0.850703</td>\n",
       "    </tr>\n",
       "    <tr>\n",
       "      <th>29</th>\n",
       "      <td>ai_header_userpic_data_header_userpic</td>\n",
       "      <td>0.003653</td>\n",
       "      <td>0.858110</td>\n",
       "    </tr>\n",
       "    <tr>\n",
       "      <th>38</th>\n",
       "      <td>ai_manage_listing_view_manage_listing</td>\n",
       "      <td>0.002817</td>\n",
       "      <td>0.885617</td>\n",
       "    </tr>\n",
       "    <tr>\n",
       "      <th>42</th>\n",
       "      <td>ai_ajax_refresh_subtotal_click_change_trip_cha...</td>\n",
       "      <td>0.002489</td>\n",
       "      <td>0.896126</td>\n",
       "    </tr>\n",
       "    <tr>\n",
       "      <th>43</th>\n",
       "      <td>ai_requested_view_p5</td>\n",
       "      <td>0.002484</td>\n",
       "      <td>0.898610</td>\n",
       "    </tr>\n",
       "    <tr>\n",
       "      <th>44</th>\n",
       "      <td>ai_show_personalize_data_user_profile_content_...</td>\n",
       "      <td>0.002480</td>\n",
       "      <td>0.901090</td>\n",
       "    </tr>\n",
       "    <tr>\n",
       "      <th>47</th>\n",
       "      <td>ai_index_-unknown-_-unknown-</td>\n",
       "      <td>0.002322</td>\n",
       "      <td>0.908167</td>\n",
       "    </tr>\n",
       "    <tr>\n",
       "      <th>50</th>\n",
       "      <td>ai_create_submit_create_user</td>\n",
       "      <td>0.002077</td>\n",
       "      <td>0.914547</td>\n",
       "    </tr>\n",
       "    <tr>\n",
       "      <th>51</th>\n",
       "      <td>ai_lookup_nan_nan</td>\n",
       "      <td>0.001997</td>\n",
       "      <td>0.916544</td>\n",
       "    </tr>\n",
       "    <tr>\n",
       "      <th>54</th>\n",
       "      <td>ai_ask_question_submit_contact_host</td>\n",
       "      <td>0.001805</td>\n",
       "      <td>0.922040</td>\n",
       "    </tr>\n",
       "    <tr>\n",
       "      <th>56</th>\n",
       "      <td>ai_create_submit_signup</td>\n",
       "      <td>0.001715</td>\n",
       "      <td>0.925507</td>\n",
       "    </tr>\n",
       "    <tr>\n",
       "      <th>61</th>\n",
       "      <td>ai_other_hosting_reviews_first_-unknown-_-unkn...</td>\n",
       "      <td>0.001574</td>\n",
       "      <td>0.933714</td>\n",
       "    </tr>\n",
       "    <tr>\n",
       "      <th>62</th>\n",
       "      <td>ai_create_-unknown-_-unknown-</td>\n",
       "      <td>0.001535</td>\n",
       "      <td>0.935249</td>\n",
       "    </tr>\n",
       "    <tr>\n",
       "      <th>63</th>\n",
       "      <td>ai_set_user_submit_create_listing</td>\n",
       "      <td>0.001531</td>\n",
       "      <td>0.936780</td>\n",
       "    </tr>\n",
       "    <tr>\n",
       "      <th>67</th>\n",
       "      <td>ai_languages_multiselect_-unknown-_-unknown-</td>\n",
       "      <td>0.001436</td>\n",
       "      <td>0.942670</td>\n",
       "    </tr>\n",
       "  </tbody>\n",
       "</table>\n",
       "</div>"
      ],
      "text/plain": [
       "                                         feature_name    weight     w_sum\n",
       "1                  ai_pending_booking_request_pending  0.104108  0.450833\n",
       "18                   ai_nan_message_post_message_post  0.005562  0.808378\n",
       "19          ai_confirm_email_click_confirm_email_link  0.005545  0.813923\n",
       "22                    ai_update_submit_update_listing  0.004765  0.829002\n",
       "23                        ai_dashboard_view_dashboard  0.004585  0.833586\n",
       "27                                    ai_show_nan_nan  0.003879  0.850703\n",
       "29              ai_header_userpic_data_header_userpic  0.003653  0.858110\n",
       "38              ai_manage_listing_view_manage_listing  0.002817  0.885617\n",
       "42  ai_ajax_refresh_subtotal_click_change_trip_cha...  0.002489  0.896126\n",
       "43                               ai_requested_view_p5  0.002484  0.898610\n",
       "44  ai_show_personalize_data_user_profile_content_...  0.002480  0.901090\n",
       "47                       ai_index_-unknown-_-unknown-  0.002322  0.908167\n",
       "50                       ai_create_submit_create_user  0.002077  0.914547\n",
       "51                                  ai_lookup_nan_nan  0.001997  0.916544\n",
       "54                ai_ask_question_submit_contact_host  0.001805  0.922040\n",
       "56                            ai_create_submit_signup  0.001715  0.925507\n",
       "61  ai_other_hosting_reviews_first_-unknown-_-unkn...  0.001574  0.933714\n",
       "62                      ai_create_-unknown-_-unknown-  0.001535  0.935249\n",
       "63                  ai_set_user_submit_create_listing  0.001531  0.936780\n",
       "67       ai_languages_multiselect_-unknown-_-unknown-  0.001436  0.942670"
      ]
     },
     "execution_count": 41,
     "metadata": {},
     "output_type": "execute_result"
    }
   ],
   "source": [
    "fi[fi.feature_name.str.startswith('ai_')].head(20)"
   ]
  },
  {
   "cell_type": "code",
   "execution_count": null,
   "id": "117bb435-fc83-4be3-8771-0c737ca558c3",
   "metadata": {},
   "outputs": [],
   "source": []
  },
  {
   "cell_type": "code",
   "execution_count": null,
   "id": "b06402ef-5af2-4c5b-b4d2-b4d3a809d6de",
   "metadata": {},
   "outputs": [],
   "source": []
  },
  {
   "cell_type": "code",
   "execution_count": 2,
   "id": "0ba1d54c-3279-4bad-80ab-6f6284ef5d9e",
   "metadata": {},
   "outputs": [
    {
     "data": {
      "text/plain": [
       "(275547, 16)"
      ]
     },
     "execution_count": 2,
     "metadata": {},
     "output_type": "execute_result"
    },
    {
     "name": "stdout",
     "output_type": "stream",
     "text": [
      "time: 377 ms (started: 2021-09-07 11:42:12 +00:00)\n"
     ]
    }
   ],
   "source": [
    "users = pd.read_parquet('../data/processed/users.parquet')\n",
    "users.shape"
   ]
  },
  {
   "cell_type": "code",
   "execution_count": 3,
   "id": "98cbfa4f-370a-4608-80ea-80ced5c0ac66",
   "metadata": {},
   "outputs": [
    {
     "data": {
      "text/plain": [
       "(10533241, 7)"
      ]
     },
     "execution_count": 3,
     "metadata": {},
     "output_type": "execute_result"
    },
    {
     "name": "stdout",
     "output_type": "stream",
     "text": [
      "time: 2.64 s (started: 2021-09-07 11:42:13 +00:00)\n"
     ]
    }
   ],
   "source": [
    "sessions = pd.read_parquet('../data/processed/sessions.parquet')\n",
    "sessions.shape"
   ]
  },
  {
   "cell_type": "code",
   "execution_count": 5,
   "id": "370095cd-6345-4e7b-a1ee-fe6cac3d2feb",
   "metadata": {},
   "outputs": [
    {
     "data": {
      "text/plain": [
       "(213451, 725)"
      ]
     },
     "execution_count": 5,
     "metadata": {},
     "output_type": "execute_result"
    }
   ],
   "source": [
    "df = pd.read_parquet('../data/processed/train_features.parquet')\n",
    "df.shape"
   ]
  },
  {
   "cell_type": "code",
   "execution_count": 7,
   "id": "5b88c46d-fb09-4d3f-83bd-212f69a0e959",
   "metadata": {},
   "outputs": [
    {
     "data": {
      "text/plain": [
       "NDF      0.583473\n",
       "US       0.292226\n",
       "other    0.047290\n",
       "FR       0.023532\n",
       "IT       0.013282\n",
       "GB       0.010888\n",
       "ES       0.010536\n",
       "CA       0.006690\n",
       "DE       0.004971\n",
       "NL       0.003570\n",
       "AU       0.002525\n",
       "PT       0.001017\n",
       "Name: country_destination, dtype: float64"
      ]
     },
     "execution_count": 7,
     "metadata": {},
     "output_type": "execute_result"
    }
   ],
   "source": [
    "df.country_destination.value_counts(normalize=True)"
   ]
  },
  {
   "cell_type": "code",
   "execution_count": null,
   "id": "5524b436-3c84-421f-ac3f-0fcdee2988ea",
   "metadata": {},
   "outputs": [],
   "source": [
    "df.country_destination.value_counts(dropna=False)"
   ]
  },
  {
   "cell_type": "code",
   "execution_count": null,
   "id": "69c12fbd-52f3-4929-8929-24681ab9a3cb",
   "metadata": {},
   "outputs": [],
   "source": [
    "(NDF, US, other) - (Universum - (NDF, US, other))"
   ]
  },
  {
   "cell_type": "code",
   "execution_count": 4,
   "id": "34ec911e-abf0-4e70-9d4c-357902ff53c4",
   "metadata": {},
   "outputs": [
    {
     "data": {
      "text/html": [
       "<div>\n",
       "<style scoped>\n",
       "    .dataframe tbody tr th:only-of-type {\n",
       "        vertical-align: middle;\n",
       "    }\n",
       "\n",
       "    .dataframe tbody tr th {\n",
       "        vertical-align: top;\n",
       "    }\n",
       "\n",
       "    .dataframe thead th {\n",
       "        text-align: right;\n",
       "    }\n",
       "</style>\n",
       "<table border=\"1\" class=\"dataframe\">\n",
       "  <thead>\n",
       "    <tr style=\"text-align: right;\">\n",
       "      <th></th>\n",
       "      <th>user_id</th>\n",
       "      <th>action</th>\n",
       "      <th>action_type</th>\n",
       "      <th>action_detail</th>\n",
       "      <th>device_type</th>\n",
       "      <th>secs_elapsed</th>\n",
       "      <th>action_info</th>\n",
       "    </tr>\n",
       "  </thead>\n",
       "  <tbody>\n",
       "    <tr>\n",
       "      <th>0</th>\n",
       "      <td>d1mm9tcy42</td>\n",
       "      <td>lookup</td>\n",
       "      <td>None</td>\n",
       "      <td>None</td>\n",
       "      <td>Windows Desktop</td>\n",
       "      <td>319.0</td>\n",
       "      <td>lookup_nan_nan</td>\n",
       "    </tr>\n",
       "    <tr>\n",
       "      <th>1</th>\n",
       "      <td>d1mm9tcy42</td>\n",
       "      <td>search_results</td>\n",
       "      <td>click</td>\n",
       "      <td>view_search_results</td>\n",
       "      <td>Windows Desktop</td>\n",
       "      <td>67753.0</td>\n",
       "      <td>search_results_click_view_search_results</td>\n",
       "    </tr>\n",
       "    <tr>\n",
       "      <th>2</th>\n",
       "      <td>d1mm9tcy42</td>\n",
       "      <td>lookup</td>\n",
       "      <td>None</td>\n",
       "      <td>None</td>\n",
       "      <td>Windows Desktop</td>\n",
       "      <td>301.0</td>\n",
       "      <td>lookup_nan_nan</td>\n",
       "    </tr>\n",
       "    <tr>\n",
       "      <th>3</th>\n",
       "      <td>d1mm9tcy42</td>\n",
       "      <td>search_results</td>\n",
       "      <td>click</td>\n",
       "      <td>view_search_results</td>\n",
       "      <td>Windows Desktop</td>\n",
       "      <td>22141.0</td>\n",
       "      <td>search_results_click_view_search_results</td>\n",
       "    </tr>\n",
       "    <tr>\n",
       "      <th>4</th>\n",
       "      <td>d1mm9tcy42</td>\n",
       "      <td>lookup</td>\n",
       "      <td>None</td>\n",
       "      <td>None</td>\n",
       "      <td>Windows Desktop</td>\n",
       "      <td>435.0</td>\n",
       "      <td>lookup_nan_nan</td>\n",
       "    </tr>\n",
       "  </tbody>\n",
       "</table>\n",
       "</div>"
      ],
      "text/plain": [
       "      user_id          action action_type        action_detail  \\\n",
       "0  d1mm9tcy42          lookup        None                 None   \n",
       "1  d1mm9tcy42  search_results       click  view_search_results   \n",
       "2  d1mm9tcy42          lookup        None                 None   \n",
       "3  d1mm9tcy42  search_results       click  view_search_results   \n",
       "4  d1mm9tcy42          lookup        None                 None   \n",
       "\n",
       "       device_type  secs_elapsed                               action_info  \n",
       "0  Windows Desktop         319.0                            lookup_nan_nan  \n",
       "1  Windows Desktop       67753.0  search_results_click_view_search_results  \n",
       "2  Windows Desktop         301.0                            lookup_nan_nan  \n",
       "3  Windows Desktop       22141.0  search_results_click_view_search_results  \n",
       "4  Windows Desktop         435.0                            lookup_nan_nan  "
      ]
     },
     "execution_count": 4,
     "metadata": {},
     "output_type": "execute_result"
    }
   ],
   "source": [
    "df.head()"
   ]
  },
  {
   "cell_type": "code",
   "execution_count": null,
   "id": "00c87167-028a-44fc-8bc5-0769340589f8",
   "metadata": {},
   "outputs": [],
   "source": [
    "'action_info' in list"
   ]
  },
  {
   "cell_type": "code",
   "execution_count": 3,
   "id": "48a4452d-7a60-47bf-8065-43bfe96a0f9a",
   "metadata": {},
   "outputs": [
    {
     "ename": "AttributeError",
     "evalue": "'DataFrame' object has no attribute 'country_destination'",
     "output_type": "error",
     "traceback": [
      "\u001b[0;31m---------------------------------------------------------------------------\u001b[0m",
      "\u001b[0;31mAttributeError\u001b[0m                            Traceback (most recent call last)",
      "\u001b[0;32m/tmp/ipykernel_1761/4233626355.py\u001b[0m in \u001b[0;36m<module>\u001b[0;34m\u001b[0m\n\u001b[0;32m----> 1\u001b[0;31m \u001b[0mdf\u001b[0m\u001b[0;34m.\u001b[0m\u001b[0mcountry_destination\u001b[0m\u001b[0;34m.\u001b[0m\u001b[0mvalue_counts\u001b[0m\u001b[0;34m(\u001b[0m\u001b[0;34m)\u001b[0m\u001b[0;34m\u001b[0m\u001b[0;34m\u001b[0m\u001b[0m\n\u001b[0m",
      "\u001b[0;32m/opt/conda/lib/python3.9/site-packages/pandas/core/generic.py\u001b[0m in \u001b[0;36m__getattr__\u001b[0;34m(self, name)\u001b[0m\n\u001b[1;32m   5485\u001b[0m         ):\n\u001b[1;32m   5486\u001b[0m             \u001b[0;32mreturn\u001b[0m \u001b[0mself\u001b[0m\u001b[0;34m[\u001b[0m\u001b[0mname\u001b[0m\u001b[0;34m]\u001b[0m\u001b[0;34m\u001b[0m\u001b[0;34m\u001b[0m\u001b[0m\n\u001b[0;32m-> 5487\u001b[0;31m         \u001b[0;32mreturn\u001b[0m \u001b[0mobject\u001b[0m\u001b[0;34m.\u001b[0m\u001b[0m__getattribute__\u001b[0m\u001b[0;34m(\u001b[0m\u001b[0mself\u001b[0m\u001b[0;34m,\u001b[0m \u001b[0mname\u001b[0m\u001b[0;34m)\u001b[0m\u001b[0;34m\u001b[0m\u001b[0;34m\u001b[0m\u001b[0m\n\u001b[0m\u001b[1;32m   5488\u001b[0m \u001b[0;34m\u001b[0m\u001b[0m\n\u001b[1;32m   5489\u001b[0m     \u001b[0;32mdef\u001b[0m \u001b[0m__setattr__\u001b[0m\u001b[0;34m(\u001b[0m\u001b[0mself\u001b[0m\u001b[0;34m,\u001b[0m \u001b[0mname\u001b[0m\u001b[0;34m:\u001b[0m \u001b[0mstr\u001b[0m\u001b[0;34m,\u001b[0m \u001b[0mvalue\u001b[0m\u001b[0;34m)\u001b[0m \u001b[0;34m->\u001b[0m \u001b[0;32mNone\u001b[0m\u001b[0;34m:\u001b[0m\u001b[0;34m\u001b[0m\u001b[0;34m\u001b[0m\u001b[0m\n",
      "\u001b[0;31mAttributeError\u001b[0m: 'DataFrame' object has no attribute 'country_destination'"
     ]
    }
   ],
   "source": [
    "df.country_destination.value_counts()"
   ]
  },
  {
   "cell_type": "code",
   "execution_count": 13,
   "id": "6840cc95-953f-47ae-9edb-784e59efc8a7",
   "metadata": {},
   "outputs": [
    {
     "ename": "AttributeError",
     "evalue": "'DataFrame' object has no attribute 'action_info'",
     "output_type": "error",
     "traceback": [
      "\u001b[0;31m---------------------------------------------------------------------------\u001b[0m",
      "\u001b[0;31mAttributeError\u001b[0m                            Traceback (most recent call last)",
      "\u001b[0;32m/tmp/ipykernel_1662/711896020.py\u001b[0m in \u001b[0;36m<module>\u001b[0;34m\u001b[0m\n\u001b[0;32m----> 1\u001b[0;31m \u001b[0mother_countries_ai\u001b[0m \u001b[0;34m=\u001b[0m \u001b[0mdf\u001b[0m\u001b[0;34m[\u001b[0m\u001b[0;34m~\u001b[0m\u001b[0mdf\u001b[0m\u001b[0;34m.\u001b[0m\u001b[0mcountry_destination\u001b[0m\u001b[0;34m.\u001b[0m\u001b[0misin\u001b[0m\u001b[0;34m(\u001b[0m\u001b[0;34m{\u001b[0m\u001b[0;34m'NDF'\u001b[0m\u001b[0;34m,\u001b[0m \u001b[0;34m'US'\u001b[0m\u001b[0;34m,\u001b[0m \u001b[0;34m'other'\u001b[0m\u001b[0;34m}\u001b[0m\u001b[0;34m)\u001b[0m\u001b[0;34m]\u001b[0m\u001b[0;34m.\u001b[0m\u001b[0maction_info\u001b[0m\u001b[0;34m.\u001b[0m\u001b[0mtolist\u001b[0m\u001b[0;34m(\u001b[0m\u001b[0;34m)\u001b[0m\u001b[0;34m\u001b[0m\u001b[0;34m\u001b[0m\u001b[0m\n\u001b[0m",
      "\u001b[0;32m/opt/conda/lib/python3.9/site-packages/pandas/core/generic.py\u001b[0m in \u001b[0;36m__getattr__\u001b[0;34m(self, name)\u001b[0m\n\u001b[1;32m   5485\u001b[0m         ):\n\u001b[1;32m   5486\u001b[0m             \u001b[0;32mreturn\u001b[0m \u001b[0mself\u001b[0m\u001b[0;34m[\u001b[0m\u001b[0mname\u001b[0m\u001b[0;34m]\u001b[0m\u001b[0;34m\u001b[0m\u001b[0;34m\u001b[0m\u001b[0m\n\u001b[0;32m-> 5487\u001b[0;31m         \u001b[0;32mreturn\u001b[0m \u001b[0mobject\u001b[0m\u001b[0;34m.\u001b[0m\u001b[0m__getattribute__\u001b[0m\u001b[0;34m(\u001b[0m\u001b[0mself\u001b[0m\u001b[0;34m,\u001b[0m \u001b[0mname\u001b[0m\u001b[0;34m)\u001b[0m\u001b[0;34m\u001b[0m\u001b[0;34m\u001b[0m\u001b[0m\n\u001b[0m\u001b[1;32m   5488\u001b[0m \u001b[0;34m\u001b[0m\u001b[0m\n\u001b[1;32m   5489\u001b[0m     \u001b[0;32mdef\u001b[0m \u001b[0m__setattr__\u001b[0m\u001b[0;34m(\u001b[0m\u001b[0mself\u001b[0m\u001b[0;34m,\u001b[0m \u001b[0mname\u001b[0m\u001b[0;34m:\u001b[0m \u001b[0mstr\u001b[0m\u001b[0;34m,\u001b[0m \u001b[0mvalue\u001b[0m\u001b[0;34m)\u001b[0m \u001b[0;34m->\u001b[0m \u001b[0;32mNone\u001b[0m\u001b[0;34m:\u001b[0m\u001b[0;34m\u001b[0m\u001b[0;34m\u001b[0m\u001b[0m\n",
      "\u001b[0;31mAttributeError\u001b[0m: 'DataFrame' object has no attribute 'action_info'"
     ]
    }
   ],
   "source": [
    "other_countries_ai = df[~df.country_destination.isin({'NDF', 'US', 'other'})].action_info.tolist()"
   ]
  },
  {
   "cell_type": "code",
   "execution_count": null,
   "id": "7c74d970-40d9-4d4c-bb18-accb0b53e85f",
   "metadata": {},
   "outputs": [],
   "source": []
  }
 ],
 "metadata": {
  "kernelspec": {
   "display_name": "Python 3 (ipykernel)",
   "language": "python",
   "name": "python3"
  },
  "language_info": {
   "codemirror_mode": {
    "name": "ipython",
    "version": 3
   },
   "file_extension": ".py",
   "mimetype": "text/x-python",
   "name": "python",
   "nbconvert_exporter": "python",
   "pygments_lexer": "ipython3",
   "version": "3.9.6"
  }
 },
 "nbformat": 4,
 "nbformat_minor": 5
}
