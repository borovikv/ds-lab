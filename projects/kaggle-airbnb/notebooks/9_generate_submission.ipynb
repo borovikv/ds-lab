{
 "cells": [
  {
   "cell_type": "markdown",
   "id": "56625c50-ae79-4d79-b5a1-717b223c760d",
   "metadata": {},
   "source": [
    "## Generatig predicitons for the submission dataset"
   ]
  },
  {
   "cell_type": "code",
   "execution_count": 1,
   "id": "1e13fd9d-8854-4b22-b9c8-a269f97c5276",
   "metadata": {},
   "outputs": [],
   "source": [
    "from catboost import CatBoostClassifier, Pool\n",
    "import pandas as pd\n",
    "from collections import Counter\n",
    "from tqdm.notebook import tqdm\n",
    "import numpy as np"
   ]
  },
  {
   "cell_type": "markdown",
   "id": "e63779f3-214b-476c-8bb9-3e538bc11826",
   "metadata": {},
   "source": [
    "### 0. Loading and preparing data"
   ]
  },
  {
   "cell_type": "code",
   "execution_count": 2,
   "id": "bd865fa3-b3fc-4c08-9e5e-da8e28f4dafe",
   "metadata": {},
   "outputs": [
    {
     "data": {
      "text/plain": [
       "(62096, 959)"
      ]
     },
     "execution_count": 2,
     "metadata": {},
     "output_type": "execute_result"
    }
   ],
   "source": [
    "df = pd.read_parquet('../data/processed/test_features.parquet')\n",
    "df.shape"
   ]
  },
  {
   "cell_type": "code",
   "execution_count": 3,
   "id": "a74f2784-0fa8-41f1-bf41-568eb9390b07",
   "metadata": {},
   "outputs": [],
   "source": [
    "df.reset_index(drop=True, inplace=True)"
   ]
  },
  {
   "cell_type": "code",
   "execution_count": 4,
   "id": "6f93e654-42df-4fce-b0c3-75e47b623c48",
   "metadata": {},
   "outputs": [
    {
     "data": {
      "text/html": [
       "<div>\n",
       "<style scoped>\n",
       "    .dataframe tbody tr th:only-of-type {\n",
       "        vertical-align: middle;\n",
       "    }\n",
       "\n",
       "    .dataframe tbody tr th {\n",
       "        vertical-align: top;\n",
       "    }\n",
       "\n",
       "    .dataframe thead th {\n",
       "        text-align: right;\n",
       "    }\n",
       "</style>\n",
       "<table border=\"1\" class=\"dataframe\">\n",
       "  <thead>\n",
       "    <tr style=\"text-align: right;\">\n",
       "      <th></th>\n",
       "      <th>user_id</th>\n",
       "      <th>gender</th>\n",
       "      <th>age</th>\n",
       "      <th>signup_method</th>\n",
       "      <th>signup_flow</th>\n",
       "      <th>language</th>\n",
       "      <th>affiliate_channel</th>\n",
       "      <th>affiliate_provider</th>\n",
       "      <th>first_affiliate_tracked</th>\n",
       "      <th>signup_app</th>\n",
       "      <th>...</th>\n",
       "      <th>deltas_no_mean</th>\n",
       "      <th>deltas_no_std</th>\n",
       "      <th>deltas_no_max</th>\n",
       "      <th>deltas_no_median</th>\n",
       "      <th>deltas_no_num_outliers</th>\n",
       "      <th>secs_elapsed_mean</th>\n",
       "      <th>secs_elapsed_std</th>\n",
       "      <th>secs_elapsed_max</th>\n",
       "      <th>secs_elapsed_median</th>\n",
       "      <th>device_count</th>\n",
       "    </tr>\n",
       "  </thead>\n",
       "  <tbody>\n",
       "    <tr>\n",
       "      <th>0</th>\n",
       "      <td>5uwns89zht</td>\n",
       "      <td>FEMALE</td>\n",
       "      <td>35.0</td>\n",
       "      <td>facebook</td>\n",
       "      <td>0</td>\n",
       "      <td>en</td>\n",
       "      <td>direct</td>\n",
       "      <td>direct</td>\n",
       "      <td>untracked</td>\n",
       "      <td>Moweb</td>\n",
       "      <td>...</td>\n",
       "      <td>5196.666667</td>\n",
       "      <td>6359.828632</td>\n",
       "      <td>15022.0</td>\n",
       "      <td>1405.0</td>\n",
       "      <td>1.0</td>\n",
       "      <td>14898.375000</td>\n",
       "      <td>21621.413801</td>\n",
       "      <td>64883.0</td>\n",
       "      <td>2018.5</td>\n",
       "      <td>2.0</td>\n",
       "    </tr>\n",
       "    <tr>\n",
       "      <th>1</th>\n",
       "      <td>jtl0dijy2j</td>\n",
       "      <td>-unknown-</td>\n",
       "      <td>-1.0</td>\n",
       "      <td>basic</td>\n",
       "      <td>0</td>\n",
       "      <td>en</td>\n",
       "      <td>direct</td>\n",
       "      <td>direct</td>\n",
       "      <td>untracked</td>\n",
       "      <td>Moweb</td>\n",
       "      <td>...</td>\n",
       "      <td>1831.882353</td>\n",
       "      <td>2244.092765</td>\n",
       "      <td>8105.0</td>\n",
       "      <td>664.0</td>\n",
       "      <td>1.0</td>\n",
       "      <td>13164.157895</td>\n",
       "      <td>18194.475733</td>\n",
       "      <td>61881.0</td>\n",
       "      <td>3228.0</td>\n",
       "      <td>2.0</td>\n",
       "    </tr>\n",
       "    <tr>\n",
       "      <th>2</th>\n",
       "      <td>xx0ulgorjt</td>\n",
       "      <td>-unknown-</td>\n",
       "      <td>-1.0</td>\n",
       "      <td>basic</td>\n",
       "      <td>0</td>\n",
       "      <td>en</td>\n",
       "      <td>direct</td>\n",
       "      <td>direct</td>\n",
       "      <td>linked</td>\n",
       "      <td>Web</td>\n",
       "      <td>...</td>\n",
       "      <td>791.036364</td>\n",
       "      <td>1185.291862</td>\n",
       "      <td>4609.0</td>\n",
       "      <td>280.0</td>\n",
       "      <td>2.0</td>\n",
       "      <td>16820.258621</td>\n",
       "      <td>36679.560932</td>\n",
       "      <td>270618.0</td>\n",
       "      <td>8635.5</td>\n",
       "      <td>1.0</td>\n",
       "    </tr>\n",
       "    <tr>\n",
       "      <th>3</th>\n",
       "      <td>6c6puo6ix0</td>\n",
       "      <td>-unknown-</td>\n",
       "      <td>-1.0</td>\n",
       "      <td>basic</td>\n",
       "      <td>0</td>\n",
       "      <td>en</td>\n",
       "      <td>direct</td>\n",
       "      <td>direct</td>\n",
       "      <td>linked</td>\n",
       "      <td>Web</td>\n",
       "      <td>...</td>\n",
       "      <td>1490.444444</td>\n",
       "      <td>3739.483865</td>\n",
       "      <td>12042.0</td>\n",
       "      <td>77.0</td>\n",
       "      <td>1.0</td>\n",
       "      <td>11181.909091</td>\n",
       "      <td>30370.377866</td>\n",
       "      <td>106481.0</td>\n",
       "      <td>231.0</td>\n",
       "      <td>1.0</td>\n",
       "    </tr>\n",
       "    <tr>\n",
       "      <th>4</th>\n",
       "      <td>czqhjk3yfe</td>\n",
       "      <td>-unknown-</td>\n",
       "      <td>-1.0</td>\n",
       "      <td>basic</td>\n",
       "      <td>0</td>\n",
       "      <td>en</td>\n",
       "      <td>direct</td>\n",
       "      <td>direct</td>\n",
       "      <td>untracked</td>\n",
       "      <td>Web</td>\n",
       "      <td>...</td>\n",
       "      <td>5992.000000</td>\n",
       "      <td>12386.327210</td>\n",
       "      <td>35580.0</td>\n",
       "      <td>186.0</td>\n",
       "      <td>1.0</td>\n",
       "      <td>23895.947368</td>\n",
       "      <td>53805.073963</td>\n",
       "      <td>219369.0</td>\n",
       "      <td>1123.0</td>\n",
       "      <td>1.0</td>\n",
       "    </tr>\n",
       "  </tbody>\n",
       "</table>\n",
       "<p>5 rows × 959 columns</p>\n",
       "</div>"
      ],
      "text/plain": [
       "      user_id     gender   age signup_method  signup_flow language  \\\n",
       "0  5uwns89zht     FEMALE  35.0      facebook            0       en   \n",
       "1  jtl0dijy2j  -unknown-  -1.0         basic            0       en   \n",
       "2  xx0ulgorjt  -unknown-  -1.0         basic            0       en   \n",
       "3  6c6puo6ix0  -unknown-  -1.0         basic            0       en   \n",
       "4  czqhjk3yfe  -unknown-  -1.0         basic            0       en   \n",
       "\n",
       "  affiliate_channel affiliate_provider first_affiliate_tracked signup_app  \\\n",
       "0            direct             direct               untracked      Moweb   \n",
       "1            direct             direct               untracked      Moweb   \n",
       "2            direct             direct                  linked        Web   \n",
       "3            direct             direct                  linked        Web   \n",
       "4            direct             direct               untracked        Web   \n",
       "\n",
       "   ... deltas_no_mean deltas_no_std deltas_no_max  deltas_no_median  \\\n",
       "0  ...    5196.666667   6359.828632       15022.0            1405.0   \n",
       "1  ...    1831.882353   2244.092765        8105.0             664.0   \n",
       "2  ...     791.036364   1185.291862        4609.0             280.0   \n",
       "3  ...    1490.444444   3739.483865       12042.0              77.0   \n",
       "4  ...    5992.000000  12386.327210       35580.0             186.0   \n",
       "\n",
       "   deltas_no_num_outliers  secs_elapsed_mean  secs_elapsed_std  \\\n",
       "0                     1.0       14898.375000      21621.413801   \n",
       "1                     1.0       13164.157895      18194.475733   \n",
       "2                     2.0       16820.258621      36679.560932   \n",
       "3                     1.0       11181.909091      30370.377866   \n",
       "4                     1.0       23895.947368      53805.073963   \n",
       "\n",
       "   secs_elapsed_max  secs_elapsed_median  device_count  \n",
       "0           64883.0               2018.5           2.0  \n",
       "1           61881.0               3228.0           2.0  \n",
       "2          270618.0               8635.5           1.0  \n",
       "3          106481.0                231.0           1.0  \n",
       "4          219369.0               1123.0           1.0  \n",
       "\n",
       "[5 rows x 959 columns]"
      ]
     },
     "execution_count": 4,
     "metadata": {},
     "output_type": "execute_result"
    }
   ],
   "source": [
    "df.head()"
   ]
  },
  {
   "cell_type": "code",
   "execution_count": 5,
   "id": "5e61a40a-b152-4e26-b709-57fda1c6354c",
   "metadata": {},
   "outputs": [],
   "source": [
    "df.drop('country_destination', axis=1, inplace=True)"
   ]
  },
  {
   "cell_type": "code",
   "execution_count": 6,
   "id": "f19a239f-823b-4b38-877f-43b9c2627c0b",
   "metadata": {},
   "outputs": [],
   "source": [
    "x = df.drop('user_id', axis=1)"
   ]
  },
  {
   "cell_type": "markdown",
   "id": "3897ebbc-2017-4b80-ba30-04bbaa834ef7",
   "metadata": {
    "tags": []
   },
   "source": [
    "### 1. Splitting tain data into stratified train, validation and test sets"
   ]
  },
  {
   "cell_type": "code",
   "execution_count": 7,
   "id": "f1e36871-97e2-44f6-8209-d898917da75a",
   "metadata": {},
   "outputs": [],
   "source": [
    "cat_features = [\n",
    "    'gender',\n",
    "    'signup_method',\n",
    "    'signup_flow',\n",
    "    'language',\n",
    "    'affiliate_channel',\n",
    "    'affiliate_provider',\n",
    "    'first_affiliate_tracked',\n",
    "    'signup_app',\n",
    "    'first_device_type',\n",
    "    'first_browser',\n",
    "    'dow_registered',\n",
    "    'hr_registered',\n",
    "    'age_group',\n",
    "]"
   ]
  },
  {
   "cell_type": "code",
   "execution_count": 8,
   "id": "bbf54d34-c616-4a80-b976-1dd368beb8b2",
   "metadata": {},
   "outputs": [],
   "source": [
    "for col in cat_features:\n",
    "    x[col].fillna('', inplace=True)\n",
    "    x[col] = x[col].astype('category')"
   ]
  },
  {
   "cell_type": "markdown",
   "id": "bee88d7a-0445-49cc-b2f1-9b83fd366332",
   "metadata": {},
   "source": [
    "### 2. Loading model"
   ]
  },
  {
   "cell_type": "code",
   "execution_count": 9,
   "id": "d9e063e1-1d74-4c9f-a91f-1dc2446c1c0a",
   "metadata": {},
   "outputs": [
    {
     "data": {
      "text/plain": [
       "<catboost.core.CatBoostClassifier at 0x7f24bd16cca0>"
      ]
     },
     "execution_count": 9,
     "metadata": {},
     "output_type": "execute_result"
    }
   ],
   "source": [
    "model = CatBoostClassifier()\n",
    "model.load_model('../models/model2.cbm')"
   ]
  },
  {
   "cell_type": "markdown",
   "id": "241fb167-724f-4518-b2a1-eab682b87d5c",
   "metadata": {
    "tags": []
   },
   "source": [
    "### 3. Predicting Country of Destination"
   ]
  },
  {
   "cell_type": "code",
   "execution_count": 10,
   "id": "47d2eee1-1c01-447c-876a-fff003bc3602",
   "metadata": {},
   "outputs": [],
   "source": [
    "# x_pool = Pool(x, cat_features=cat_features)"
   ]
  },
  {
   "cell_type": "code",
   "execution_count": 11,
   "id": "d19619ba-7932-4e0c-8366-c4cb66f026b0",
   "metadata": {},
   "outputs": [],
   "source": [
    "# preds = model.predict(x, prediction_type='Class')\n",
    "# preds = [el[0] for el in preds.tolist()]"
   ]
  },
  {
   "cell_type": "code",
   "execution_count": 12,
   "id": "948de1d8-c505-483a-90b6-075c14b1c6f3",
   "metadata": {},
   "outputs": [],
   "source": [
    "# Counter(preds)"
   ]
  },
  {
   "cell_type": "markdown",
   "id": "579f81c0-e32e-43be-b1fd-e99183fb8589",
   "metadata": {
    "tags": []
   },
   "source": [
    "### 3.2 Predicting Country of Destination using multiple predicitons where applicable"
   ]
  },
  {
   "cell_type": "code",
   "execution_count": 13,
   "id": "73452c2f-4de7-4a51-8936-8ee3a7234252",
   "metadata": {},
   "outputs": [],
   "source": [
    "# classes = list(model.classes_)\n",
    "# classes\n",
    "\n",
    "# preds = model.predict_proba(x)\n",
    "# preds = preds.tolist()\n",
    "# # preds = [el[0] for el in preds]\n",
    "# preds_df = pd.DataFrame(preds)\n",
    "# preds_df.shape\n",
    "\n",
    "# preds_df['preds'] = preds\n",
    "\n",
    "# preds_df['amax'] = preds_df.preds.apply(lambda x: max(x))\n",
    "\n",
    "# preds_df.head()\n",
    "\n",
    "# def find_nth_max_index(x, ix=1):\n",
    "#     second_max = sorted(x)[-ix]\n",
    "#     return x.index(second_max)\n",
    "\n",
    "\n",
    "# def get_nth_best_result(x, ix=1):\n",
    "#     return classes[find_nth_max_index(x, ix=ix)]\n",
    "\n",
    "# find_nth_max_index(preds_df.loc[0].preds), get_nth_best_result(preds_df.loc[0].preds)\n",
    "\n",
    "# preds_df['second'] = preds_df.preds.apply(lambda x: get_nth_best_result(x, ix=2))\n",
    "# preds_df['first'] = preds_df.preds.apply(lambda x: get_nth_best_result(x))\n",
    "\n",
    "# preds_df.head()\n",
    "\n",
    "# preds_df['result'] = preds_df[['first', 'second']].apply(lambda x: list(x), axis=1)\n",
    "\n",
    "# preds_df.head()\n",
    "\n",
    "# mask = preds_df.amax < 0.65\n",
    "# mask.sum()\n",
    "\n",
    "# preds_df.loc[~mask, 'result'] = preds_df.loc[~mask, 'first']\n",
    "\n",
    "# preds_df['id'] = df['user_id']\n",
    "\n",
    "# preds_df.sample(10, random_state=42)\n",
    "\n",
    "# submission = preds_df[['id', 'result']].explode('result')\n",
    "# submission.shape\n",
    "\n",
    "# submission.head()\n",
    "\n",
    "# submission[submission.id == 'ycr4e6e5qv']\n",
    "\n"
   ]
  },
  {
   "cell_type": "markdown",
   "id": "364ab529-b7a6-45bd-9647-6686b1d02f72",
   "metadata": {
    "tags": []
   },
   "source": [
    "### 3.3 Predicting 5 Countries of Destination per each user"
   ]
  },
  {
   "cell_type": "code",
   "execution_count": 14,
   "id": "fe9cfa5d-54c1-46ff-91d4-b5f9b14c58f2",
   "metadata": {},
   "outputs": [
    {
     "data": {
      "text/plain": [
       "['AU', 'CA', 'DE', 'ES', 'FR', 'GB', 'IT', 'NDF', 'NL', 'PT', 'US', 'other']"
      ]
     },
     "execution_count": 14,
     "metadata": {},
     "output_type": "execute_result"
    }
   ],
   "source": [
    "classes = list(model.classes_)\n",
    "classes"
   ]
  },
  {
   "cell_type": "code",
   "execution_count": 15,
   "id": "0868e1aa-705a-4970-9355-32a854cdce73",
   "metadata": {},
   "outputs": [],
   "source": [
    "preds = model.predict_proba(x)\n",
    "preds = preds.tolist()"
   ]
  },
  {
   "cell_type": "code",
   "execution_count": 16,
   "id": "ba8c4877-1552-412d-83f4-b2a949721a99",
   "metadata": {},
   "outputs": [],
   "source": [
    "preds_df = pd.DataFrame({'preds': preds})\n",
    "preds_df['amax'] = preds_df.preds.apply(lambda x: max(x))"
   ]
  },
  {
   "cell_type": "code",
   "execution_count": 17,
   "id": "c24699fb-c577-445c-be22-9ed1c6cec273",
   "metadata": {},
   "outputs": [
    {
     "data": {
      "text/html": [
       "<div>\n",
       "<style scoped>\n",
       "    .dataframe tbody tr th:only-of-type {\n",
       "        vertical-align: middle;\n",
       "    }\n",
       "\n",
       "    .dataframe tbody tr th {\n",
       "        vertical-align: top;\n",
       "    }\n",
       "\n",
       "    .dataframe thead th {\n",
       "        text-align: right;\n",
       "    }\n",
       "</style>\n",
       "<table border=\"1\" class=\"dataframe\">\n",
       "  <thead>\n",
       "    <tr style=\"text-align: right;\">\n",
       "      <th></th>\n",
       "      <th>preds</th>\n",
       "      <th>amax</th>\n",
       "    </tr>\n",
       "  </thead>\n",
       "  <tbody>\n",
       "    <tr>\n",
       "      <th>0</th>\n",
       "      <td>[0.0008875477231299356, 0.0018805796276288864,...</td>\n",
       "      <td>0.690769</td>\n",
       "    </tr>\n",
       "    <tr>\n",
       "      <th>1</th>\n",
       "      <td>[0.00029260611175401977, 0.0009368319392331375...</td>\n",
       "      <td>0.922361</td>\n",
       "    </tr>\n",
       "    <tr>\n",
       "      <th>2</th>\n",
       "      <td>[0.0001592182064140176, 0.002028397378663301, ...</td>\n",
       "      <td>0.899280</td>\n",
       "    </tr>\n",
       "    <tr>\n",
       "      <th>3</th>\n",
       "      <td>[0.00028890401365596426, 0.0016611787305380538...</td>\n",
       "      <td>0.893099</td>\n",
       "    </tr>\n",
       "    <tr>\n",
       "      <th>4</th>\n",
       "      <td>[0.0015819269488524252, 0.019569871009474507, ...</td>\n",
       "      <td>0.528054</td>\n",
       "    </tr>\n",
       "  </tbody>\n",
       "</table>\n",
       "</div>"
      ],
      "text/plain": [
       "                                               preds      amax\n",
       "0  [0.0008875477231299356, 0.0018805796276288864,...  0.690769\n",
       "1  [0.00029260611175401977, 0.0009368319392331375...  0.922361\n",
       "2  [0.0001592182064140176, 0.002028397378663301, ...  0.899280\n",
       "3  [0.00028890401365596426, 0.0016611787305380538...  0.893099\n",
       "4  [0.0015819269488524252, 0.019569871009474507, ...  0.528054"
      ]
     },
     "execution_count": 17,
     "metadata": {},
     "output_type": "execute_result"
    }
   ],
   "source": [
    "preds_df.head()"
   ]
  },
  {
   "cell_type": "code",
   "execution_count": 18,
   "id": "015b78e3-340e-474d-8f04-2f4aee4ffdff",
   "metadata": {},
   "outputs": [],
   "source": [
    "def find_max_n_indeces(x, n=1):\n",
    "    n_indeces = sorted(x, reverse=True)[:n]\n",
    "    n_indeces = [x.index(el) for el in n_indeces]\n",
    "    return n_indeces\n",
    "\n",
    "\n",
    "def get_best_n_result(x, n=5):\n",
    "    n_indeces = find_max_n_indeces(x, n=n)\n",
    "    best_n = [classes[ix] for ix in n_indeces]\n",
    "    return best_n"
   ]
  },
  {
   "cell_type": "code",
   "execution_count": 19,
   "id": "cb52b635-be73-4255-88b2-e639d7e2f79a",
   "metadata": {},
   "outputs": [
    {
     "data": {
      "text/plain": [
       "([7, 10, 11, 4, 3], ['NDF', 'US', 'other', 'FR', 'ES'])"
      ]
     },
     "execution_count": 19,
     "metadata": {},
     "output_type": "execute_result"
    }
   ],
   "source": [
    "find_max_n_indeces(preds_df.loc[0].preds, n=5), get_best_n_result(preds_df.loc[0].preds, n=5)"
   ]
  },
  {
   "cell_type": "code",
   "execution_count": 20,
   "id": "7f0978f1-86b1-4f66-8058-75ba75d2ba8c",
   "metadata": {},
   "outputs": [],
   "source": [
    "preds_df['best5'] = preds_df.preds.apply(lambda x: get_best_n_result(x, n=5))"
   ]
  },
  {
   "cell_type": "code",
   "execution_count": 21,
   "id": "a1b88964-d05a-4de1-8efc-c6efce275e62",
   "metadata": {},
   "outputs": [
    {
     "data": {
      "text/html": [
       "<div>\n",
       "<style scoped>\n",
       "    .dataframe tbody tr th:only-of-type {\n",
       "        vertical-align: middle;\n",
       "    }\n",
       "\n",
       "    .dataframe tbody tr th {\n",
       "        vertical-align: top;\n",
       "    }\n",
       "\n",
       "    .dataframe thead th {\n",
       "        text-align: right;\n",
       "    }\n",
       "</style>\n",
       "<table border=\"1\" class=\"dataframe\">\n",
       "  <thead>\n",
       "    <tr style=\"text-align: right;\">\n",
       "      <th></th>\n",
       "      <th>preds</th>\n",
       "      <th>amax</th>\n",
       "      <th>best5</th>\n",
       "    </tr>\n",
       "  </thead>\n",
       "  <tbody>\n",
       "    <tr>\n",
       "      <th>0</th>\n",
       "      <td>[0.0008875477231299356, 0.0018805796276288864,...</td>\n",
       "      <td>0.690769</td>\n",
       "      <td>[NDF, US, other, FR, ES]</td>\n",
       "    </tr>\n",
       "    <tr>\n",
       "      <th>1</th>\n",
       "      <td>[0.00029260611175401977, 0.0009368319392331375...</td>\n",
       "      <td>0.922361</td>\n",
       "      <td>[NDF, US, other, IT, FR]</td>\n",
       "    </tr>\n",
       "    <tr>\n",
       "      <th>2</th>\n",
       "      <td>[0.0001592182064140176, 0.002028397378663301, ...</td>\n",
       "      <td>0.899280</td>\n",
       "      <td>[NDF, US, other, FR, IT]</td>\n",
       "    </tr>\n",
       "    <tr>\n",
       "      <th>3</th>\n",
       "      <td>[0.00028890401365596426, 0.0016611787305380538...</td>\n",
       "      <td>0.893099</td>\n",
       "      <td>[NDF, US, other, FR, IT]</td>\n",
       "    </tr>\n",
       "    <tr>\n",
       "      <th>4</th>\n",
       "      <td>[0.0015819269488524252, 0.019569871009474507, ...</td>\n",
       "      <td>0.528054</td>\n",
       "      <td>[US, NDF, other, FR, IT]</td>\n",
       "    </tr>\n",
       "  </tbody>\n",
       "</table>\n",
       "</div>"
      ],
      "text/plain": [
       "                                               preds      amax  \\\n",
       "0  [0.0008875477231299356, 0.0018805796276288864,...  0.690769   \n",
       "1  [0.00029260611175401977, 0.0009368319392331375...  0.922361   \n",
       "2  [0.0001592182064140176, 0.002028397378663301, ...  0.899280   \n",
       "3  [0.00028890401365596426, 0.0016611787305380538...  0.893099   \n",
       "4  [0.0015819269488524252, 0.019569871009474507, ...  0.528054   \n",
       "\n",
       "                      best5  \n",
       "0  [NDF, US, other, FR, ES]  \n",
       "1  [NDF, US, other, IT, FR]  \n",
       "2  [NDF, US, other, FR, IT]  \n",
       "3  [NDF, US, other, FR, IT]  \n",
       "4  [US, NDF, other, FR, IT]  "
      ]
     },
     "execution_count": 21,
     "metadata": {},
     "output_type": "execute_result"
    }
   ],
   "source": [
    "preds_df.head()"
   ]
  },
  {
   "cell_type": "code",
   "execution_count": 22,
   "id": "62a8a1b8-654b-4026-bf1b-599c8cea38e4",
   "metadata": {},
   "outputs": [],
   "source": [
    "preds_df['id'] = df['user_id']"
   ]
  },
  {
   "cell_type": "code",
   "execution_count": 23,
   "id": "d842ad92-7975-407e-aee8-ec88f8838628",
   "metadata": {},
   "outputs": [
    {
     "data": {
      "text/html": [
       "<div>\n",
       "<style scoped>\n",
       "    .dataframe tbody tr th:only-of-type {\n",
       "        vertical-align: middle;\n",
       "    }\n",
       "\n",
       "    .dataframe tbody tr th {\n",
       "        vertical-align: top;\n",
       "    }\n",
       "\n",
       "    .dataframe thead th {\n",
       "        text-align: right;\n",
       "    }\n",
       "</style>\n",
       "<table border=\"1\" class=\"dataframe\">\n",
       "  <thead>\n",
       "    <tr style=\"text-align: right;\">\n",
       "      <th></th>\n",
       "      <th>preds</th>\n",
       "      <th>amax</th>\n",
       "      <th>best5</th>\n",
       "      <th>id</th>\n",
       "    </tr>\n",
       "  </thead>\n",
       "  <tbody>\n",
       "    <tr>\n",
       "      <th>0</th>\n",
       "      <td>[0.0008875477231299356, 0.0018805796276288864,...</td>\n",
       "      <td>0.690769</td>\n",
       "      <td>[NDF, US, other, FR, ES]</td>\n",
       "      <td>5uwns89zht</td>\n",
       "    </tr>\n",
       "    <tr>\n",
       "      <th>1</th>\n",
       "      <td>[0.00029260611175401977, 0.0009368319392331375...</td>\n",
       "      <td>0.922361</td>\n",
       "      <td>[NDF, US, other, IT, FR]</td>\n",
       "      <td>jtl0dijy2j</td>\n",
       "    </tr>\n",
       "    <tr>\n",
       "      <th>2</th>\n",
       "      <td>[0.0001592182064140176, 0.002028397378663301, ...</td>\n",
       "      <td>0.899280</td>\n",
       "      <td>[NDF, US, other, FR, IT]</td>\n",
       "      <td>xx0ulgorjt</td>\n",
       "    </tr>\n",
       "    <tr>\n",
       "      <th>3</th>\n",
       "      <td>[0.00028890401365596426, 0.0016611787305380538...</td>\n",
       "      <td>0.893099</td>\n",
       "      <td>[NDF, US, other, FR, IT]</td>\n",
       "      <td>6c6puo6ix0</td>\n",
       "    </tr>\n",
       "    <tr>\n",
       "      <th>4</th>\n",
       "      <td>[0.0015819269488524252, 0.019569871009474507, ...</td>\n",
       "      <td>0.528054</td>\n",
       "      <td>[US, NDF, other, FR, IT]</td>\n",
       "      <td>czqhjk3yfe</td>\n",
       "    </tr>\n",
       "  </tbody>\n",
       "</table>\n",
       "</div>"
      ],
      "text/plain": [
       "                                               preds      amax  \\\n",
       "0  [0.0008875477231299356, 0.0018805796276288864,...  0.690769   \n",
       "1  [0.00029260611175401977, 0.0009368319392331375...  0.922361   \n",
       "2  [0.0001592182064140176, 0.002028397378663301, ...  0.899280   \n",
       "3  [0.00028890401365596426, 0.0016611787305380538...  0.893099   \n",
       "4  [0.0015819269488524252, 0.019569871009474507, ...  0.528054   \n",
       "\n",
       "                      best5          id  \n",
       "0  [NDF, US, other, FR, ES]  5uwns89zht  \n",
       "1  [NDF, US, other, IT, FR]  jtl0dijy2j  \n",
       "2  [NDF, US, other, FR, IT]  xx0ulgorjt  \n",
       "3  [NDF, US, other, FR, IT]  6c6puo6ix0  \n",
       "4  [US, NDF, other, FR, IT]  czqhjk3yfe  "
      ]
     },
     "execution_count": 23,
     "metadata": {},
     "output_type": "execute_result"
    }
   ],
   "source": [
    "preds_df.head()"
   ]
  },
  {
   "cell_type": "code",
   "execution_count": 24,
   "id": "d2d7f7ed-815a-44d5-add9-8ab36dd92906",
   "metadata": {},
   "outputs": [
    {
     "data": {
      "text/plain": [
       "(310480, 2)"
      ]
     },
     "execution_count": 24,
     "metadata": {},
     "output_type": "execute_result"
    }
   ],
   "source": [
    "submission = preds_df[['id', 'best5']].explode('best5')\n",
    "submission.shape"
   ]
  },
  {
   "cell_type": "code",
   "execution_count": 25,
   "id": "c77f252a-27fb-4485-8973-b64f53117e5b",
   "metadata": {},
   "outputs": [
    {
     "data": {
      "text/html": [
       "<div>\n",
       "<style scoped>\n",
       "    .dataframe tbody tr th:only-of-type {\n",
       "        vertical-align: middle;\n",
       "    }\n",
       "\n",
       "    .dataframe tbody tr th {\n",
       "        vertical-align: top;\n",
       "    }\n",
       "\n",
       "    .dataframe thead th {\n",
       "        text-align: right;\n",
       "    }\n",
       "</style>\n",
       "<table border=\"1\" class=\"dataframe\">\n",
       "  <thead>\n",
       "    <tr style=\"text-align: right;\">\n",
       "      <th></th>\n",
       "      <th>id</th>\n",
       "      <th>best5</th>\n",
       "    </tr>\n",
       "  </thead>\n",
       "  <tbody>\n",
       "    <tr>\n",
       "      <th>0</th>\n",
       "      <td>5uwns89zht</td>\n",
       "      <td>NDF</td>\n",
       "    </tr>\n",
       "    <tr>\n",
       "      <th>0</th>\n",
       "      <td>5uwns89zht</td>\n",
       "      <td>US</td>\n",
       "    </tr>\n",
       "    <tr>\n",
       "      <th>0</th>\n",
       "      <td>5uwns89zht</td>\n",
       "      <td>other</td>\n",
       "    </tr>\n",
       "    <tr>\n",
       "      <th>0</th>\n",
       "      <td>5uwns89zht</td>\n",
       "      <td>FR</td>\n",
       "    </tr>\n",
       "    <tr>\n",
       "      <th>0</th>\n",
       "      <td>5uwns89zht</td>\n",
       "      <td>ES</td>\n",
       "    </tr>\n",
       "  </tbody>\n",
       "</table>\n",
       "</div>"
      ],
      "text/plain": [
       "           id  best5\n",
       "0  5uwns89zht    NDF\n",
       "0  5uwns89zht     US\n",
       "0  5uwns89zht  other\n",
       "0  5uwns89zht     FR\n",
       "0  5uwns89zht     ES"
      ]
     },
     "execution_count": 25,
     "metadata": {},
     "output_type": "execute_result"
    }
   ],
   "source": [
    "submission.head()"
   ]
  },
  {
   "cell_type": "code",
   "execution_count": null,
   "id": "550b48e6-2efb-4f5d-ab9c-64516c177db8",
   "metadata": {},
   "outputs": [],
   "source": []
  },
  {
   "cell_type": "code",
   "execution_count": null,
   "id": "492978ec-8af9-4a5d-b703-5bb43b3f13f4",
   "metadata": {},
   "outputs": [],
   "source": []
  },
  {
   "cell_type": "markdown",
   "id": "2cdce8bc-aa44-498b-a6a4-05ff9d48c2b3",
   "metadata": {
    "tags": []
   },
   "source": [
    "### 4 Saving NDCG aware submission"
   ]
  },
  {
   "cell_type": "code",
   "execution_count": 31,
   "id": "1941f53e-51e2-4c45-8693-f475ec3ac185",
   "metadata": {},
   "outputs": [],
   "source": [
    "submission.columns = ['id', 'country']"
   ]
  },
  {
   "cell_type": "code",
   "execution_count": 32,
   "id": "1262d829-b9b2-46df-af68-17f9b9f14bec",
   "metadata": {},
   "outputs": [],
   "source": [
    "submission.to_csv('../data/results/submission8.csv', index=False)"
   ]
  },
  {
   "cell_type": "code",
   "execution_count": null,
   "id": "c75146f9-264d-4196-be09-ab097fce6c54",
   "metadata": {},
   "outputs": [],
   "source": []
  },
  {
   "cell_type": "code",
   "execution_count": null,
   "id": "6c17f13d-1441-4fa4-a6fc-7ba13cbabd2f",
   "metadata": {},
   "outputs": [],
   "source": []
  },
  {
   "cell_type": "code",
   "execution_count": null,
   "id": "11788137-e275-4442-86b8-9b82b2a75e0f",
   "metadata": {},
   "outputs": [],
   "source": []
  },
  {
   "cell_type": "code",
   "execution_count": null,
   "id": "11e74579-b3ca-4310-9fda-a3dc51988b45",
   "metadata": {},
   "outputs": [],
   "source": []
  },
  {
   "cell_type": "code",
   "execution_count": null,
   "id": "6f62d913-88e0-4f53-a3a4-df624cf13092",
   "metadata": {},
   "outputs": [],
   "source": []
  },
  {
   "cell_type": "code",
   "execution_count": null,
   "id": "b3f0408c-533a-4aa3-8b8e-a63dbb0f3148",
   "metadata": {},
   "outputs": [],
   "source": []
  },
  {
   "cell_type": "code",
   "execution_count": null,
   "id": "7a20ba8e-f94f-45d7-a921-ded3e41e3fc2",
   "metadata": {},
   "outputs": [],
   "source": []
  }
 ],
 "metadata": {
  "kernelspec": {
   "display_name": "Python 3 (ipykernel)",
   "language": "python",
   "name": "python3"
  },
  "language_info": {
   "codemirror_mode": {
    "name": "ipython",
    "version": 3
   },
   "file_extension": ".py",
   "mimetype": "text/x-python",
   "name": "python",
   "nbconvert_exporter": "python",
   "pygments_lexer": "ipython3",
   "version": "3.9.6"
  }
 },
 "nbformat": 4,
 "nbformat_minor": 5
}
