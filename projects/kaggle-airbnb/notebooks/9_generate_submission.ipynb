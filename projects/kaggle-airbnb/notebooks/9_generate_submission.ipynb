{
 "cells": [
  {
   "cell_type": "markdown",
   "id": "56625c50-ae79-4d79-b5a1-717b223c760d",
   "metadata": {},
   "source": [
    "## Generatig predicitons for the submission dataset"
   ]
  },
  {
   "cell_type": "code",
   "execution_count": 25,
   "id": "1e13fd9d-8854-4b22-b9c8-a269f97c5276",
   "metadata": {},
   "outputs": [],
   "source": [
    "from catboost import CatBoostClassifier, Pool\n",
    "import pandas as pd\n",
    "from collections import Counter\n",
    "import numpy as np"
   ]
  },
  {
   "cell_type": "markdown",
   "id": "e63779f3-214b-476c-8bb9-3e538bc11826",
   "metadata": {},
   "source": [
    "### 0. Loading and preparing data"
   ]
  },
  {
   "cell_type": "code",
   "execution_count": 2,
   "id": "bd865fa3-b3fc-4c08-9e5e-da8e28f4dafe",
   "metadata": {},
   "outputs": [
    {
     "data": {
      "text/plain": [
       "(61664, 336)"
      ]
     },
     "execution_count": 2,
     "metadata": {},
     "output_type": "execute_result"
    }
   ],
   "source": [
    "df = pd.read_parquet('../data/processed/features_test.parquet')\n",
    "df.shape"
   ]
  },
  {
   "cell_type": "code",
   "execution_count": 3,
   "id": "f19a239f-823b-4b38-877f-43b9c2627c0b",
   "metadata": {},
   "outputs": [],
   "source": [
    "x = df.drop('user_id', axis=1)"
   ]
  },
  {
   "cell_type": "markdown",
   "id": "3897ebbc-2017-4b80-ba30-04bbaa834ef7",
   "metadata": {
    "tags": []
   },
   "source": [
    "### 1. Splitting tain data into stratified train, validation and test sets"
   ]
  },
  {
   "cell_type": "code",
   "execution_count": 4,
   "id": "f1e36871-97e2-44f6-8209-d898917da75a",
   "metadata": {},
   "outputs": [],
   "source": [
    "cat_features = [\n",
    "    'gender',\n",
    "    'signup_method',\n",
    "    'signup_flow',\n",
    "    'language',\n",
    "    'affiliate_channel',\n",
    "    'affiliate_provider',\n",
    "    'first_affiliate_tracked',\n",
    "    'signup_app',\n",
    "    'first_device_type',\n",
    "    'first_browser',\n",
    "    'dow_registered',\n",
    "    'hr_registered'\n",
    "]"
   ]
  },
  {
   "cell_type": "code",
   "execution_count": 5,
   "id": "bbf54d34-c616-4a80-b976-1dd368beb8b2",
   "metadata": {},
   "outputs": [],
   "source": [
    "for col in cat_features:\n",
    "    x[col].fillna('', inplace=True)\n",
    "    x[col] = x[col].astype('category')"
   ]
  },
  {
   "cell_type": "markdown",
   "id": "bee88d7a-0445-49cc-b2f1-9b83fd366332",
   "metadata": {},
   "source": [
    "### 2. Loading model"
   ]
  },
  {
   "cell_type": "code",
   "execution_count": 18,
   "id": "d9e063e1-1d74-4c9f-a91f-1dc2446c1c0a",
   "metadata": {},
   "outputs": [
    {
     "data": {
      "text/plain": [
       "<catboost.core.CatBoostClassifier at 0x7f1369e77460>"
      ]
     },
     "execution_count": 18,
     "metadata": {},
     "output_type": "execute_result"
    }
   ],
   "source": [
    "model = CatBoostClassifier()\n",
    "model.load_model('../models/model1.cbm')"
   ]
  },
  {
   "cell_type": "markdown",
   "id": "241fb167-724f-4518-b2a1-eab682b87d5c",
   "metadata": {
    "tags": []
   },
   "source": [
    "### 3. Predicting Country of Destination"
   ]
  },
  {
   "cell_type": "code",
   "execution_count": 19,
   "id": "47d2eee1-1c01-447c-876a-fff003bc3602",
   "metadata": {},
   "outputs": [],
   "source": [
    "x_pool = Pool(x, cat_features=cat_features)"
   ]
  },
  {
   "cell_type": "code",
   "execution_count": null,
   "id": "d19619ba-7932-4e0c-8366-c4cb66f026b0",
   "metadata": {},
   "outputs": [],
   "source": [
    "preds = model.predict(x, prediction_type='Class')\n",
    "preds = [el[0] for el in preds.tolist()]"
   ]
  },
  {
   "cell_type": "code",
   "execution_count": 21,
   "id": "948de1d8-c505-483a-90b6-075c14b1c6f3",
   "metadata": {},
   "outputs": [
    {
     "data": {
      "text/plain": [
       "Counter({'NDF': 46876, 'US': 14691, 'other': 50, 'FR': 46, 'IT': 1})"
      ]
     },
     "execution_count": 21,
     "metadata": {},
     "output_type": "execute_result"
    }
   ],
   "source": [
    "Counter(preds)"
   ]
  },
  {
   "cell_type": "markdown",
   "id": "579f81c0-e32e-43be-b1fd-e99183fb8589",
   "metadata": {
    "tags": []
   },
   "source": [
    "### 3.2 Predicting Country of Destination using multiple predicitons where applicable"
   ]
  },
  {
   "cell_type": "code",
   "execution_count": 45,
   "id": "d75b2bba-22ad-4d9e-873c-e7c3fe0bdd39",
   "metadata": {},
   "outputs": [
    {
     "data": {
      "text/plain": [
       "['AU', 'CA', 'DE', 'ES', 'FR', 'GB', 'IT', 'NDF', 'NL', 'PT', 'US', 'other']"
      ]
     },
     "execution_count": 45,
     "metadata": {},
     "output_type": "execute_result"
    }
   ],
   "source": [
    "classes = list(model.classes_)\n",
    "classes"
   ]
  },
  {
   "cell_type": "code",
   "execution_count": 130,
   "id": "c8493d5c-f913-4d19-9665-97d9d037da4a",
   "metadata": {},
   "outputs": [
    {
     "data": {
      "text/plain": [
       "(61664, 12)"
      ]
     },
     "execution_count": 130,
     "metadata": {},
     "output_type": "execute_result"
    }
   ],
   "source": [
    "preds = model.predict_proba(x)\n",
    "preds = preds.tolist()\n",
    "# preds = [el[0] for el in preds]\n",
    "preds_df = pd.DataFrame(preds)\n",
    "preds_df.shape"
   ]
  },
  {
   "cell_type": "code",
   "execution_count": 131,
   "id": "ff817f18-bfc9-4270-bd6f-b00c97aeafdf",
   "metadata": {},
   "outputs": [],
   "source": [
    "preds_df['preds'] = preds"
   ]
  },
  {
   "cell_type": "code",
   "execution_count": 132,
   "id": "accddf0e-3ae8-42d3-9684-fb9a26458433",
   "metadata": {},
   "outputs": [],
   "source": [
    "preds_df['amax'] = preds_df.preds.apply(lambda x: max(x))"
   ]
  },
  {
   "cell_type": "code",
   "execution_count": 133,
   "id": "5982e686-5b95-48a7-9c56-b1461677eaae",
   "metadata": {},
   "outputs": [
    {
     "data": {
      "text/html": [
       "<div>\n",
       "<style scoped>\n",
       "    .dataframe tbody tr th:only-of-type {\n",
       "        vertical-align: middle;\n",
       "    }\n",
       "\n",
       "    .dataframe tbody tr th {\n",
       "        vertical-align: top;\n",
       "    }\n",
       "\n",
       "    .dataframe thead th {\n",
       "        text-align: right;\n",
       "    }\n",
       "</style>\n",
       "<table border=\"1\" class=\"dataframe\">\n",
       "  <thead>\n",
       "    <tr style=\"text-align: right;\">\n",
       "      <th></th>\n",
       "      <th>0</th>\n",
       "      <th>1</th>\n",
       "      <th>2</th>\n",
       "      <th>3</th>\n",
       "      <th>4</th>\n",
       "      <th>5</th>\n",
       "      <th>6</th>\n",
       "      <th>7</th>\n",
       "      <th>8</th>\n",
       "      <th>9</th>\n",
       "      <th>10</th>\n",
       "      <th>11</th>\n",
       "      <th>preds</th>\n",
       "      <th>amax</th>\n",
       "    </tr>\n",
       "  </thead>\n",
       "  <tbody>\n",
       "    <tr>\n",
       "      <th>0</th>\n",
       "      <td>0.000578</td>\n",
       "      <td>0.002447</td>\n",
       "      <td>0.001743</td>\n",
       "      <td>0.005855</td>\n",
       "      <td>0.010774</td>\n",
       "      <td>0.005971</td>\n",
       "      <td>0.008226</td>\n",
       "      <td>0.677725</td>\n",
       "      <td>0.002294</td>\n",
       "      <td>0.000546</td>\n",
       "      <td>0.252005</td>\n",
       "      <td>0.031836</td>\n",
       "      <td>[0.0005779137823761972, 0.002447165487599636, ...</td>\n",
       "      <td>0.677725</td>\n",
       "    </tr>\n",
       "    <tr>\n",
       "      <th>1</th>\n",
       "      <td>0.000271</td>\n",
       "      <td>0.001503</td>\n",
       "      <td>0.000369</td>\n",
       "      <td>0.002284</td>\n",
       "      <td>0.007125</td>\n",
       "      <td>0.002967</td>\n",
       "      <td>0.004562</td>\n",
       "      <td>0.919998</td>\n",
       "      <td>0.000390</td>\n",
       "      <td>0.000359</td>\n",
       "      <td>0.048673</td>\n",
       "      <td>0.011498</td>\n",
       "      <td>[0.0002714279874518555, 0.0015025634956925442,...</td>\n",
       "      <td>0.919998</td>\n",
       "    </tr>\n",
       "    <tr>\n",
       "      <th>2</th>\n",
       "      <td>0.000413</td>\n",
       "      <td>0.002987</td>\n",
       "      <td>0.000417</td>\n",
       "      <td>0.003089</td>\n",
       "      <td>0.006431</td>\n",
       "      <td>0.002637</td>\n",
       "      <td>0.005533</td>\n",
       "      <td>0.912368</td>\n",
       "      <td>0.000380</td>\n",
       "      <td>0.000317</td>\n",
       "      <td>0.054302</td>\n",
       "      <td>0.011125</td>\n",
       "      <td>[0.00041309920474994876, 0.002987160209617467,...</td>\n",
       "      <td>0.912368</td>\n",
       "    </tr>\n",
       "    <tr>\n",
       "      <th>3</th>\n",
       "      <td>0.000471</td>\n",
       "      <td>0.001796</td>\n",
       "      <td>0.000461</td>\n",
       "      <td>0.004815</td>\n",
       "      <td>0.004574</td>\n",
       "      <td>0.002477</td>\n",
       "      <td>0.004116</td>\n",
       "      <td>0.900181</td>\n",
       "      <td>0.000379</td>\n",
       "      <td>0.000400</td>\n",
       "      <td>0.065988</td>\n",
       "      <td>0.014343</td>\n",
       "      <td>[0.0004712294642750235, 0.001795560675008842, ...</td>\n",
       "      <td>0.900181</td>\n",
       "    </tr>\n",
       "    <tr>\n",
       "      <th>4</th>\n",
       "      <td>0.001789</td>\n",
       "      <td>0.020239</td>\n",
       "      <td>0.008261</td>\n",
       "      <td>0.030256</td>\n",
       "      <td>0.048493</td>\n",
       "      <td>0.036123</td>\n",
       "      <td>0.068212</td>\n",
       "      <td>0.179902</td>\n",
       "      <td>0.010910</td>\n",
       "      <td>0.011019</td>\n",
       "      <td>0.478735</td>\n",
       "      <td>0.106060</td>\n",
       "      <td>[0.001789468640802202, 0.020239206634337554, 0...</td>\n",
       "      <td>0.478735</td>\n",
       "    </tr>\n",
       "  </tbody>\n",
       "</table>\n",
       "</div>"
      ],
      "text/plain": [
       "          0         1         2         3         4         5         6  \\\n",
       "0  0.000578  0.002447  0.001743  0.005855  0.010774  0.005971  0.008226   \n",
       "1  0.000271  0.001503  0.000369  0.002284  0.007125  0.002967  0.004562   \n",
       "2  0.000413  0.002987  0.000417  0.003089  0.006431  0.002637  0.005533   \n",
       "3  0.000471  0.001796  0.000461  0.004815  0.004574  0.002477  0.004116   \n",
       "4  0.001789  0.020239  0.008261  0.030256  0.048493  0.036123  0.068212   \n",
       "\n",
       "          7         8         9        10        11  \\\n",
       "0  0.677725  0.002294  0.000546  0.252005  0.031836   \n",
       "1  0.919998  0.000390  0.000359  0.048673  0.011498   \n",
       "2  0.912368  0.000380  0.000317  0.054302  0.011125   \n",
       "3  0.900181  0.000379  0.000400  0.065988  0.014343   \n",
       "4  0.179902  0.010910  0.011019  0.478735  0.106060   \n",
       "\n",
       "                                               preds      amax  \n",
       "0  [0.0005779137823761972, 0.002447165487599636, ...  0.677725  \n",
       "1  [0.0002714279874518555, 0.0015025634956925442,...  0.919998  \n",
       "2  [0.00041309920474994876, 0.002987160209617467,...  0.912368  \n",
       "3  [0.0004712294642750235, 0.001795560675008842, ...  0.900181  \n",
       "4  [0.001789468640802202, 0.020239206634337554, 0...  0.478735  "
      ]
     },
     "execution_count": 133,
     "metadata": {},
     "output_type": "execute_result"
    }
   ],
   "source": [
    "preds_df.head()"
   ]
  },
  {
   "cell_type": "code",
   "execution_count": 134,
   "id": "f577c99d-ff6e-458a-93c0-04cc3344d4d0",
   "metadata": {},
   "outputs": [],
   "source": [
    "def find_nth_max_index(x, ix=1):\n",
    "    second_max = sorted(x)[-ix]\n",
    "    return x.index(second_max)\n",
    "\n",
    "\n",
    "def get_nth_best_result(x, ix=1):\n",
    "    return classes[find_nth_max_index(x, ix=ix)]"
   ]
  },
  {
   "cell_type": "code",
   "execution_count": 135,
   "id": "12034c06-8be7-4663-95f1-d5e688af8ecf",
   "metadata": {},
   "outputs": [
    {
     "data": {
      "text/plain": [
       "(7, 'NDF')"
      ]
     },
     "execution_count": 135,
     "metadata": {},
     "output_type": "execute_result"
    }
   ],
   "source": [
    "find_nth_max_index(preds_df.loc[0].preds), get_nth_best_result(preds_df.loc[0].preds)"
   ]
  },
  {
   "cell_type": "code",
   "execution_count": 136,
   "id": "3c6fdf8c-50dd-4599-8e4a-1e37efa2c41f",
   "metadata": {},
   "outputs": [],
   "source": [
    "preds_df['second'] = preds_df.preds.apply(lambda x: get_nth_best_result(x, ix=2))\n",
    "preds_df['first'] = preds_df.preds.apply(lambda x: get_nth_best_result(x))"
   ]
  },
  {
   "cell_type": "code",
   "execution_count": 137,
   "id": "2a3eb15c-07a9-4265-a75c-7cacf8b2ccc0",
   "metadata": {},
   "outputs": [
    {
     "data": {
      "text/html": [
       "<div>\n",
       "<style scoped>\n",
       "    .dataframe tbody tr th:only-of-type {\n",
       "        vertical-align: middle;\n",
       "    }\n",
       "\n",
       "    .dataframe tbody tr th {\n",
       "        vertical-align: top;\n",
       "    }\n",
       "\n",
       "    .dataframe thead th {\n",
       "        text-align: right;\n",
       "    }\n",
       "</style>\n",
       "<table border=\"1\" class=\"dataframe\">\n",
       "  <thead>\n",
       "    <tr style=\"text-align: right;\">\n",
       "      <th></th>\n",
       "      <th>0</th>\n",
       "      <th>1</th>\n",
       "      <th>2</th>\n",
       "      <th>3</th>\n",
       "      <th>4</th>\n",
       "      <th>5</th>\n",
       "      <th>6</th>\n",
       "      <th>7</th>\n",
       "      <th>8</th>\n",
       "      <th>9</th>\n",
       "      <th>10</th>\n",
       "      <th>11</th>\n",
       "      <th>preds</th>\n",
       "      <th>amax</th>\n",
       "      <th>second</th>\n",
       "      <th>first</th>\n",
       "    </tr>\n",
       "  </thead>\n",
       "  <tbody>\n",
       "    <tr>\n",
       "      <th>0</th>\n",
       "      <td>0.000578</td>\n",
       "      <td>0.002447</td>\n",
       "      <td>0.001743</td>\n",
       "      <td>0.005855</td>\n",
       "      <td>0.010774</td>\n",
       "      <td>0.005971</td>\n",
       "      <td>0.008226</td>\n",
       "      <td>0.677725</td>\n",
       "      <td>0.002294</td>\n",
       "      <td>0.000546</td>\n",
       "      <td>0.252005</td>\n",
       "      <td>0.031836</td>\n",
       "      <td>[0.0005779137823761972, 0.002447165487599636, ...</td>\n",
       "      <td>0.677725</td>\n",
       "      <td>US</td>\n",
       "      <td>NDF</td>\n",
       "    </tr>\n",
       "    <tr>\n",
       "      <th>1</th>\n",
       "      <td>0.000271</td>\n",
       "      <td>0.001503</td>\n",
       "      <td>0.000369</td>\n",
       "      <td>0.002284</td>\n",
       "      <td>0.007125</td>\n",
       "      <td>0.002967</td>\n",
       "      <td>0.004562</td>\n",
       "      <td>0.919998</td>\n",
       "      <td>0.000390</td>\n",
       "      <td>0.000359</td>\n",
       "      <td>0.048673</td>\n",
       "      <td>0.011498</td>\n",
       "      <td>[0.0002714279874518555, 0.0015025634956925442,...</td>\n",
       "      <td>0.919998</td>\n",
       "      <td>US</td>\n",
       "      <td>NDF</td>\n",
       "    </tr>\n",
       "    <tr>\n",
       "      <th>2</th>\n",
       "      <td>0.000413</td>\n",
       "      <td>0.002987</td>\n",
       "      <td>0.000417</td>\n",
       "      <td>0.003089</td>\n",
       "      <td>0.006431</td>\n",
       "      <td>0.002637</td>\n",
       "      <td>0.005533</td>\n",
       "      <td>0.912368</td>\n",
       "      <td>0.000380</td>\n",
       "      <td>0.000317</td>\n",
       "      <td>0.054302</td>\n",
       "      <td>0.011125</td>\n",
       "      <td>[0.00041309920474994876, 0.002987160209617467,...</td>\n",
       "      <td>0.912368</td>\n",
       "      <td>US</td>\n",
       "      <td>NDF</td>\n",
       "    </tr>\n",
       "    <tr>\n",
       "      <th>3</th>\n",
       "      <td>0.000471</td>\n",
       "      <td>0.001796</td>\n",
       "      <td>0.000461</td>\n",
       "      <td>0.004815</td>\n",
       "      <td>0.004574</td>\n",
       "      <td>0.002477</td>\n",
       "      <td>0.004116</td>\n",
       "      <td>0.900181</td>\n",
       "      <td>0.000379</td>\n",
       "      <td>0.000400</td>\n",
       "      <td>0.065988</td>\n",
       "      <td>0.014343</td>\n",
       "      <td>[0.0004712294642750235, 0.001795560675008842, ...</td>\n",
       "      <td>0.900181</td>\n",
       "      <td>US</td>\n",
       "      <td>NDF</td>\n",
       "    </tr>\n",
       "    <tr>\n",
       "      <th>4</th>\n",
       "      <td>0.001789</td>\n",
       "      <td>0.020239</td>\n",
       "      <td>0.008261</td>\n",
       "      <td>0.030256</td>\n",
       "      <td>0.048493</td>\n",
       "      <td>0.036123</td>\n",
       "      <td>0.068212</td>\n",
       "      <td>0.179902</td>\n",
       "      <td>0.010910</td>\n",
       "      <td>0.011019</td>\n",
       "      <td>0.478735</td>\n",
       "      <td>0.106060</td>\n",
       "      <td>[0.001789468640802202, 0.020239206634337554, 0...</td>\n",
       "      <td>0.478735</td>\n",
       "      <td>NDF</td>\n",
       "      <td>US</td>\n",
       "    </tr>\n",
       "  </tbody>\n",
       "</table>\n",
       "</div>"
      ],
      "text/plain": [
       "          0         1         2         3         4         5         6  \\\n",
       "0  0.000578  0.002447  0.001743  0.005855  0.010774  0.005971  0.008226   \n",
       "1  0.000271  0.001503  0.000369  0.002284  0.007125  0.002967  0.004562   \n",
       "2  0.000413  0.002987  0.000417  0.003089  0.006431  0.002637  0.005533   \n",
       "3  0.000471  0.001796  0.000461  0.004815  0.004574  0.002477  0.004116   \n",
       "4  0.001789  0.020239  0.008261  0.030256  0.048493  0.036123  0.068212   \n",
       "\n",
       "          7         8         9        10        11  \\\n",
       "0  0.677725  0.002294  0.000546  0.252005  0.031836   \n",
       "1  0.919998  0.000390  0.000359  0.048673  0.011498   \n",
       "2  0.912368  0.000380  0.000317  0.054302  0.011125   \n",
       "3  0.900181  0.000379  0.000400  0.065988  0.014343   \n",
       "4  0.179902  0.010910  0.011019  0.478735  0.106060   \n",
       "\n",
       "                                               preds      amax second first  \n",
       "0  [0.0005779137823761972, 0.002447165487599636, ...  0.677725     US   NDF  \n",
       "1  [0.0002714279874518555, 0.0015025634956925442,...  0.919998     US   NDF  \n",
       "2  [0.00041309920474994876, 0.002987160209617467,...  0.912368     US   NDF  \n",
       "3  [0.0004712294642750235, 0.001795560675008842, ...  0.900181     US   NDF  \n",
       "4  [0.001789468640802202, 0.020239206634337554, 0...  0.478735    NDF    US  "
      ]
     },
     "execution_count": 137,
     "metadata": {},
     "output_type": "execute_result"
    }
   ],
   "source": [
    "preds_df.head()"
   ]
  },
  {
   "cell_type": "code",
   "execution_count": 138,
   "id": "cd69d2b3-858d-467d-ad43-332e1bbac7c5",
   "metadata": {},
   "outputs": [],
   "source": [
    "preds_df['result'] = preds_df[['first', 'second']].apply(lambda x: list(x), axis=1)"
   ]
  },
  {
   "cell_type": "code",
   "execution_count": 139,
   "id": "d2a8466e-89c2-41c5-8d96-7325485ae530",
   "metadata": {},
   "outputs": [
    {
     "data": {
      "text/html": [
       "<div>\n",
       "<style scoped>\n",
       "    .dataframe tbody tr th:only-of-type {\n",
       "        vertical-align: middle;\n",
       "    }\n",
       "\n",
       "    .dataframe tbody tr th {\n",
       "        vertical-align: top;\n",
       "    }\n",
       "\n",
       "    .dataframe thead th {\n",
       "        text-align: right;\n",
       "    }\n",
       "</style>\n",
       "<table border=\"1\" class=\"dataframe\">\n",
       "  <thead>\n",
       "    <tr style=\"text-align: right;\">\n",
       "      <th></th>\n",
       "      <th>0</th>\n",
       "      <th>1</th>\n",
       "      <th>2</th>\n",
       "      <th>3</th>\n",
       "      <th>4</th>\n",
       "      <th>5</th>\n",
       "      <th>6</th>\n",
       "      <th>7</th>\n",
       "      <th>8</th>\n",
       "      <th>9</th>\n",
       "      <th>10</th>\n",
       "      <th>11</th>\n",
       "      <th>preds</th>\n",
       "      <th>amax</th>\n",
       "      <th>second</th>\n",
       "      <th>first</th>\n",
       "      <th>result</th>\n",
       "    </tr>\n",
       "  </thead>\n",
       "  <tbody>\n",
       "    <tr>\n",
       "      <th>0</th>\n",
       "      <td>0.000578</td>\n",
       "      <td>0.002447</td>\n",
       "      <td>0.001743</td>\n",
       "      <td>0.005855</td>\n",
       "      <td>0.010774</td>\n",
       "      <td>0.005971</td>\n",
       "      <td>0.008226</td>\n",
       "      <td>0.677725</td>\n",
       "      <td>0.002294</td>\n",
       "      <td>0.000546</td>\n",
       "      <td>0.252005</td>\n",
       "      <td>0.031836</td>\n",
       "      <td>[0.0005779137823761972, 0.002447165487599636, ...</td>\n",
       "      <td>0.677725</td>\n",
       "      <td>US</td>\n",
       "      <td>NDF</td>\n",
       "      <td>[NDF, US]</td>\n",
       "    </tr>\n",
       "    <tr>\n",
       "      <th>1</th>\n",
       "      <td>0.000271</td>\n",
       "      <td>0.001503</td>\n",
       "      <td>0.000369</td>\n",
       "      <td>0.002284</td>\n",
       "      <td>0.007125</td>\n",
       "      <td>0.002967</td>\n",
       "      <td>0.004562</td>\n",
       "      <td>0.919998</td>\n",
       "      <td>0.000390</td>\n",
       "      <td>0.000359</td>\n",
       "      <td>0.048673</td>\n",
       "      <td>0.011498</td>\n",
       "      <td>[0.0002714279874518555, 0.0015025634956925442,...</td>\n",
       "      <td>0.919998</td>\n",
       "      <td>US</td>\n",
       "      <td>NDF</td>\n",
       "      <td>[NDF, US]</td>\n",
       "    </tr>\n",
       "    <tr>\n",
       "      <th>2</th>\n",
       "      <td>0.000413</td>\n",
       "      <td>0.002987</td>\n",
       "      <td>0.000417</td>\n",
       "      <td>0.003089</td>\n",
       "      <td>0.006431</td>\n",
       "      <td>0.002637</td>\n",
       "      <td>0.005533</td>\n",
       "      <td>0.912368</td>\n",
       "      <td>0.000380</td>\n",
       "      <td>0.000317</td>\n",
       "      <td>0.054302</td>\n",
       "      <td>0.011125</td>\n",
       "      <td>[0.00041309920474994876, 0.002987160209617467,...</td>\n",
       "      <td>0.912368</td>\n",
       "      <td>US</td>\n",
       "      <td>NDF</td>\n",
       "      <td>[NDF, US]</td>\n",
       "    </tr>\n",
       "    <tr>\n",
       "      <th>3</th>\n",
       "      <td>0.000471</td>\n",
       "      <td>0.001796</td>\n",
       "      <td>0.000461</td>\n",
       "      <td>0.004815</td>\n",
       "      <td>0.004574</td>\n",
       "      <td>0.002477</td>\n",
       "      <td>0.004116</td>\n",
       "      <td>0.900181</td>\n",
       "      <td>0.000379</td>\n",
       "      <td>0.000400</td>\n",
       "      <td>0.065988</td>\n",
       "      <td>0.014343</td>\n",
       "      <td>[0.0004712294642750235, 0.001795560675008842, ...</td>\n",
       "      <td>0.900181</td>\n",
       "      <td>US</td>\n",
       "      <td>NDF</td>\n",
       "      <td>[NDF, US]</td>\n",
       "    </tr>\n",
       "    <tr>\n",
       "      <th>4</th>\n",
       "      <td>0.001789</td>\n",
       "      <td>0.020239</td>\n",
       "      <td>0.008261</td>\n",
       "      <td>0.030256</td>\n",
       "      <td>0.048493</td>\n",
       "      <td>0.036123</td>\n",
       "      <td>0.068212</td>\n",
       "      <td>0.179902</td>\n",
       "      <td>0.010910</td>\n",
       "      <td>0.011019</td>\n",
       "      <td>0.478735</td>\n",
       "      <td>0.106060</td>\n",
       "      <td>[0.001789468640802202, 0.020239206634337554, 0...</td>\n",
       "      <td>0.478735</td>\n",
       "      <td>NDF</td>\n",
       "      <td>US</td>\n",
       "      <td>[US, NDF]</td>\n",
       "    </tr>\n",
       "  </tbody>\n",
       "</table>\n",
       "</div>"
      ],
      "text/plain": [
       "          0         1         2         3         4         5         6  \\\n",
       "0  0.000578  0.002447  0.001743  0.005855  0.010774  0.005971  0.008226   \n",
       "1  0.000271  0.001503  0.000369  0.002284  0.007125  0.002967  0.004562   \n",
       "2  0.000413  0.002987  0.000417  0.003089  0.006431  0.002637  0.005533   \n",
       "3  0.000471  0.001796  0.000461  0.004815  0.004574  0.002477  0.004116   \n",
       "4  0.001789  0.020239  0.008261  0.030256  0.048493  0.036123  0.068212   \n",
       "\n",
       "          7         8         9        10        11  \\\n",
       "0  0.677725  0.002294  0.000546  0.252005  0.031836   \n",
       "1  0.919998  0.000390  0.000359  0.048673  0.011498   \n",
       "2  0.912368  0.000380  0.000317  0.054302  0.011125   \n",
       "3  0.900181  0.000379  0.000400  0.065988  0.014343   \n",
       "4  0.179902  0.010910  0.011019  0.478735  0.106060   \n",
       "\n",
       "                                               preds      amax second first  \\\n",
       "0  [0.0005779137823761972, 0.002447165487599636, ...  0.677725     US   NDF   \n",
       "1  [0.0002714279874518555, 0.0015025634956925442,...  0.919998     US   NDF   \n",
       "2  [0.00041309920474994876, 0.002987160209617467,...  0.912368     US   NDF   \n",
       "3  [0.0004712294642750235, 0.001795560675008842, ...  0.900181     US   NDF   \n",
       "4  [0.001789468640802202, 0.020239206634337554, 0...  0.478735    NDF    US   \n",
       "\n",
       "      result  \n",
       "0  [NDF, US]  \n",
       "1  [NDF, US]  \n",
       "2  [NDF, US]  \n",
       "3  [NDF, US]  \n",
       "4  [US, NDF]  "
      ]
     },
     "execution_count": 139,
     "metadata": {},
     "output_type": "execute_result"
    }
   ],
   "source": [
    "preds_df.head()"
   ]
  },
  {
   "cell_type": "code",
   "execution_count": 140,
   "id": "7a7c0d0f-a2c9-41cc-a75c-2d526a52ded6",
   "metadata": {},
   "outputs": [
    {
     "data": {
      "text/plain": [
       "21887"
      ]
     },
     "execution_count": 140,
     "metadata": {},
     "output_type": "execute_result"
    }
   ],
   "source": [
    "mask = preds_df.amax < 0.65\n",
    "mask.sum()"
   ]
  },
  {
   "cell_type": "code",
   "execution_count": 141,
   "id": "81284830-5093-4527-9aa0-4dfbff32d06f",
   "metadata": {},
   "outputs": [],
   "source": [
    "preds_df.loc[~mask, 'result'] = preds_df.loc[~mask, 'first']"
   ]
  },
  {
   "cell_type": "code",
   "execution_count": 142,
   "id": "9a85157c-386d-426b-a569-be9e97d3cfe4",
   "metadata": {},
   "outputs": [],
   "source": [
    "preds_df['id'] = df['user_id']"
   ]
  },
  {
   "cell_type": "code",
   "execution_count": 143,
   "id": "0d2f74b6-6ab8-49a7-b318-14d86d7a4431",
   "metadata": {},
   "outputs": [
    {
     "data": {
      "text/html": [
       "<div>\n",
       "<style scoped>\n",
       "    .dataframe tbody tr th:only-of-type {\n",
       "        vertical-align: middle;\n",
       "    }\n",
       "\n",
       "    .dataframe tbody tr th {\n",
       "        vertical-align: top;\n",
       "    }\n",
       "\n",
       "    .dataframe thead th {\n",
       "        text-align: right;\n",
       "    }\n",
       "</style>\n",
       "<table border=\"1\" class=\"dataframe\">\n",
       "  <thead>\n",
       "    <tr style=\"text-align: right;\">\n",
       "      <th></th>\n",
       "      <th>0</th>\n",
       "      <th>1</th>\n",
       "      <th>2</th>\n",
       "      <th>3</th>\n",
       "      <th>4</th>\n",
       "      <th>5</th>\n",
       "      <th>6</th>\n",
       "      <th>7</th>\n",
       "      <th>8</th>\n",
       "      <th>9</th>\n",
       "      <th>10</th>\n",
       "      <th>11</th>\n",
       "      <th>preds</th>\n",
       "      <th>amax</th>\n",
       "      <th>second</th>\n",
       "      <th>first</th>\n",
       "      <th>result</th>\n",
       "      <th>id</th>\n",
       "    </tr>\n",
       "  </thead>\n",
       "  <tbody>\n",
       "    <tr>\n",
       "      <th>56320</th>\n",
       "      <td>0.000586</td>\n",
       "      <td>0.002352</td>\n",
       "      <td>0.000951</td>\n",
       "      <td>0.006002</td>\n",
       "      <td>0.009454</td>\n",
       "      <td>0.006064</td>\n",
       "      <td>0.008225</td>\n",
       "      <td>0.893691</td>\n",
       "      <td>0.000693</td>\n",
       "      <td>0.000408</td>\n",
       "      <td>0.057902</td>\n",
       "      <td>0.013671</td>\n",
       "      <td>[0.0005861863170349066, 0.0023516672143977764,...</td>\n",
       "      <td>0.893691</td>\n",
       "      <td>US</td>\n",
       "      <td>NDF</td>\n",
       "      <td>NDF</td>\n",
       "      <td>6i6oe2pq90</td>\n",
       "    </tr>\n",
       "    <tr>\n",
       "      <th>15712</th>\n",
       "      <td>0.000409</td>\n",
       "      <td>0.001753</td>\n",
       "      <td>0.000294</td>\n",
       "      <td>0.001995</td>\n",
       "      <td>0.006271</td>\n",
       "      <td>0.002547</td>\n",
       "      <td>0.004392</td>\n",
       "      <td>0.923978</td>\n",
       "      <td>0.000329</td>\n",
       "      <td>0.000254</td>\n",
       "      <td>0.046665</td>\n",
       "      <td>0.011112</td>\n",
       "      <td>[0.00040943721713411144, 0.0017530625799288865...</td>\n",
       "      <td>0.923978</td>\n",
       "      <td>US</td>\n",
       "      <td>NDF</td>\n",
       "      <td>NDF</td>\n",
       "      <td>io2xkaqu6h</td>\n",
       "    </tr>\n",
       "    <tr>\n",
       "      <th>3732</th>\n",
       "      <td>0.000213</td>\n",
       "      <td>0.001078</td>\n",
       "      <td>0.000218</td>\n",
       "      <td>0.001576</td>\n",
       "      <td>0.002227</td>\n",
       "      <td>0.001174</td>\n",
       "      <td>0.001582</td>\n",
       "      <td>0.936217</td>\n",
       "      <td>0.000336</td>\n",
       "      <td>0.000142</td>\n",
       "      <td>0.046047</td>\n",
       "      <td>0.009191</td>\n",
       "      <td>[0.00021253732231914826, 0.0010781847446486594...</td>\n",
       "      <td>0.936217</td>\n",
       "      <td>US</td>\n",
       "      <td>NDF</td>\n",
       "      <td>NDF</td>\n",
       "      <td>1zmcx1p3xu</td>\n",
       "    </tr>\n",
       "    <tr>\n",
       "      <th>21993</th>\n",
       "      <td>0.000567</td>\n",
       "      <td>0.001486</td>\n",
       "      <td>0.000732</td>\n",
       "      <td>0.005199</td>\n",
       "      <td>0.006932</td>\n",
       "      <td>0.002898</td>\n",
       "      <td>0.003417</td>\n",
       "      <td>0.901046</td>\n",
       "      <td>0.000390</td>\n",
       "      <td>0.000673</td>\n",
       "      <td>0.065777</td>\n",
       "      <td>0.010882</td>\n",
       "      <td>[0.0005670184542179818, 0.00148605245597758, 0...</td>\n",
       "      <td>0.901046</td>\n",
       "      <td>US</td>\n",
       "      <td>NDF</td>\n",
       "      <td>NDF</td>\n",
       "      <td>litjt696rv</td>\n",
       "    </tr>\n",
       "    <tr>\n",
       "      <th>6682</th>\n",
       "      <td>0.002335</td>\n",
       "      <td>0.011288</td>\n",
       "      <td>0.006072</td>\n",
       "      <td>0.085135</td>\n",
       "      <td>0.073497</td>\n",
       "      <td>0.029284</td>\n",
       "      <td>0.025426</td>\n",
       "      <td>0.319069</td>\n",
       "      <td>0.008850</td>\n",
       "      <td>0.012805</td>\n",
       "      <td>0.316088</td>\n",
       "      <td>0.110151</td>\n",
       "      <td>[0.0023352425752437077, 0.011288058452726091, ...</td>\n",
       "      <td>0.319069</td>\n",
       "      <td>US</td>\n",
       "      <td>NDF</td>\n",
       "      <td>[NDF, US]</td>\n",
       "      <td>ycr4e6e5qv</td>\n",
       "    </tr>\n",
       "    <tr>\n",
       "      <th>53238</th>\n",
       "      <td>0.000255</td>\n",
       "      <td>0.002004</td>\n",
       "      <td>0.000329</td>\n",
       "      <td>0.001676</td>\n",
       "      <td>0.004854</td>\n",
       "      <td>0.001775</td>\n",
       "      <td>0.004483</td>\n",
       "      <td>0.935086</td>\n",
       "      <td>0.000387</td>\n",
       "      <td>0.000245</td>\n",
       "      <td>0.040047</td>\n",
       "      <td>0.008859</td>\n",
       "      <td>[0.0002547908901068263, 0.002004080563396204, ...</td>\n",
       "      <td>0.935086</td>\n",
       "      <td>US</td>\n",
       "      <td>NDF</td>\n",
       "      <td>NDF</td>\n",
       "      <td>2e8urjyhwp</td>\n",
       "    </tr>\n",
       "    <tr>\n",
       "      <th>22876</th>\n",
       "      <td>0.001371</td>\n",
       "      <td>0.004586</td>\n",
       "      <td>0.002075</td>\n",
       "      <td>0.003522</td>\n",
       "      <td>0.007551</td>\n",
       "      <td>0.002514</td>\n",
       "      <td>0.002611</td>\n",
       "      <td>0.783965</td>\n",
       "      <td>0.000867</td>\n",
       "      <td>0.000836</td>\n",
       "      <td>0.153241</td>\n",
       "      <td>0.036860</td>\n",
       "      <td>[0.0013709516773848266, 0.0045858476075972265,...</td>\n",
       "      <td>0.783965</td>\n",
       "      <td>US</td>\n",
       "      <td>NDF</td>\n",
       "      <td>NDF</td>\n",
       "      <td>dmew2au9zm</td>\n",
       "    </tr>\n",
       "    <tr>\n",
       "      <th>47706</th>\n",
       "      <td>0.000662</td>\n",
       "      <td>0.001857</td>\n",
       "      <td>0.000411</td>\n",
       "      <td>0.002940</td>\n",
       "      <td>0.006014</td>\n",
       "      <td>0.003265</td>\n",
       "      <td>0.003277</td>\n",
       "      <td>0.920422</td>\n",
       "      <td>0.000385</td>\n",
       "      <td>0.000459</td>\n",
       "      <td>0.043792</td>\n",
       "      <td>0.016515</td>\n",
       "      <td>[0.0006624997136144932, 0.0018574907181551862,...</td>\n",
       "      <td>0.920422</td>\n",
       "      <td>US</td>\n",
       "      <td>NDF</td>\n",
       "      <td>NDF</td>\n",
       "      <td>ybazcnmmrg</td>\n",
       "    </tr>\n",
       "    <tr>\n",
       "      <th>56201</th>\n",
       "      <td>0.003617</td>\n",
       "      <td>0.003175</td>\n",
       "      <td>0.003559</td>\n",
       "      <td>0.016131</td>\n",
       "      <td>0.020863</td>\n",
       "      <td>0.008571</td>\n",
       "      <td>0.007974</td>\n",
       "      <td>0.724606</td>\n",
       "      <td>0.002170</td>\n",
       "      <td>0.000723</td>\n",
       "      <td>0.151593</td>\n",
       "      <td>0.057018</td>\n",
       "      <td>[0.0036173196018861975, 0.003174843369357812, ...</td>\n",
       "      <td>0.724606</td>\n",
       "      <td>US</td>\n",
       "      <td>NDF</td>\n",
       "      <td>NDF</td>\n",
       "      <td>6rjejcdak2</td>\n",
       "    </tr>\n",
       "    <tr>\n",
       "      <th>20274</th>\n",
       "      <td>0.000678</td>\n",
       "      <td>0.004385</td>\n",
       "      <td>0.000933</td>\n",
       "      <td>0.010821</td>\n",
       "      <td>0.046518</td>\n",
       "      <td>0.013971</td>\n",
       "      <td>0.008514</td>\n",
       "      <td>0.057509</td>\n",
       "      <td>0.003511</td>\n",
       "      <td>0.000901</td>\n",
       "      <td>0.687726</td>\n",
       "      <td>0.164533</td>\n",
       "      <td>[0.0006776935272795066, 0.004385459094757413, ...</td>\n",
       "      <td>0.687726</td>\n",
       "      <td>other</td>\n",
       "      <td>US</td>\n",
       "      <td>US</td>\n",
       "      <td>yvu0efzcip</td>\n",
       "    </tr>\n",
       "  </tbody>\n",
       "</table>\n",
       "</div>"
      ],
      "text/plain": [
       "              0         1         2         3         4         5         6  \\\n",
       "56320  0.000586  0.002352  0.000951  0.006002  0.009454  0.006064  0.008225   \n",
       "15712  0.000409  0.001753  0.000294  0.001995  0.006271  0.002547  0.004392   \n",
       "3732   0.000213  0.001078  0.000218  0.001576  0.002227  0.001174  0.001582   \n",
       "21993  0.000567  0.001486  0.000732  0.005199  0.006932  0.002898  0.003417   \n",
       "6682   0.002335  0.011288  0.006072  0.085135  0.073497  0.029284  0.025426   \n",
       "53238  0.000255  0.002004  0.000329  0.001676  0.004854  0.001775  0.004483   \n",
       "22876  0.001371  0.004586  0.002075  0.003522  0.007551  0.002514  0.002611   \n",
       "47706  0.000662  0.001857  0.000411  0.002940  0.006014  0.003265  0.003277   \n",
       "56201  0.003617  0.003175  0.003559  0.016131  0.020863  0.008571  0.007974   \n",
       "20274  0.000678  0.004385  0.000933  0.010821  0.046518  0.013971  0.008514   \n",
       "\n",
       "              7         8         9        10        11  \\\n",
       "56320  0.893691  0.000693  0.000408  0.057902  0.013671   \n",
       "15712  0.923978  0.000329  0.000254  0.046665  0.011112   \n",
       "3732   0.936217  0.000336  0.000142  0.046047  0.009191   \n",
       "21993  0.901046  0.000390  0.000673  0.065777  0.010882   \n",
       "6682   0.319069  0.008850  0.012805  0.316088  0.110151   \n",
       "53238  0.935086  0.000387  0.000245  0.040047  0.008859   \n",
       "22876  0.783965  0.000867  0.000836  0.153241  0.036860   \n",
       "47706  0.920422  0.000385  0.000459  0.043792  0.016515   \n",
       "56201  0.724606  0.002170  0.000723  0.151593  0.057018   \n",
       "20274  0.057509  0.003511  0.000901  0.687726  0.164533   \n",
       "\n",
       "                                                   preds      amax second  \\\n",
       "56320  [0.0005861863170349066, 0.0023516672143977764,...  0.893691     US   \n",
       "15712  [0.00040943721713411144, 0.0017530625799288865...  0.923978     US   \n",
       "3732   [0.00021253732231914826, 0.0010781847446486594...  0.936217     US   \n",
       "21993  [0.0005670184542179818, 0.00148605245597758, 0...  0.901046     US   \n",
       "6682   [0.0023352425752437077, 0.011288058452726091, ...  0.319069     US   \n",
       "53238  [0.0002547908901068263, 0.002004080563396204, ...  0.935086     US   \n",
       "22876  [0.0013709516773848266, 0.0045858476075972265,...  0.783965     US   \n",
       "47706  [0.0006624997136144932, 0.0018574907181551862,...  0.920422     US   \n",
       "56201  [0.0036173196018861975, 0.003174843369357812, ...  0.724606     US   \n",
       "20274  [0.0006776935272795066, 0.004385459094757413, ...  0.687726  other   \n",
       "\n",
       "      first     result          id  \n",
       "56320   NDF        NDF  6i6oe2pq90  \n",
       "15712   NDF        NDF  io2xkaqu6h  \n",
       "3732    NDF        NDF  1zmcx1p3xu  \n",
       "21993   NDF        NDF  litjt696rv  \n",
       "6682    NDF  [NDF, US]  ycr4e6e5qv  \n",
       "53238   NDF        NDF  2e8urjyhwp  \n",
       "22876   NDF        NDF  dmew2au9zm  \n",
       "47706   NDF        NDF  ybazcnmmrg  \n",
       "56201   NDF        NDF  6rjejcdak2  \n",
       "20274    US         US  yvu0efzcip  "
      ]
     },
     "execution_count": 143,
     "metadata": {},
     "output_type": "execute_result"
    }
   ],
   "source": [
    "preds_df.sample(10, random_state=42)"
   ]
  },
  {
   "cell_type": "code",
   "execution_count": 144,
   "id": "f6483589-2cba-4145-a11f-7f91f69e052f",
   "metadata": {},
   "outputs": [
    {
     "data": {
      "text/plain": [
       "(83551, 2)"
      ]
     },
     "execution_count": 144,
     "metadata": {},
     "output_type": "execute_result"
    }
   ],
   "source": [
    "submission = preds_df[['id', 'result']].explode('result')\n",
    "submission.shape"
   ]
  },
  {
   "cell_type": "code",
   "execution_count": 145,
   "id": "221ba0a1-f61d-486d-ab3b-758eed7cf9c8",
   "metadata": {},
   "outputs": [
    {
     "data": {
      "text/html": [
       "<div>\n",
       "<style scoped>\n",
       "    .dataframe tbody tr th:only-of-type {\n",
       "        vertical-align: middle;\n",
       "    }\n",
       "\n",
       "    .dataframe tbody tr th {\n",
       "        vertical-align: top;\n",
       "    }\n",
       "\n",
       "    .dataframe thead th {\n",
       "        text-align: right;\n",
       "    }\n",
       "</style>\n",
       "<table border=\"1\" class=\"dataframe\">\n",
       "  <thead>\n",
       "    <tr style=\"text-align: right;\">\n",
       "      <th></th>\n",
       "      <th>id</th>\n",
       "      <th>result</th>\n",
       "    </tr>\n",
       "  </thead>\n",
       "  <tbody>\n",
       "    <tr>\n",
       "      <th>0</th>\n",
       "      <td>5uwns89zht</td>\n",
       "      <td>NDF</td>\n",
       "    </tr>\n",
       "    <tr>\n",
       "      <th>1</th>\n",
       "      <td>jtl0dijy2j</td>\n",
       "      <td>NDF</td>\n",
       "    </tr>\n",
       "    <tr>\n",
       "      <th>2</th>\n",
       "      <td>xx0ulgorjt</td>\n",
       "      <td>NDF</td>\n",
       "    </tr>\n",
       "    <tr>\n",
       "      <th>3</th>\n",
       "      <td>6c6puo6ix0</td>\n",
       "      <td>NDF</td>\n",
       "    </tr>\n",
       "    <tr>\n",
       "      <th>4</th>\n",
       "      <td>czqhjk3yfe</td>\n",
       "      <td>US</td>\n",
       "    </tr>\n",
       "  </tbody>\n",
       "</table>\n",
       "</div>"
      ],
      "text/plain": [
       "           id result\n",
       "0  5uwns89zht    NDF\n",
       "1  jtl0dijy2j    NDF\n",
       "2  xx0ulgorjt    NDF\n",
       "3  6c6puo6ix0    NDF\n",
       "4  czqhjk3yfe     US"
      ]
     },
     "execution_count": 145,
     "metadata": {},
     "output_type": "execute_result"
    }
   ],
   "source": [
    "submission.head()"
   ]
  },
  {
   "cell_type": "code",
   "execution_count": 146,
   "id": "b2e91514-61fb-4e43-b3d8-2e57b30586c6",
   "metadata": {},
   "outputs": [
    {
     "data": {
      "text/html": [
       "<div>\n",
       "<style scoped>\n",
       "    .dataframe tbody tr th:only-of-type {\n",
       "        vertical-align: middle;\n",
       "    }\n",
       "\n",
       "    .dataframe tbody tr th {\n",
       "        vertical-align: top;\n",
       "    }\n",
       "\n",
       "    .dataframe thead th {\n",
       "        text-align: right;\n",
       "    }\n",
       "</style>\n",
       "<table border=\"1\" class=\"dataframe\">\n",
       "  <thead>\n",
       "    <tr style=\"text-align: right;\">\n",
       "      <th></th>\n",
       "      <th>id</th>\n",
       "      <th>result</th>\n",
       "    </tr>\n",
       "  </thead>\n",
       "  <tbody>\n",
       "    <tr>\n",
       "      <th>6682</th>\n",
       "      <td>ycr4e6e5qv</td>\n",
       "      <td>NDF</td>\n",
       "    </tr>\n",
       "    <tr>\n",
       "      <th>6682</th>\n",
       "      <td>ycr4e6e5qv</td>\n",
       "      <td>US</td>\n",
       "    </tr>\n",
       "  </tbody>\n",
       "</table>\n",
       "</div>"
      ],
      "text/plain": [
       "              id result\n",
       "6682  ycr4e6e5qv    NDF\n",
       "6682  ycr4e6e5qv     US"
      ]
     },
     "execution_count": 146,
     "metadata": {},
     "output_type": "execute_result"
    }
   ],
   "source": [
    "submission[submission.id == 'ycr4e6e5qv']"
   ]
  },
  {
   "cell_type": "markdown",
   "id": "2cdce8bc-aa44-498b-a6a4-05ff9d48c2b3",
   "metadata": {
    "tags": []
   },
   "source": [
    "### 3.3 Saving NDCG aware submission"
   ]
  },
  {
   "cell_type": "code",
   "execution_count": 147,
   "id": "1941f53e-51e2-4c45-8693-f475ec3ac185",
   "metadata": {},
   "outputs": [],
   "source": [
    "submission.columns = ['id', 'country']"
   ]
  },
  {
   "cell_type": "code",
   "execution_count": 148,
   "id": "1262d829-b9b2-46df-af68-17f9b9f14bec",
   "metadata": {},
   "outputs": [],
   "source": [
    "submission.to_csv('../data/results/submission4.csv', index=False)"
   ]
  },
  {
   "cell_type": "code",
   "execution_count": null,
   "id": "c75146f9-264d-4196-be09-ab097fce6c54",
   "metadata": {},
   "outputs": [],
   "source": []
  },
  {
   "cell_type": "code",
   "execution_count": null,
   "id": "6c17f13d-1441-4fa4-a6fc-7ba13cbabd2f",
   "metadata": {},
   "outputs": [],
   "source": []
  },
  {
   "cell_type": "code",
   "execution_count": null,
   "id": "11788137-e275-4442-86b8-9b82b2a75e0f",
   "metadata": {},
   "outputs": [],
   "source": []
  },
  {
   "cell_type": "markdown",
   "id": "57067b26-b0c4-4b4d-93f9-8dd6a96e4db9",
   "metadata": {},
   "source": [
    "### 4. Assembling submission data"
   ]
  },
  {
   "cell_type": "code",
   "execution_count": 21,
   "id": "db385b0a-36b2-40e3-946e-e8af5ae0c3d9",
   "metadata": {},
   "outputs": [
    {
     "data": {
      "text/html": [
       "<div>\n",
       "<style scoped>\n",
       "    .dataframe tbody tr th:only-of-type {\n",
       "        vertical-align: middle;\n",
       "    }\n",
       "\n",
       "    .dataframe tbody tr th {\n",
       "        vertical-align: top;\n",
       "    }\n",
       "\n",
       "    .dataframe thead th {\n",
       "        text-align: right;\n",
       "    }\n",
       "</style>\n",
       "<table border=\"1\" class=\"dataframe\">\n",
       "  <thead>\n",
       "    <tr style=\"text-align: right;\">\n",
       "      <th></th>\n",
       "      <th>id</th>\n",
       "      <th>country</th>\n",
       "    </tr>\n",
       "  </thead>\n",
       "  <tbody>\n",
       "    <tr>\n",
       "      <th>0</th>\n",
       "      <td>5uwns89zht</td>\n",
       "      <td>NDF</td>\n",
       "    </tr>\n",
       "    <tr>\n",
       "      <th>1</th>\n",
       "      <td>jtl0dijy2j</td>\n",
       "      <td>NDF</td>\n",
       "    </tr>\n",
       "    <tr>\n",
       "      <th>2</th>\n",
       "      <td>xx0ulgorjt</td>\n",
       "      <td>NDF</td>\n",
       "    </tr>\n",
       "    <tr>\n",
       "      <th>3</th>\n",
       "      <td>6c6puo6ix0</td>\n",
       "      <td>NDF</td>\n",
       "    </tr>\n",
       "    <tr>\n",
       "      <th>4</th>\n",
       "      <td>czqhjk3yfe</td>\n",
       "      <td>NDF</td>\n",
       "    </tr>\n",
       "  </tbody>\n",
       "</table>\n",
       "</div>"
      ],
      "text/plain": [
       "           id country\n",
       "0  5uwns89zht     NDF\n",
       "1  jtl0dijy2j     NDF\n",
       "2  xx0ulgorjt     NDF\n",
       "3  6c6puo6ix0     NDF\n",
       "4  czqhjk3yfe     NDF"
      ]
     },
     "execution_count": 21,
     "metadata": {},
     "output_type": "execute_result"
    }
   ],
   "source": [
    "sample = pd.read_csv('../data/original/sample_submission_NDF.csv')\n",
    "sample.head()"
   ]
  },
  {
   "cell_type": "code",
   "execution_count": 25,
   "id": "20debaab-4afa-481f-97f4-e086c2884256",
   "metadata": {},
   "outputs": [
    {
     "data": {
      "text/plain": [
       "(61664, 2)"
      ]
     },
     "execution_count": 25,
     "metadata": {},
     "output_type": "execute_result"
    }
   ],
   "source": [
    "submission = pd.DataFrame({'id': df['user_id'], 'country': preds})\n",
    "submission.shape"
   ]
  },
  {
   "cell_type": "code",
   "execution_count": 26,
   "id": "aa77d03a-cda2-4013-9681-6a1edd616147",
   "metadata": {},
   "outputs": [
    {
     "data": {
      "text/html": [
       "<div>\n",
       "<style scoped>\n",
       "    .dataframe tbody tr th:only-of-type {\n",
       "        vertical-align: middle;\n",
       "    }\n",
       "\n",
       "    .dataframe tbody tr th {\n",
       "        vertical-align: top;\n",
       "    }\n",
       "\n",
       "    .dataframe thead th {\n",
       "        text-align: right;\n",
       "    }\n",
       "</style>\n",
       "<table border=\"1\" class=\"dataframe\">\n",
       "  <thead>\n",
       "    <tr style=\"text-align: right;\">\n",
       "      <th></th>\n",
       "      <th>id</th>\n",
       "      <th>country</th>\n",
       "    </tr>\n",
       "  </thead>\n",
       "  <tbody>\n",
       "    <tr>\n",
       "      <th>0</th>\n",
       "      <td>5uwns89zht</td>\n",
       "      <td>NDF</td>\n",
       "    </tr>\n",
       "    <tr>\n",
       "      <th>1</th>\n",
       "      <td>jtl0dijy2j</td>\n",
       "      <td>NDF</td>\n",
       "    </tr>\n",
       "    <tr>\n",
       "      <th>2</th>\n",
       "      <td>xx0ulgorjt</td>\n",
       "      <td>NDF</td>\n",
       "    </tr>\n",
       "    <tr>\n",
       "      <th>3</th>\n",
       "      <td>6c6puo6ix0</td>\n",
       "      <td>NDF</td>\n",
       "    </tr>\n",
       "    <tr>\n",
       "      <th>4</th>\n",
       "      <td>czqhjk3yfe</td>\n",
       "      <td>US</td>\n",
       "    </tr>\n",
       "  </tbody>\n",
       "</table>\n",
       "</div>"
      ],
      "text/plain": [
       "           id country\n",
       "0  5uwns89zht     NDF\n",
       "1  jtl0dijy2j     NDF\n",
       "2  xx0ulgorjt     NDF\n",
       "3  6c6puo6ix0     NDF\n",
       "4  czqhjk3yfe      US"
      ]
     },
     "execution_count": 26,
     "metadata": {},
     "output_type": "execute_result"
    }
   ],
   "source": [
    "submission.head()"
   ]
  },
  {
   "cell_type": "code",
   "execution_count": 27,
   "id": "bcd3a061-663f-48a1-a44c-a17a1cae8b2c",
   "metadata": {},
   "outputs": [],
   "source": [
    "submission.to_csv('../data/results/submission1.csv', index=False)"
   ]
  },
  {
   "cell_type": "code",
   "execution_count": null,
   "id": "34245117-d608-40dc-abd7-425f33087a17",
   "metadata": {},
   "outputs": [],
   "source": []
  }
 ],
 "metadata": {
  "kernelspec": {
   "display_name": "Python 3 (ipykernel)",
   "language": "python",
   "name": "python3"
  },
  "language_info": {
   "codemirror_mode": {
    "name": "ipython",
    "version": 3
   },
   "file_extension": ".py",
   "mimetype": "text/x-python",
   "name": "python",
   "nbconvert_exporter": "python",
   "pygments_lexer": "ipython3",
   "version": "3.9.6"
  }
 },
 "nbformat": 4,
 "nbformat_minor": 5
}
