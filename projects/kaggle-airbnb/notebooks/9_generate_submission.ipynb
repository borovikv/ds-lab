{
 "cells": [
  {
   "cell_type": "markdown",
   "id": "56625c50-ae79-4d79-b5a1-717b223c760d",
   "metadata": {},
   "source": [
    "## Generatig predicitons for the submission dataset"
   ]
  },
  {
   "cell_type": "code",
   "execution_count": 1,
   "id": "1e13fd9d-8854-4b22-b9c8-a269f97c5276",
   "metadata": {},
   "outputs": [],
   "source": [
    "from catboost import CatBoostClassifier, Pool\n",
    "import pandas as pd\n",
    "from collections import Counter\n",
    "from tqdm.notebook import tqdm\n",
    "import numpy as np\n",
    "import glob"
   ]
  },
  {
   "cell_type": "markdown",
   "id": "e63779f3-214b-476c-8bb9-3e538bc11826",
   "metadata": {},
   "source": [
    "### 0. Loading and preparing data"
   ]
  },
  {
   "cell_type": "code",
   "execution_count": 2,
   "id": "bd865fa3-b3fc-4c08-9e5e-da8e28f4dafe",
   "metadata": {},
   "outputs": [
    {
     "data": {
      "text/plain": [
       "(62096, 1105)"
      ]
     },
     "execution_count": 2,
     "metadata": {},
     "output_type": "execute_result"
    }
   ],
   "source": [
    "# df = pd.read_parquet('../data/processed/test_features.parquet')\n",
    "# df = pd.read_parquet('../data/processed/test_features_uncorr.parquet')\n",
    "df = pd.read_parquet('../data/processed/test_features.parquet')\n",
    "df.shape"
   ]
  },
  {
   "cell_type": "code",
   "execution_count": 4,
   "id": "462c51b1-122a-41cf-9620-5af8695ae2d3",
   "metadata": {},
   "outputs": [],
   "source": [
    "df['nan_counts'] = df.isnull().sum(axis=1)"
   ]
  },
  {
   "cell_type": "code",
   "execution_count": 5,
   "id": "9d9b866d-0603-4137-9bf1-ff2fbe2b8530",
   "metadata": {},
   "outputs": [],
   "source": [
    "if 'train_flag' in df:\n",
    "    df.drop('train_flag', inplace=True, axis=1)\n",
    "    df.reset_index(drop=True, inplace=True)\n",
    "    df.shape"
   ]
  },
  {
   "cell_type": "code",
   "execution_count": 6,
   "id": "6f93e654-42df-4fce-b0c3-75e47b623c48",
   "metadata": {},
   "outputs": [
    {
     "data": {
      "text/html": [
       "<div>\n",
       "<style scoped>\n",
       "    .dataframe tbody tr th:only-of-type {\n",
       "        vertical-align: middle;\n",
       "    }\n",
       "\n",
       "    .dataframe tbody tr th {\n",
       "        vertical-align: top;\n",
       "    }\n",
       "\n",
       "    .dataframe thead th {\n",
       "        text-align: right;\n",
       "    }\n",
       "</style>\n",
       "<table border=\"1\" class=\"dataframe\">\n",
       "  <thead>\n",
       "    <tr style=\"text-align: right;\">\n",
       "      <th></th>\n",
       "      <th>user_id</th>\n",
       "      <th>gender</th>\n",
       "      <th>age</th>\n",
       "      <th>signup_method</th>\n",
       "      <th>signup_flow</th>\n",
       "      <th>language</th>\n",
       "      <th>affiliate_channel</th>\n",
       "      <th>affiliate_provider</th>\n",
       "      <th>first_affiliate_tracked</th>\n",
       "      <th>signup_app</th>\n",
       "      <th>...</th>\n",
       "      <th>deltas_no_num_outliers</th>\n",
       "      <th>secs_elapsed_mean</th>\n",
       "      <th>secs_elapsed_std</th>\n",
       "      <th>secs_elapsed_max</th>\n",
       "      <th>secs_elapsed_min</th>\n",
       "      <th>secs_elapsed_median</th>\n",
       "      <th>secs_elapsed_mode</th>\n",
       "      <th>secs_elapsed_mode_count</th>\n",
       "      <th>device_count</th>\n",
       "      <th>nan_counts</th>\n",
       "    </tr>\n",
       "  </thead>\n",
       "  <tbody>\n",
       "    <tr>\n",
       "      <th>0</th>\n",
       "      <td>5uwns89zht</td>\n",
       "      <td>FEMALE</td>\n",
       "      <td>35.0</td>\n",
       "      <td>facebook</td>\n",
       "      <td>0</td>\n",
       "      <td>en</td>\n",
       "      <td>direct</td>\n",
       "      <td>direct</td>\n",
       "      <td>untracked</td>\n",
       "      <td>Moweb</td>\n",
       "      <td>...</td>\n",
       "      <td>1.0</td>\n",
       "      <td>14898.375000</td>\n",
       "      <td>21621.413801</td>\n",
       "      <td>64883.0</td>\n",
       "      <td>0.0</td>\n",
       "      <td>2018.5</td>\n",
       "      <td>0.0</td>\n",
       "      <td>1.0</td>\n",
       "      <td>2.0</td>\n",
       "      <td>331</td>\n",
       "    </tr>\n",
       "    <tr>\n",
       "      <th>1</th>\n",
       "      <td>jtl0dijy2j</td>\n",
       "      <td>-unknown-</td>\n",
       "      <td>-1.0</td>\n",
       "      <td>basic</td>\n",
       "      <td>0</td>\n",
       "      <td>en</td>\n",
       "      <td>direct</td>\n",
       "      <td>direct</td>\n",
       "      <td>untracked</td>\n",
       "      <td>Moweb</td>\n",
       "      <td>...</td>\n",
       "      <td>1.0</td>\n",
       "      <td>13164.157895</td>\n",
       "      <td>18194.475733</td>\n",
       "      <td>61881.0</td>\n",
       "      <td>0.0</td>\n",
       "      <td>3228.0</td>\n",
       "      <td>0.0</td>\n",
       "      <td>1.0</td>\n",
       "      <td>2.0</td>\n",
       "      <td>327</td>\n",
       "    </tr>\n",
       "    <tr>\n",
       "      <th>2</th>\n",
       "      <td>xx0ulgorjt</td>\n",
       "      <td>-unknown-</td>\n",
       "      <td>-1.0</td>\n",
       "      <td>basic</td>\n",
       "      <td>0</td>\n",
       "      <td>en</td>\n",
       "      <td>direct</td>\n",
       "      <td>direct</td>\n",
       "      <td>linked</td>\n",
       "      <td>Web</td>\n",
       "      <td>...</td>\n",
       "      <td>2.0</td>\n",
       "      <td>16820.258621</td>\n",
       "      <td>36679.560932</td>\n",
       "      <td>270618.0</td>\n",
       "      <td>0.0</td>\n",
       "      <td>8635.5</td>\n",
       "      <td>768.0</td>\n",
       "      <td>2.0</td>\n",
       "      <td>1.0</td>\n",
       "      <td>330</td>\n",
       "    </tr>\n",
       "    <tr>\n",
       "      <th>3</th>\n",
       "      <td>6c6puo6ix0</td>\n",
       "      <td>-unknown-</td>\n",
       "      <td>-1.0</td>\n",
       "      <td>basic</td>\n",
       "      <td>0</td>\n",
       "      <td>en</td>\n",
       "      <td>direct</td>\n",
       "      <td>direct</td>\n",
       "      <td>linked</td>\n",
       "      <td>Web</td>\n",
       "      <td>...</td>\n",
       "      <td>1.0</td>\n",
       "      <td>11181.909091</td>\n",
       "      <td>30370.377866</td>\n",
       "      <td>106481.0</td>\n",
       "      <td>0.0</td>\n",
       "      <td>231.0</td>\n",
       "      <td>0.0</td>\n",
       "      <td>1.0</td>\n",
       "      <td>1.0</td>\n",
       "      <td>329</td>\n",
       "    </tr>\n",
       "    <tr>\n",
       "      <th>4</th>\n",
       "      <td>czqhjk3yfe</td>\n",
       "      <td>-unknown-</td>\n",
       "      <td>-1.0</td>\n",
       "      <td>basic</td>\n",
       "      <td>0</td>\n",
       "      <td>en</td>\n",
       "      <td>direct</td>\n",
       "      <td>direct</td>\n",
       "      <td>untracked</td>\n",
       "      <td>Web</td>\n",
       "      <td>...</td>\n",
       "      <td>1.0</td>\n",
       "      <td>23895.947368</td>\n",
       "      <td>53805.073963</td>\n",
       "      <td>219369.0</td>\n",
       "      <td>0.0</td>\n",
       "      <td>1123.0</td>\n",
       "      <td>0.0</td>\n",
       "      <td>2.0</td>\n",
       "      <td>1.0</td>\n",
       "      <td>322</td>\n",
       "    </tr>\n",
       "  </tbody>\n",
       "</table>\n",
       "<p>5 rows × 1105 columns</p>\n",
       "</div>"
      ],
      "text/plain": [
       "      user_id     gender   age signup_method  signup_flow language  \\\n",
       "0  5uwns89zht     FEMALE  35.0      facebook            0       en   \n",
       "1  jtl0dijy2j  -unknown-  -1.0         basic            0       en   \n",
       "2  xx0ulgorjt  -unknown-  -1.0         basic            0       en   \n",
       "3  6c6puo6ix0  -unknown-  -1.0         basic            0       en   \n",
       "4  czqhjk3yfe  -unknown-  -1.0         basic            0       en   \n",
       "\n",
       "  affiliate_channel affiliate_provider first_affiliate_tracked signup_app  \\\n",
       "0            direct             direct               untracked      Moweb   \n",
       "1            direct             direct               untracked      Moweb   \n",
       "2            direct             direct                  linked        Web   \n",
       "3            direct             direct                  linked        Web   \n",
       "4            direct             direct               untracked        Web   \n",
       "\n",
       "   ... deltas_no_num_outliers secs_elapsed_mean secs_elapsed_std  \\\n",
       "0  ...                    1.0      14898.375000     21621.413801   \n",
       "1  ...                    1.0      13164.157895     18194.475733   \n",
       "2  ...                    2.0      16820.258621     36679.560932   \n",
       "3  ...                    1.0      11181.909091     30370.377866   \n",
       "4  ...                    1.0      23895.947368     53805.073963   \n",
       "\n",
       "   secs_elapsed_max  secs_elapsed_min  secs_elapsed_median  secs_elapsed_mode  \\\n",
       "0           64883.0               0.0               2018.5                0.0   \n",
       "1           61881.0               0.0               3228.0                0.0   \n",
       "2          270618.0               0.0               8635.5              768.0   \n",
       "3          106481.0               0.0                231.0                0.0   \n",
       "4          219369.0               0.0               1123.0                0.0   \n",
       "\n",
       "   secs_elapsed_mode_count  device_count  nan_counts  \n",
       "0                      1.0           2.0         331  \n",
       "1                      1.0           2.0         327  \n",
       "2                      2.0           1.0         330  \n",
       "3                      1.0           1.0         329  \n",
       "4                      2.0           1.0         322  \n",
       "\n",
       "[5 rows x 1105 columns]"
      ]
     },
     "execution_count": 6,
     "metadata": {},
     "output_type": "execute_result"
    }
   ],
   "source": [
    "df.head()"
   ]
  },
  {
   "cell_type": "code",
   "execution_count": 7,
   "id": "5e61a40a-b152-4e26-b709-57fda1c6354c",
   "metadata": {},
   "outputs": [],
   "source": [
    "df.drop('country_destination', axis=1, inplace=True)"
   ]
  },
  {
   "cell_type": "code",
   "execution_count": 8,
   "id": "f19a239f-823b-4b38-877f-43b9c2627c0b",
   "metadata": {},
   "outputs": [],
   "source": [
    "x = df.drop('user_id', axis=1)"
   ]
  },
  {
   "cell_type": "code",
   "execution_count": 9,
   "id": "fdc83ec1-a28d-4e46-8d31-dcf7726aafa1",
   "metadata": {},
   "outputs": [],
   "source": [
    "cat_features = [\n",
    "    'gender',\n",
    "    'signup_method',\n",
    "    'signup_flow',\n",
    "    'language',\n",
    "    'affiliate_channel',\n",
    "    'affiliate_provider',\n",
    "    'first_affiliate_tracked',\n",
    "    'signup_app',\n",
    "    'first_device_type',\n",
    "    'first_browser',\n",
    "    'dow_registered',\n",
    "    'hr_registered',\n",
    "    'age_group',\n",
    "    'dow_registered',\n",
    "    'day_registered',\n",
    "    'month_registered',\n",
    "    'year_registered',\n",
    "]"
   ]
  },
  {
   "cell_type": "code",
   "execution_count": 10,
   "id": "e83da9f9-c340-46a7-9538-0157d3d66868",
   "metadata": {},
   "outputs": [
    {
     "data": {
      "text/plain": [
       "(17, 16, 0)"
      ]
     },
     "execution_count": 10,
     "metadata": {},
     "output_type": "execute_result"
    }
   ],
   "source": [
    "cat_features_remained = list(set(cat_features).intersection(set(df)))\n",
    "cat_features_removed = set(cat_features) - set(df)\n",
    "len(cat_features), len(cat_features_remained), len(cat_features_removed)                                      "
   ]
  },
  {
   "cell_type": "code",
   "execution_count": 11,
   "id": "bbf54d34-c616-4a80-b976-1dd368beb8b2",
   "metadata": {},
   "outputs": [],
   "source": [
    "for col in cat_features_remained:\n",
    "    x[col].fillna('', inplace=True)\n",
    "    x[col] = x[col].astype('category')"
   ]
  },
  {
   "cell_type": "markdown",
   "id": "bee88d7a-0445-49cc-b2f1-9b83fd366332",
   "metadata": {},
   "source": [
    "### 2. Loading model"
   ]
  },
  {
   "cell_type": "code",
   "execution_count": 12,
   "id": "705067bb-09f9-4c4a-ab0c-4ea16675d449",
   "metadata": {},
   "outputs": [],
   "source": [
    "def find_latest_model(path='../models/', ext='cbm'):\n",
    "    files = glob.glob(f\"{path}*.{ext}\")\n",
    "    files = [file for file in files if len(file) > 25]\n",
    "    files = sorted(files)\n",
    "    return files[-1]"
   ]
  },
  {
   "cell_type": "code",
   "execution_count": 13,
   "id": "79ec30f1-7f2d-435d-ad5c-0e1db06d871a",
   "metadata": {},
   "outputs": [
    {
     "data": {
      "text/plain": [
       "'../models/model_2021_09_07_13_13_22.cbm'"
      ]
     },
     "execution_count": 13,
     "metadata": {},
     "output_type": "execute_result"
    }
   ],
   "source": [
    "path = find_latest_model()\n",
    "path"
   ]
  },
  {
   "cell_type": "code",
   "execution_count": 14,
   "id": "d9e063e1-1d74-4c9f-a91f-1dc2446c1c0a",
   "metadata": {},
   "outputs": [
    {
     "data": {
      "text/plain": [
       "<catboost.core.CatBoostClassifier at 0x7f5ea7c55ca0>"
      ]
     },
     "execution_count": 14,
     "metadata": {},
     "output_type": "execute_result"
    }
   ],
   "source": [
    "model = CatBoostClassifier()\n",
    "model.load_model(path)"
   ]
  },
  {
   "cell_type": "markdown",
   "id": "364ab529-b7a6-45bd-9647-6686b1d02f72",
   "metadata": {
    "tags": []
   },
   "source": [
    "### 3.3 Predicting 5 Countries of Destination per each user"
   ]
  },
  {
   "cell_type": "code",
   "execution_count": 15,
   "id": "fe9cfa5d-54c1-46ff-91d4-b5f9b14c58f2",
   "metadata": {},
   "outputs": [
    {
     "data": {
      "text/plain": [
       "['AU', 'CA', 'DE', 'ES', 'FR', 'GB', 'IT', 'NDF', 'NL', 'PT', 'US', 'other']"
      ]
     },
     "execution_count": 15,
     "metadata": {},
     "output_type": "execute_result"
    }
   ],
   "source": [
    "classes = list(model.classes_)\n",
    "classes"
   ]
  },
  {
   "cell_type": "code",
   "execution_count": 16,
   "id": "0868e1aa-705a-4970-9355-32a854cdce73",
   "metadata": {},
   "outputs": [],
   "source": [
    "preds = model.predict_proba(x)\n",
    "preds = preds.tolist()"
   ]
  },
  {
   "cell_type": "code",
   "execution_count": 17,
   "id": "ba8c4877-1552-412d-83f4-b2a949721a99",
   "metadata": {},
   "outputs": [],
   "source": [
    "preds_df = pd.DataFrame({'preds': preds})\n",
    "preds_df['amax'] = preds_df.preds.apply(lambda x: max(x))"
   ]
  },
  {
   "cell_type": "code",
   "execution_count": 41,
   "id": "c24699fb-c577-445c-be22-9ed1c6cec273",
   "metadata": {},
   "outputs": [
    {
     "data": {
      "text/html": [
       "<div>\n",
       "<style scoped>\n",
       "    .dataframe tbody tr th:only-of-type {\n",
       "        vertical-align: middle;\n",
       "    }\n",
       "\n",
       "    .dataframe tbody tr th {\n",
       "        vertical-align: top;\n",
       "    }\n",
       "\n",
       "    .dataframe thead th {\n",
       "        text-align: right;\n",
       "    }\n",
       "</style>\n",
       "<table border=\"1\" class=\"dataframe\">\n",
       "  <thead>\n",
       "    <tr style=\"text-align: right;\">\n",
       "      <th></th>\n",
       "      <th>preds</th>\n",
       "      <th>amax</th>\n",
       "    </tr>\n",
       "  </thead>\n",
       "  <tbody>\n",
       "    <tr>\n",
       "      <th>0</th>\n",
       "      <td>[0.0010269467471738652, 0.0014246948595342296,...</td>\n",
       "      <td>0.747805</td>\n",
       "    </tr>\n",
       "    <tr>\n",
       "      <th>1</th>\n",
       "      <td>[0.0004502293971102514, 0.00125392177918135, 0...</td>\n",
       "      <td>0.935231</td>\n",
       "    </tr>\n",
       "    <tr>\n",
       "      <th>2</th>\n",
       "      <td>[0.000261753904187894, 0.001617964762779733, 0...</td>\n",
       "      <td>0.925779</td>\n",
       "    </tr>\n",
       "    <tr>\n",
       "      <th>3</th>\n",
       "      <td>[0.000669060777995511, 0.002272208988472939, 0...</td>\n",
       "      <td>0.900147</td>\n",
       "    </tr>\n",
       "    <tr>\n",
       "      <th>4</th>\n",
       "      <td>[0.002998427260432197, 0.01306027545451322, 0....</td>\n",
       "      <td>0.573226</td>\n",
       "    </tr>\n",
       "  </tbody>\n",
       "</table>\n",
       "</div>"
      ],
      "text/plain": [
       "                                               preds      amax\n",
       "0  [0.0010269467471738652, 0.0014246948595342296,...  0.747805\n",
       "1  [0.0004502293971102514, 0.00125392177918135, 0...  0.935231\n",
       "2  [0.000261753904187894, 0.001617964762779733, 0...  0.925779\n",
       "3  [0.000669060777995511, 0.002272208988472939, 0...  0.900147\n",
       "4  [0.002998427260432197, 0.01306027545451322, 0....  0.573226"
      ]
     },
     "execution_count": 41,
     "metadata": {},
     "output_type": "execute_result"
    }
   ],
   "source": [
    "preds_df.head()"
   ]
  },
  {
   "cell_type": "code",
   "execution_count": 22,
   "id": "015b78e3-340e-474d-8f04-2f4aee4ffdff",
   "metadata": {},
   "outputs": [],
   "source": [
    "def find_max_n_indeces(x, n=1):\n",
    "    n_indeces = sorted(x, reverse=True)[:n]\n",
    "    n_indeces = [x.index(el) for el in n_indeces]\n",
    "    return n_indeces\n",
    "\n",
    "\n",
    "def get_best_n_result(x, n=5):\n",
    "    n_indeces = find_max_n_indeces(x, n=n)\n",
    "    best_n = [classes[ix] for ix in n_indeces]\n",
    "    return best_n"
   ]
  },
  {
   "cell_type": "code",
   "execution_count": 23,
   "id": "cb52b635-be73-4255-88b2-e639d7e2f79a",
   "metadata": {},
   "outputs": [
    {
     "data": {
      "text/plain": [
       "([7, 10, 11, 4, 6], ['NDF', 'US', 'other', 'FR', 'IT'])"
      ]
     },
     "execution_count": 23,
     "metadata": {},
     "output_type": "execute_result"
    }
   ],
   "source": [
    "find_max_n_indeces(preds_df.loc[0].preds, n=5), get_best_n_result(preds_df.loc[0].preds, n=5)"
   ]
  },
  {
   "cell_type": "code",
   "execution_count": 43,
   "id": "af51ba4c-9a2e-430d-98f9-6d080baedc18",
   "metadata": {},
   "outputs": [
    {
     "data": {
      "text/plain": [
       "([7, 10, 11, 4, 6], ['NDF', 'US', 'other', 'FR', 'IT'])"
      ]
     },
     "execution_count": 43,
     "metadata": {},
     "output_type": "execute_result"
    }
   ],
   "source": [
    "find_max_n_indeces(preds_df.loc[0].preds, n=5), get_best_n_result(preds_df.loc[0].preds, n=5)"
   ]
  },
  {
   "cell_type": "code",
   "execution_count": 24,
   "id": "7f0978f1-86b1-4f66-8058-75ba75d2ba8c",
   "metadata": {},
   "outputs": [],
   "source": [
    "preds_df['best5'] = preds_df.preds.apply(lambda x: get_best_n_result(x, n=5))"
   ]
  },
  {
   "cell_type": "code",
   "execution_count": 25,
   "id": "a1b88964-d05a-4de1-8efc-c6efce275e62",
   "metadata": {},
   "outputs": [
    {
     "data": {
      "text/html": [
       "<div>\n",
       "<style scoped>\n",
       "    .dataframe tbody tr th:only-of-type {\n",
       "        vertical-align: middle;\n",
       "    }\n",
       "\n",
       "    .dataframe tbody tr th {\n",
       "        vertical-align: top;\n",
       "    }\n",
       "\n",
       "    .dataframe thead th {\n",
       "        text-align: right;\n",
       "    }\n",
       "</style>\n",
       "<table border=\"1\" class=\"dataframe\">\n",
       "  <thead>\n",
       "    <tr style=\"text-align: right;\">\n",
       "      <th></th>\n",
       "      <th>preds</th>\n",
       "      <th>amax</th>\n",
       "      <th>best5</th>\n",
       "    </tr>\n",
       "  </thead>\n",
       "  <tbody>\n",
       "    <tr>\n",
       "      <th>0</th>\n",
       "      <td>[0.0014153491591661668, 0.0019351088592688157,...</td>\n",
       "      <td>0.738517</td>\n",
       "      <td>[NDF, US, other, FR, IT]</td>\n",
       "    </tr>\n",
       "    <tr>\n",
       "      <th>1</th>\n",
       "      <td>[0.0003372142934274278, 0.0009500093615831471,...</td>\n",
       "      <td>0.933253</td>\n",
       "      <td>[NDF, US, other, FR, IT]</td>\n",
       "    </tr>\n",
       "    <tr>\n",
       "      <th>2</th>\n",
       "      <td>[0.0005100003462029771, 0.0024536754525149116,...</td>\n",
       "      <td>0.902827</td>\n",
       "      <td>[NDF, US, other, FR, IT]</td>\n",
       "    </tr>\n",
       "    <tr>\n",
       "      <th>3</th>\n",
       "      <td>[0.0006337672109018841, 0.001682966073952498, ...</td>\n",
       "      <td>0.900345</td>\n",
       "      <td>[NDF, US, other, FR, IT]</td>\n",
       "    </tr>\n",
       "    <tr>\n",
       "      <th>4</th>\n",
       "      <td>[0.0014454263928507245, 0.010040377251178444, ...</td>\n",
       "      <td>0.617810</td>\n",
       "      <td>[US, NDF, other, FR, IT]</td>\n",
       "    </tr>\n",
       "  </tbody>\n",
       "</table>\n",
       "</div>"
      ],
      "text/plain": [
       "                                               preds      amax  \\\n",
       "0  [0.0014153491591661668, 0.0019351088592688157,...  0.738517   \n",
       "1  [0.0003372142934274278, 0.0009500093615831471,...  0.933253   \n",
       "2  [0.0005100003462029771, 0.0024536754525149116,...  0.902827   \n",
       "3  [0.0006337672109018841, 0.001682966073952498, ...  0.900345   \n",
       "4  [0.0014454263928507245, 0.010040377251178444, ...  0.617810   \n",
       "\n",
       "                      best5  \n",
       "0  [NDF, US, other, FR, IT]  \n",
       "1  [NDF, US, other, FR, IT]  \n",
       "2  [NDF, US, other, FR, IT]  \n",
       "3  [NDF, US, other, FR, IT]  \n",
       "4  [US, NDF, other, FR, IT]  "
      ]
     },
     "execution_count": 25,
     "metadata": {},
     "output_type": "execute_result"
    }
   ],
   "source": [
    "preds_df.head()"
   ]
  },
  {
   "cell_type": "code",
   "execution_count": 45,
   "id": "f8895afe-e1b8-4ae3-b7d7-7a4bd68ae296",
   "metadata": {},
   "outputs": [
    {
     "data": {
      "text/html": [
       "<div>\n",
       "<style scoped>\n",
       "    .dataframe tbody tr th:only-of-type {\n",
       "        vertical-align: middle;\n",
       "    }\n",
       "\n",
       "    .dataframe tbody tr th {\n",
       "        vertical-align: top;\n",
       "    }\n",
       "\n",
       "    .dataframe thead th {\n",
       "        text-align: right;\n",
       "    }\n",
       "</style>\n",
       "<table border=\"1\" class=\"dataframe\">\n",
       "  <thead>\n",
       "    <tr style=\"text-align: right;\">\n",
       "      <th></th>\n",
       "      <th>preds</th>\n",
       "      <th>amax</th>\n",
       "      <th>best5</th>\n",
       "    </tr>\n",
       "  </thead>\n",
       "  <tbody>\n",
       "    <tr>\n",
       "      <th>0</th>\n",
       "      <td>[0.0010269467471738652, 0.0014246948595342296,...</td>\n",
       "      <td>0.747805</td>\n",
       "      <td>[NDF, US, other, FR, IT]</td>\n",
       "    </tr>\n",
       "    <tr>\n",
       "      <th>1</th>\n",
       "      <td>[0.0004502293971102514, 0.00125392177918135, 0...</td>\n",
       "      <td>0.935231</td>\n",
       "      <td>[NDF, US, other, FR, IT]</td>\n",
       "    </tr>\n",
       "    <tr>\n",
       "      <th>2</th>\n",
       "      <td>[0.000261753904187894, 0.001617964762779733, 0...</td>\n",
       "      <td>0.925779</td>\n",
       "      <td>[NDF, US, other, FR, IT]</td>\n",
       "    </tr>\n",
       "    <tr>\n",
       "      <th>3</th>\n",
       "      <td>[0.000669060777995511, 0.002272208988472939, 0...</td>\n",
       "      <td>0.900147</td>\n",
       "      <td>[NDF, US, other, FR, IT]</td>\n",
       "    </tr>\n",
       "    <tr>\n",
       "      <th>4</th>\n",
       "      <td>[0.002998427260432197, 0.01306027545451322, 0....</td>\n",
       "      <td>0.573226</td>\n",
       "      <td>[US, NDF, other, FR, IT]</td>\n",
       "    </tr>\n",
       "  </tbody>\n",
       "</table>\n",
       "</div>"
      ],
      "text/plain": [
       "                                               preds      amax  \\\n",
       "0  [0.0010269467471738652, 0.0014246948595342296,...  0.747805   \n",
       "1  [0.0004502293971102514, 0.00125392177918135, 0...  0.935231   \n",
       "2  [0.000261753904187894, 0.001617964762779733, 0...  0.925779   \n",
       "3  [0.000669060777995511, 0.002272208988472939, 0...  0.900147   \n",
       "4  [0.002998427260432197, 0.01306027545451322, 0....  0.573226   \n",
       "\n",
       "                      best5  \n",
       "0  [NDF, US, other, FR, IT]  \n",
       "1  [NDF, US, other, FR, IT]  \n",
       "2  [NDF, US, other, FR, IT]  \n",
       "3  [NDF, US, other, FR, IT]  \n",
       "4  [US, NDF, other, FR, IT]  "
      ]
     },
     "execution_count": 45,
     "metadata": {},
     "output_type": "execute_result"
    }
   ],
   "source": [
    "preds_df.head()"
   ]
  },
  {
   "cell_type": "code",
   "execution_count": 26,
   "id": "62a8a1b8-654b-4026-bf1b-599c8cea38e4",
   "metadata": {},
   "outputs": [],
   "source": [
    "preds_df['id'] = df['user_id']"
   ]
  },
  {
   "cell_type": "code",
   "execution_count": 27,
   "id": "d842ad92-7975-407e-aee8-ec88f8838628",
   "metadata": {},
   "outputs": [
    {
     "data": {
      "text/html": [
       "<div>\n",
       "<style scoped>\n",
       "    .dataframe tbody tr th:only-of-type {\n",
       "        vertical-align: middle;\n",
       "    }\n",
       "\n",
       "    .dataframe tbody tr th {\n",
       "        vertical-align: top;\n",
       "    }\n",
       "\n",
       "    .dataframe thead th {\n",
       "        text-align: right;\n",
       "    }\n",
       "</style>\n",
       "<table border=\"1\" class=\"dataframe\">\n",
       "  <thead>\n",
       "    <tr style=\"text-align: right;\">\n",
       "      <th></th>\n",
       "      <th>preds</th>\n",
       "      <th>amax</th>\n",
       "      <th>best5</th>\n",
       "      <th>id</th>\n",
       "    </tr>\n",
       "  </thead>\n",
       "  <tbody>\n",
       "    <tr>\n",
       "      <th>0</th>\n",
       "      <td>[0.0014153491591661668, 0.0019351088592688157,...</td>\n",
       "      <td>0.738517</td>\n",
       "      <td>[NDF, US, other, FR, IT]</td>\n",
       "      <td>5uwns89zht</td>\n",
       "    </tr>\n",
       "    <tr>\n",
       "      <th>1</th>\n",
       "      <td>[0.0003372142934274278, 0.0009500093615831471,...</td>\n",
       "      <td>0.933253</td>\n",
       "      <td>[NDF, US, other, FR, IT]</td>\n",
       "      <td>jtl0dijy2j</td>\n",
       "    </tr>\n",
       "    <tr>\n",
       "      <th>2</th>\n",
       "      <td>[0.0005100003462029771, 0.0024536754525149116,...</td>\n",
       "      <td>0.902827</td>\n",
       "      <td>[NDF, US, other, FR, IT]</td>\n",
       "      <td>xx0ulgorjt</td>\n",
       "    </tr>\n",
       "    <tr>\n",
       "      <th>3</th>\n",
       "      <td>[0.0006337672109018841, 0.001682966073952498, ...</td>\n",
       "      <td>0.900345</td>\n",
       "      <td>[NDF, US, other, FR, IT]</td>\n",
       "      <td>6c6puo6ix0</td>\n",
       "    </tr>\n",
       "    <tr>\n",
       "      <th>4</th>\n",
       "      <td>[0.0014454263928507245, 0.010040377251178444, ...</td>\n",
       "      <td>0.617810</td>\n",
       "      <td>[US, NDF, other, FR, IT]</td>\n",
       "      <td>czqhjk3yfe</td>\n",
       "    </tr>\n",
       "  </tbody>\n",
       "</table>\n",
       "</div>"
      ],
      "text/plain": [
       "                                               preds      amax  \\\n",
       "0  [0.0014153491591661668, 0.0019351088592688157,...  0.738517   \n",
       "1  [0.0003372142934274278, 0.0009500093615831471,...  0.933253   \n",
       "2  [0.0005100003462029771, 0.0024536754525149116,...  0.902827   \n",
       "3  [0.0006337672109018841, 0.001682966073952498, ...  0.900345   \n",
       "4  [0.0014454263928507245, 0.010040377251178444, ...  0.617810   \n",
       "\n",
       "                      best5          id  \n",
       "0  [NDF, US, other, FR, IT]  5uwns89zht  \n",
       "1  [NDF, US, other, FR, IT]  jtl0dijy2j  \n",
       "2  [NDF, US, other, FR, IT]  xx0ulgorjt  \n",
       "3  [NDF, US, other, FR, IT]  6c6puo6ix0  \n",
       "4  [US, NDF, other, FR, IT]  czqhjk3yfe  "
      ]
     },
     "execution_count": 27,
     "metadata": {},
     "output_type": "execute_result"
    }
   ],
   "source": [
    "preds_df.head()"
   ]
  },
  {
   "cell_type": "code",
   "execution_count": 28,
   "id": "d2d7f7ed-815a-44d5-add9-8ab36dd92906",
   "metadata": {},
   "outputs": [
    {
     "data": {
      "text/plain": [
       "(310480, 2)"
      ]
     },
     "execution_count": 28,
     "metadata": {},
     "output_type": "execute_result"
    }
   ],
   "source": [
    "submission = preds_df[['id', 'best5']].explode('best5')\n",
    "submission.shape"
   ]
  },
  {
   "cell_type": "code",
   "execution_count": 29,
   "id": "c77f252a-27fb-4485-8973-b64f53117e5b",
   "metadata": {},
   "outputs": [
    {
     "data": {
      "text/html": [
       "<div>\n",
       "<style scoped>\n",
       "    .dataframe tbody tr th:only-of-type {\n",
       "        vertical-align: middle;\n",
       "    }\n",
       "\n",
       "    .dataframe tbody tr th {\n",
       "        vertical-align: top;\n",
       "    }\n",
       "\n",
       "    .dataframe thead th {\n",
       "        text-align: right;\n",
       "    }\n",
       "</style>\n",
       "<table border=\"1\" class=\"dataframe\">\n",
       "  <thead>\n",
       "    <tr style=\"text-align: right;\">\n",
       "      <th></th>\n",
       "      <th>id</th>\n",
       "      <th>best5</th>\n",
       "    </tr>\n",
       "  </thead>\n",
       "  <tbody>\n",
       "    <tr>\n",
       "      <th>0</th>\n",
       "      <td>5uwns89zht</td>\n",
       "      <td>NDF</td>\n",
       "    </tr>\n",
       "    <tr>\n",
       "      <th>0</th>\n",
       "      <td>5uwns89zht</td>\n",
       "      <td>US</td>\n",
       "    </tr>\n",
       "    <tr>\n",
       "      <th>0</th>\n",
       "      <td>5uwns89zht</td>\n",
       "      <td>other</td>\n",
       "    </tr>\n",
       "    <tr>\n",
       "      <th>0</th>\n",
       "      <td>5uwns89zht</td>\n",
       "      <td>FR</td>\n",
       "    </tr>\n",
       "    <tr>\n",
       "      <th>0</th>\n",
       "      <td>5uwns89zht</td>\n",
       "      <td>IT</td>\n",
       "    </tr>\n",
       "  </tbody>\n",
       "</table>\n",
       "</div>"
      ],
      "text/plain": [
       "           id  best5\n",
       "0  5uwns89zht    NDF\n",
       "0  5uwns89zht     US\n",
       "0  5uwns89zht  other\n",
       "0  5uwns89zht     FR\n",
       "0  5uwns89zht     IT"
      ]
     },
     "execution_count": 29,
     "metadata": {},
     "output_type": "execute_result"
    }
   ],
   "source": [
    "submission.head()"
   ]
  },
  {
   "cell_type": "code",
   "execution_count": null,
   "id": "550b48e6-2efb-4f5d-ab9c-64516c177db8",
   "metadata": {},
   "outputs": [],
   "source": []
  },
  {
   "cell_type": "code",
   "execution_count": null,
   "id": "492978ec-8af9-4a5d-b703-5bb43b3f13f4",
   "metadata": {},
   "outputs": [],
   "source": []
  },
  {
   "cell_type": "markdown",
   "id": "2cdce8bc-aa44-498b-a6a4-05ff9d48c2b3",
   "metadata": {
    "tags": []
   },
   "source": [
    "### 4 Saving NDCG aware submission"
   ]
  },
  {
   "cell_type": "code",
   "execution_count": 30,
   "id": "1941f53e-51e2-4c45-8693-f475ec3ac185",
   "metadata": {},
   "outputs": [],
   "source": [
    "submission.columns = ['id', 'country']"
   ]
  },
  {
   "cell_type": "code",
   "execution_count": 31,
   "id": "0ddd321a-b379-4a01-a77e-889037110eec",
   "metadata": {},
   "outputs": [
    {
     "data": {
      "text/plain": [
       "'_2021_09_07_13_13_22'"
      ]
     },
     "execution_count": 31,
     "metadata": {},
     "output_type": "execute_result"
    }
   ],
   "source": [
    "path[-24:-4]"
   ]
  },
  {
   "cell_type": "code",
   "execution_count": 32,
   "id": "1262d829-b9b2-46df-af68-17f9b9f14bec",
   "metadata": {},
   "outputs": [],
   "source": [
    "submission.to_csv(f'../data/results/submission{path[-24:-4]}.csv', index=False)"
   ]
  },
  {
   "cell_type": "code",
   "execution_count": null,
   "id": "c75146f9-264d-4196-be09-ab097fce6c54",
   "metadata": {},
   "outputs": [],
   "source": []
  },
  {
   "cell_type": "code",
   "execution_count": null,
   "id": "6c17f13d-1441-4fa4-a6fc-7ba13cbabd2f",
   "metadata": {},
   "outputs": [],
   "source": []
  },
  {
   "cell_type": "code",
   "execution_count": null,
   "id": "11788137-e275-4442-86b8-9b82b2a75e0f",
   "metadata": {},
   "outputs": [],
   "source": []
  },
  {
   "cell_type": "code",
   "execution_count": null,
   "id": "11e74579-b3ca-4310-9fda-a3dc51988b45",
   "metadata": {},
   "outputs": [],
   "source": []
  },
  {
   "cell_type": "code",
   "execution_count": null,
   "id": "6f62d913-88e0-4f53-a3a4-df624cf13092",
   "metadata": {},
   "outputs": [],
   "source": []
  },
  {
   "cell_type": "code",
   "execution_count": null,
   "id": "b3f0408c-533a-4aa3-8b8e-a63dbb0f3148",
   "metadata": {},
   "outputs": [],
   "source": []
  },
  {
   "cell_type": "code",
   "execution_count": 31,
   "id": "7a20ba8e-f94f-45d7-a921-ded3e41e3fc2",
   "metadata": {},
   "outputs": [],
   "source": [
    "def get_sum_of_top_n(x, n=1):\n",
    "    return sum(sorted(x, reverse=True)[:n])"
   ]
  },
  {
   "cell_type": "code",
   "execution_count": 39,
   "id": "b10f9bd7-2683-4900-8c4f-9bc670e8ddd4",
   "metadata": {},
   "outputs": [],
   "source": [
    "preds_df['sum5'] = preds_df.preds.apply(lambda x: get_sum_of_top_n(x, 5))\n",
    "preds_df['sum4'] = preds_df.preds.apply(lambda x: get_sum_of_top_n(x, 4))"
   ]
  },
  {
   "cell_type": "code",
   "execution_count": 104,
   "id": "83b5c70e-81d9-453e-a5f7-eabadb6c48e6",
   "metadata": {},
   "outputs": [
    {
     "data": {
      "text/html": [
       "<div>\n",
       "<style scoped>\n",
       "    .dataframe tbody tr th:only-of-type {\n",
       "        vertical-align: middle;\n",
       "    }\n",
       "\n",
       "    .dataframe tbody tr th {\n",
       "        vertical-align: top;\n",
       "    }\n",
       "\n",
       "    .dataframe thead th {\n",
       "        text-align: right;\n",
       "    }\n",
       "</style>\n",
       "<table border=\"1\" class=\"dataframe\">\n",
       "  <thead>\n",
       "    <tr style=\"text-align: right;\">\n",
       "      <th></th>\n",
       "      <th>preds</th>\n",
       "      <th>amax</th>\n",
       "      <th>best5</th>\n",
       "      <th>id</th>\n",
       "      <th>sum5</th>\n",
       "      <th>sum4</th>\n",
       "    </tr>\n",
       "  </thead>\n",
       "  <tbody>\n",
       "    <tr>\n",
       "      <th>0</th>\n",
       "      <td>[0.0017519423826669101, 0.0025576312800302354,...</td>\n",
       "      <td>0.722504</td>\n",
       "      <td>[NDF, US, other, FR, ES]</td>\n",
       "      <td>5uwns89zht</td>\n",
       "      <td>0.981460</td>\n",
       "      <td>0.975482</td>\n",
       "    </tr>\n",
       "    <tr>\n",
       "      <th>1</th>\n",
       "      <td>[0.0003099675259051736, 0.0012446993304778772,...</td>\n",
       "      <td>0.915085</td>\n",
       "      <td>[NDF, US, other, FR, IT]</td>\n",
       "      <td>jtl0dijy2j</td>\n",
       "      <td>0.992252</td>\n",
       "      <td>0.988651</td>\n",
       "    </tr>\n",
       "    <tr>\n",
       "      <th>2</th>\n",
       "      <td>[0.0004179162173000709, 0.0018952815415556588,...</td>\n",
       "      <td>0.907168</td>\n",
       "      <td>[NDF, US, other, FR, IT]</td>\n",
       "      <td>xx0ulgorjt</td>\n",
       "      <td>0.988325</td>\n",
       "      <td>0.983484</td>\n",
       "    </tr>\n",
       "    <tr>\n",
       "      <th>3</th>\n",
       "      <td>[0.0005074904824394839, 0.002024573985089579, ...</td>\n",
       "      <td>0.893670</td>\n",
       "      <td>[NDF, US, other, FR, IT]</td>\n",
       "      <td>6c6puo6ix0</td>\n",
       "      <td>0.987371</td>\n",
       "      <td>0.981406</td>\n",
       "    </tr>\n",
       "    <tr>\n",
       "      <th>4</th>\n",
       "      <td>[0.0016562760789289195, 0.0210273290185944, 0....</td>\n",
       "      <td>0.535922</td>\n",
       "      <td>[US, NDF, other, FR, IT]</td>\n",
       "      <td>czqhjk3yfe</td>\n",
       "      <td>0.910988</td>\n",
       "      <td>0.873365</td>\n",
       "    </tr>\n",
       "  </tbody>\n",
       "</table>\n",
       "</div>"
      ],
      "text/plain": [
       "                                               preds      amax  \\\n",
       "0  [0.0017519423826669101, 0.0025576312800302354,...  0.722504   \n",
       "1  [0.0003099675259051736, 0.0012446993304778772,...  0.915085   \n",
       "2  [0.0004179162173000709, 0.0018952815415556588,...  0.907168   \n",
       "3  [0.0005074904824394839, 0.002024573985089579, ...  0.893670   \n",
       "4  [0.0016562760789289195, 0.0210273290185944, 0....  0.535922   \n",
       "\n",
       "                      best5          id      sum5      sum4  \n",
       "0  [NDF, US, other, FR, ES]  5uwns89zht  0.981460  0.975482  \n",
       "1  [NDF, US, other, FR, IT]  jtl0dijy2j  0.992252  0.988651  \n",
       "2  [NDF, US, other, FR, IT]  xx0ulgorjt  0.988325  0.983484  \n",
       "3  [NDF, US, other, FR, IT]  6c6puo6ix0  0.987371  0.981406  \n",
       "4  [US, NDF, other, FR, IT]  czqhjk3yfe  0.910988  0.873365  "
      ]
     },
     "execution_count": 104,
     "metadata": {},
     "output_type": "execute_result"
    }
   ],
   "source": [
    "preds_df.head()"
   ]
  },
  {
   "cell_type": "code",
   "execution_count": 129,
   "id": "d9b5a9b7-2329-428a-8407-753fc1a13414",
   "metadata": {},
   "outputs": [
    {
     "data": {
      "text/plain": [
       "(745152, 2)"
      ]
     },
     "execution_count": 129,
     "metadata": {},
     "output_type": "execute_result"
    }
   ],
   "source": [
    "s = preds_df[['id', 'preds']].explode('preds').copy(deep=True)\n",
    "s.shape"
   ]
  },
  {
   "cell_type": "code",
   "execution_count": 130,
   "id": "f8649b97-f085-4cfe-b401-c316511d06e1",
   "metadata": {},
   "outputs": [],
   "source": [
    "s.preds = s.preds.astype(float)"
   ]
  },
  {
   "cell_type": "code",
   "execution_count": 131,
   "id": "75ea5c1b-fd72-4224-a2d4-89da49e33f56",
   "metadata": {},
   "outputs": [
    {
     "data": {
      "text/plain": [
       "['AU', 'CA', 'DE', 'ES', 'FR', 'GB', 'IT', 'NDF', 'NL', 'PT', 'US', 'other']"
      ]
     },
     "execution_count": 131,
     "metadata": {},
     "output_type": "execute_result"
    }
   ],
   "source": [
    "classes"
   ]
  },
  {
   "cell_type": "code",
   "execution_count": 132,
   "id": "eda2b124-a240-4586-870a-db8ba82b25d7",
   "metadata": {},
   "outputs": [],
   "source": [
    "s['country'] = classes * int(len(s) / len(classes))"
   ]
  },
  {
   "cell_type": "code",
   "execution_count": 133,
   "id": "ed6af3a7-672b-4ce4-83e5-1917339cda81",
   "metadata": {},
   "outputs": [
    {
     "data": {
      "text/html": [
       "<div>\n",
       "<style scoped>\n",
       "    .dataframe tbody tr th:only-of-type {\n",
       "        vertical-align: middle;\n",
       "    }\n",
       "\n",
       "    .dataframe tbody tr th {\n",
       "        vertical-align: top;\n",
       "    }\n",
       "\n",
       "    .dataframe thead th {\n",
       "        text-align: right;\n",
       "    }\n",
       "</style>\n",
       "<table border=\"1\" class=\"dataframe\">\n",
       "  <thead>\n",
       "    <tr style=\"text-align: right;\">\n",
       "      <th></th>\n",
       "      <th>id</th>\n",
       "      <th>preds</th>\n",
       "      <th>country</th>\n",
       "    </tr>\n",
       "  </thead>\n",
       "  <tbody>\n",
       "    <tr>\n",
       "      <th>0</th>\n",
       "      <td>5uwns89zht</td>\n",
       "      <td>0.001752</td>\n",
       "      <td>AU</td>\n",
       "    </tr>\n",
       "    <tr>\n",
       "      <th>0</th>\n",
       "      <td>5uwns89zht</td>\n",
       "      <td>0.002558</td>\n",
       "      <td>CA</td>\n",
       "    </tr>\n",
       "    <tr>\n",
       "      <th>0</th>\n",
       "      <td>5uwns89zht</td>\n",
       "      <td>0.002094</td>\n",
       "      <td>DE</td>\n",
       "    </tr>\n",
       "    <tr>\n",
       "      <th>0</th>\n",
       "      <td>5uwns89zht</td>\n",
       "      <td>0.005978</td>\n",
       "      <td>ES</td>\n",
       "    </tr>\n",
       "    <tr>\n",
       "      <th>0</th>\n",
       "      <td>5uwns89zht</td>\n",
       "      <td>0.009647</td>\n",
       "      <td>FR</td>\n",
       "    </tr>\n",
       "  </tbody>\n",
       "</table>\n",
       "</div>"
      ],
      "text/plain": [
       "           id     preds country\n",
       "0  5uwns89zht  0.001752      AU\n",
       "0  5uwns89zht  0.002558      CA\n",
       "0  5uwns89zht  0.002094      DE\n",
       "0  5uwns89zht  0.005978      ES\n",
       "0  5uwns89zht  0.009647      FR"
      ]
     },
     "execution_count": 133,
     "metadata": {},
     "output_type": "execute_result"
    }
   ],
   "source": [
    "s.head()"
   ]
  },
  {
   "cell_type": "code",
   "execution_count": 134,
   "id": "33a964b0-0104-4fa6-a6d5-e96e7bd3f27f",
   "metadata": {},
   "outputs": [
    {
     "data": {
      "text/plain": [
       "pandas.core.series.Series"
      ]
     },
     "execution_count": 134,
     "metadata": {},
     "output_type": "execute_result"
    }
   ],
   "source": [
    "type(s.loc[0].preds)"
   ]
  },
  {
   "cell_type": "code",
   "execution_count": 135,
   "id": "87c8d484-1ea4-44cf-aa65-28c43acbe677",
   "metadata": {},
   "outputs": [],
   "source": [
    "s = s.sort_values(['id', 'preds'], ascending=[True, False])\n",
    "s.reset_index(drop=True, inplace=True)"
   ]
  },
  {
   "cell_type": "code",
   "execution_count": 136,
   "id": "39ed4839-d786-49e4-a91f-f76c5b579450",
   "metadata": {},
   "outputs": [],
   "source": [
    "ss = s[['id', 'preds']].groupby('id', as_index=False).preds.cumsum()"
   ]
  },
  {
   "cell_type": "code",
   "execution_count": 137,
   "id": "affcc1f0-30fd-4cbe-b28c-f6d6abd2c848",
   "metadata": {},
   "outputs": [],
   "source": [
    "s['preds_sum'] = ss"
   ]
  },
  {
   "cell_type": "code",
   "execution_count": 138,
   "id": "5905b4ee-0a3e-415d-af4f-e9fc671da484",
   "metadata": {},
   "outputs": [
    {
     "data": {
      "text/html": [
       "<div>\n",
       "<style scoped>\n",
       "    .dataframe tbody tr th:only-of-type {\n",
       "        vertical-align: middle;\n",
       "    }\n",
       "\n",
       "    .dataframe tbody tr th {\n",
       "        vertical-align: top;\n",
       "    }\n",
       "\n",
       "    .dataframe thead th {\n",
       "        text-align: right;\n",
       "    }\n",
       "</style>\n",
       "<table border=\"1\" class=\"dataframe\">\n",
       "  <thead>\n",
       "    <tr style=\"text-align: right;\">\n",
       "      <th></th>\n",
       "      <th>id</th>\n",
       "      <th>preds</th>\n",
       "      <th>country</th>\n",
       "      <th>preds_sum</th>\n",
       "    </tr>\n",
       "  </thead>\n",
       "  <tbody>\n",
       "    <tr>\n",
       "      <th>0</th>\n",
       "      <td>0010k6l0om</td>\n",
       "      <td>0.894683</td>\n",
       "      <td>NDF</td>\n",
       "      <td>0.894683</td>\n",
       "    </tr>\n",
       "    <tr>\n",
       "      <th>1</th>\n",
       "      <td>0010k6l0om</td>\n",
       "      <td>0.060999</td>\n",
       "      <td>US</td>\n",
       "      <td>0.955681</td>\n",
       "    </tr>\n",
       "    <tr>\n",
       "      <th>2</th>\n",
       "      <td>0010k6l0om</td>\n",
       "      <td>0.016941</td>\n",
       "      <td>other</td>\n",
       "      <td>0.972623</td>\n",
       "    </tr>\n",
       "    <tr>\n",
       "      <th>3</th>\n",
       "      <td>0010k6l0om</td>\n",
       "      <td>0.007212</td>\n",
       "      <td>FR</td>\n",
       "      <td>0.979835</td>\n",
       "    </tr>\n",
       "    <tr>\n",
       "      <th>4</th>\n",
       "      <td>0010k6l0om</td>\n",
       "      <td>0.006491</td>\n",
       "      <td>IT</td>\n",
       "      <td>0.986326</td>\n",
       "    </tr>\n",
       "    <tr>\n",
       "      <th>5</th>\n",
       "      <td>0010k6l0om</td>\n",
       "      <td>0.003739</td>\n",
       "      <td>ES</td>\n",
       "      <td>0.990065</td>\n",
       "    </tr>\n",
       "    <tr>\n",
       "      <th>6</th>\n",
       "      <td>0010k6l0om</td>\n",
       "      <td>0.003323</td>\n",
       "      <td>GB</td>\n",
       "      <td>0.993388</td>\n",
       "    </tr>\n",
       "    <tr>\n",
       "      <th>7</th>\n",
       "      <td>0010k6l0om</td>\n",
       "      <td>0.003198</td>\n",
       "      <td>CA</td>\n",
       "      <td>0.996586</td>\n",
       "    </tr>\n",
       "    <tr>\n",
       "      <th>8</th>\n",
       "      <td>0010k6l0om</td>\n",
       "      <td>0.001122</td>\n",
       "      <td>DE</td>\n",
       "      <td>0.997708</td>\n",
       "    </tr>\n",
       "    <tr>\n",
       "      <th>9</th>\n",
       "      <td>0010k6l0om</td>\n",
       "      <td>0.000962</td>\n",
       "      <td>NL</td>\n",
       "      <td>0.998670</td>\n",
       "    </tr>\n",
       "    <tr>\n",
       "      <th>10</th>\n",
       "      <td>0010k6l0om</td>\n",
       "      <td>0.000728</td>\n",
       "      <td>PT</td>\n",
       "      <td>0.999398</td>\n",
       "    </tr>\n",
       "    <tr>\n",
       "      <th>11</th>\n",
       "      <td>0010k6l0om</td>\n",
       "      <td>0.000602</td>\n",
       "      <td>AU</td>\n",
       "      <td>1.000000</td>\n",
       "    </tr>\n",
       "    <tr>\n",
       "      <th>12</th>\n",
       "      <td>0031awlkjq</td>\n",
       "      <td>0.827403</td>\n",
       "      <td>NDF</td>\n",
       "      <td>0.827403</td>\n",
       "    </tr>\n",
       "    <tr>\n",
       "      <th>13</th>\n",
       "      <td>0031awlkjq</td>\n",
       "      <td>0.116693</td>\n",
       "      <td>US</td>\n",
       "      <td>0.944096</td>\n",
       "    </tr>\n",
       "    <tr>\n",
       "      <th>14</th>\n",
       "      <td>0031awlkjq</td>\n",
       "      <td>0.021686</td>\n",
       "      <td>other</td>\n",
       "      <td>0.965783</td>\n",
       "    </tr>\n",
       "  </tbody>\n",
       "</table>\n",
       "</div>"
      ],
      "text/plain": [
       "            id     preds country  preds_sum\n",
       "0   0010k6l0om  0.894683     NDF   0.894683\n",
       "1   0010k6l0om  0.060999      US   0.955681\n",
       "2   0010k6l0om  0.016941   other   0.972623\n",
       "3   0010k6l0om  0.007212      FR   0.979835\n",
       "4   0010k6l0om  0.006491      IT   0.986326\n",
       "5   0010k6l0om  0.003739      ES   0.990065\n",
       "6   0010k6l0om  0.003323      GB   0.993388\n",
       "7   0010k6l0om  0.003198      CA   0.996586\n",
       "8   0010k6l0om  0.001122      DE   0.997708\n",
       "9   0010k6l0om  0.000962      NL   0.998670\n",
       "10  0010k6l0om  0.000728      PT   0.999398\n",
       "11  0010k6l0om  0.000602      AU   1.000000\n",
       "12  0031awlkjq  0.827403     NDF   0.827403\n",
       "13  0031awlkjq  0.116693      US   0.944096\n",
       "14  0031awlkjq  0.021686   other   0.965783"
      ]
     },
     "execution_count": 138,
     "metadata": {},
     "output_type": "execute_result"
    }
   ],
   "source": [
    "s.head(15)"
   ]
  },
  {
   "cell_type": "code",
   "execution_count": 183,
   "id": "cf8bd9db-eecd-48e3-99f7-7e1993bcd5e2",
   "metadata": {},
   "outputs": [
    {
     "data": {
      "text/plain": [
       "(186288, 4)"
      ]
     },
     "execution_count": 183,
     "metadata": {},
     "output_type": "execute_result"
    }
   ],
   "source": [
    "best = s.groupby('id', as_index=False).head(4)\n",
    "best.shape"
   ]
  },
  {
   "cell_type": "code",
   "execution_count": 184,
   "id": "9a72dc50-033f-48d9-a8f1-f898426f5a64",
   "metadata": {},
   "outputs": [
    {
     "data": {
      "text/html": [
       "<div>\n",
       "<style scoped>\n",
       "    .dataframe tbody tr th:only-of-type {\n",
       "        vertical-align: middle;\n",
       "    }\n",
       "\n",
       "    .dataframe tbody tr th {\n",
       "        vertical-align: top;\n",
       "    }\n",
       "\n",
       "    .dataframe thead th {\n",
       "        text-align: right;\n",
       "    }\n",
       "</style>\n",
       "<table border=\"1\" class=\"dataframe\">\n",
       "  <thead>\n",
       "    <tr style=\"text-align: right;\">\n",
       "      <th></th>\n",
       "      <th>id</th>\n",
       "      <th>preds</th>\n",
       "      <th>country</th>\n",
       "      <th>preds_sum</th>\n",
       "    </tr>\n",
       "  </thead>\n",
       "  <tbody>\n",
       "    <tr>\n",
       "      <th>0</th>\n",
       "      <td>0010k6l0om</td>\n",
       "      <td>0.894683</td>\n",
       "      <td>NDF</td>\n",
       "      <td>0.894683</td>\n",
       "    </tr>\n",
       "    <tr>\n",
       "      <th>1</th>\n",
       "      <td>0010k6l0om</td>\n",
       "      <td>0.060999</td>\n",
       "      <td>US</td>\n",
       "      <td>0.955681</td>\n",
       "    </tr>\n",
       "    <tr>\n",
       "      <th>2</th>\n",
       "      <td>0010k6l0om</td>\n",
       "      <td>0.016941</td>\n",
       "      <td>other</td>\n",
       "      <td>0.972623</td>\n",
       "    </tr>\n",
       "    <tr>\n",
       "      <th>12</th>\n",
       "      <td>0031awlkjq</td>\n",
       "      <td>0.827403</td>\n",
       "      <td>NDF</td>\n",
       "      <td>0.827403</td>\n",
       "    </tr>\n",
       "    <tr>\n",
       "      <th>13</th>\n",
       "      <td>0031awlkjq</td>\n",
       "      <td>0.116693</td>\n",
       "      <td>US</td>\n",
       "      <td>0.944096</td>\n",
       "    </tr>\n",
       "  </tbody>\n",
       "</table>\n",
       "</div>"
      ],
      "text/plain": [
       "            id     preds country  preds_sum\n",
       "0   0010k6l0om  0.894683     NDF   0.894683\n",
       "1   0010k6l0om  0.060999      US   0.955681\n",
       "2   0010k6l0om  0.016941   other   0.972623\n",
       "12  0031awlkjq  0.827403     NDF   0.827403\n",
       "13  0031awlkjq  0.116693      US   0.944096"
      ]
     },
     "execution_count": 184,
     "metadata": {},
     "output_type": "execute_result"
    }
   ],
   "source": [
    "best.head()"
   ]
  },
  {
   "cell_type": "code",
   "execution_count": 185,
   "id": "18cab1ae-ac8b-430d-affa-05f1d2915218",
   "metadata": {},
   "outputs": [
    {
     "data": {
      "text/plain": [
       "((86578, 4), (745152, 4), 45815, 62096)"
      ]
     },
     "execution_count": 185,
     "metadata": {},
     "output_type": "execute_result"
    }
   ],
   "source": [
    "result = s[s.preds_sum < 0.90]\n",
    "result.shape, s.shape, result.id.nunique(), s.id.nunique()"
   ]
  },
  {
   "cell_type": "code",
   "execution_count": 186,
   "id": "2839621f-1806-4569-b8e3-5c4edd12b27f",
   "metadata": {},
   "outputs": [
    {
     "data": {
      "text/plain": [
       "((192736, 4), (745152, 4), 62096, 62096)"
      ]
     },
     "execution_count": 186,
     "metadata": {},
     "output_type": "execute_result"
    }
   ],
   "source": [
    "result = pd.concat([best, result])\n",
    "result = result.drop_duplicates(['id', 'country'])\n",
    "result.shape, s.shape, result.id.nunique(), s.id.nunique()"
   ]
  },
  {
   "cell_type": "code",
   "execution_count": 187,
   "id": "bf910a5e-d122-4535-83ed-79ebeb403fb7",
   "metadata": {},
   "outputs": [
    {
     "data": {
      "text/plain": [
       "(192736, 4)"
      ]
     },
     "execution_count": 187,
     "metadata": {},
     "output_type": "execute_result"
    }
   ],
   "source": [
    "result[['id', 'country']].to_csv('../data/results/submission_cumsum_head3_90.csv', index=False)\n",
    "result.shape"
   ]
  },
  {
   "cell_type": "code",
   "execution_count": null,
   "id": "89d97c38-eed0-4b71-adf4-6b2d0bbb2709",
   "metadata": {},
   "outputs": [],
   "source": []
  },
  {
   "cell_type": "code",
   "execution_count": null,
   "id": "030312a9-5231-4c11-bba5-d6782097a246",
   "metadata": {},
   "outputs": [],
   "source": []
  },
  {
   "cell_type": "code",
   "execution_count": 33,
   "id": "30ed56e2-9eda-4ed4-895d-d5acb4c3800e",
   "metadata": {},
   "outputs": [
    {
     "data": {
      "text/plain": [
       "True"
      ]
     },
     "execution_count": 33,
     "metadata": {},
     "output_type": "execute_result"
    }
   ],
   "source": [
    "'gender' in df"
   ]
  },
  {
   "cell_type": "code",
   "execution_count": 4,
   "id": "bae81b81-f0cf-40a2-9ce4-aa09d2a814af",
   "metadata": {},
   "outputs": [
    {
     "data": {
      "text/plain": [
       "(62096, 1105)"
      ]
     },
     "execution_count": 4,
     "metadata": {},
     "output_type": "execute_result"
    }
   ],
   "source": [
    "df.shape"
   ]
  },
  {
   "cell_type": "code",
   "execution_count": 5,
   "id": "a72b804a-2d5a-40c3-a1f6-d9e4553f932e",
   "metadata": {},
   "outputs": [],
   "source": [
    "users = pd.get_dummies(df[['gender', 'user_id', 'country_destination']], columns=['gender'])"
   ]
  },
  {
   "cell_type": "code",
   "execution_count": 6,
   "id": "d2ea7a25-5399-4742-a7c3-1911a8bfa6cd",
   "metadata": {},
   "outputs": [
    {
     "data": {
      "text/html": [
       "<div>\n",
       "<style scoped>\n",
       "    .dataframe tbody tr th:only-of-type {\n",
       "        vertical-align: middle;\n",
       "    }\n",
       "\n",
       "    .dataframe tbody tr th {\n",
       "        vertical-align: top;\n",
       "    }\n",
       "\n",
       "    .dataframe thead th {\n",
       "        text-align: right;\n",
       "    }\n",
       "</style>\n",
       "<table border=\"1\" class=\"dataframe\">\n",
       "  <thead>\n",
       "    <tr style=\"text-align: right;\">\n",
       "      <th></th>\n",
       "      <th>user_id</th>\n",
       "      <th>country_destination</th>\n",
       "      <th>gender_-unknown-</th>\n",
       "      <th>gender_FEMALE</th>\n",
       "      <th>gender_MALE</th>\n",
       "      <th>gender_OTHER</th>\n",
       "    </tr>\n",
       "  </thead>\n",
       "  <tbody>\n",
       "    <tr>\n",
       "      <th>213451</th>\n",
       "      <td>5uwns89zht</td>\n",
       "      <td>None</td>\n",
       "      <td>0</td>\n",
       "      <td>1</td>\n",
       "      <td>0</td>\n",
       "      <td>0</td>\n",
       "    </tr>\n",
       "    <tr>\n",
       "      <th>213452</th>\n",
       "      <td>jtl0dijy2j</td>\n",
       "      <td>None</td>\n",
       "      <td>1</td>\n",
       "      <td>0</td>\n",
       "      <td>0</td>\n",
       "      <td>0</td>\n",
       "    </tr>\n",
       "    <tr>\n",
       "      <th>213453</th>\n",
       "      <td>xx0ulgorjt</td>\n",
       "      <td>None</td>\n",
       "      <td>1</td>\n",
       "      <td>0</td>\n",
       "      <td>0</td>\n",
       "      <td>0</td>\n",
       "    </tr>\n",
       "    <tr>\n",
       "      <th>213454</th>\n",
       "      <td>6c6puo6ix0</td>\n",
       "      <td>None</td>\n",
       "      <td>1</td>\n",
       "      <td>0</td>\n",
       "      <td>0</td>\n",
       "      <td>0</td>\n",
       "    </tr>\n",
       "    <tr>\n",
       "      <th>213455</th>\n",
       "      <td>czqhjk3yfe</td>\n",
       "      <td>None</td>\n",
       "      <td>1</td>\n",
       "      <td>0</td>\n",
       "      <td>0</td>\n",
       "      <td>0</td>\n",
       "    </tr>\n",
       "  </tbody>\n",
       "</table>\n",
       "</div>"
      ],
      "text/plain": [
       "           user_id country_destination  gender_-unknown-  gender_FEMALE  \\\n",
       "213451  5uwns89zht                None                 0              1   \n",
       "213452  jtl0dijy2j                None                 1              0   \n",
       "213453  xx0ulgorjt                None                 1              0   \n",
       "213454  6c6puo6ix0                None                 1              0   \n",
       "213455  czqhjk3yfe                None                 1              0   \n",
       "\n",
       "        gender_MALE  gender_OTHER  \n",
       "213451            0             0  \n",
       "213452            0             0  \n",
       "213453            0             0  \n",
       "213454            0             0  \n",
       "213455            0             0  "
      ]
     },
     "execution_count": 6,
     "metadata": {},
     "output_type": "execute_result"
    }
   ],
   "source": [
    "users.head()"
   ]
  },
  {
   "cell_type": "code",
   "execution_count": null,
   "id": "cc22e795-782b-436a-8d3f-2f4d38b0d879",
   "metadata": {},
   "outputs": [],
   "source": []
  }
 ],
 "metadata": {
  "kernelspec": {
   "display_name": "Python 3 (ipykernel)",
   "language": "python",
   "name": "python3"
  },
  "language_info": {
   "codemirror_mode": {
    "name": "ipython",
    "version": 3
   },
   "file_extension": ".py",
   "mimetype": "text/x-python",
   "name": "python",
   "nbconvert_exporter": "python",
   "pygments_lexer": "ipython3",
   "version": "3.9.6"
  }
 },
 "nbformat": 4,
 "nbformat_minor": 5
}
