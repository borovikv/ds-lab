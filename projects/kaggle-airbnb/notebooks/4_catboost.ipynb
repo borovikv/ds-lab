{
 "cells": [
  {
   "cell_type": "code",
   "execution_count": 1,
   "id": "8055928b-37f7-4e7a-a10d-4051f52ee0ec",
   "metadata": {},
   "outputs": [
    {
     "name": "stdout",
     "output_type": "stream",
     "text": [
      "time: 342 µs (started: 2021-08-16 12:47:12 +00:00)\n"
     ]
    }
   ],
   "source": [
    "from catboost import Pool, CatBoostClassifier\n",
    "from sklearn.model_selection import train_test_split\n",
    "from sklearn.metrics import confusion_matrix, accuracy_score\n",
    "import matplotlib.pyplot as plt\n",
    "import seaborn as sns\n",
    "import pandas as pd\n",
    "import numpy as np\n",
    "\n",
    "pd.set_option('display.max_columns', None)\n",
    "pd.set_option('display.max_rows', 100)\n",
    "%load_ext autotime"
   ]
  },
  {
   "cell_type": "markdown",
   "id": "2020562c-dba6-4060-b3c0-88456252c6de",
   "metadata": {},
   "source": [
    "### 0. Loading training data"
   ]
  },
  {
   "cell_type": "code",
   "execution_count": 2,
   "id": "294a0bc6-c31e-4e3c-8373-edb6fd183e09",
   "metadata": {},
   "outputs": [
    {
     "data": {
      "text/plain": [
       "(73815, 341)"
      ]
     },
     "execution_count": 2,
     "metadata": {},
     "output_type": "execute_result"
    },
    {
     "name": "stdout",
     "output_type": "stream",
     "text": [
      "time: 316 ms (started: 2021-08-16 12:47:12 +00:00)\n"
     ]
    }
   ],
   "source": [
    "df = pd.read_parquet('../data/processed/features.parquet')\n",
    "df.shape"
   ]
  },
  {
   "cell_type": "code",
   "execution_count": 3,
   "id": "6ba49a0f-5611-4a4d-8736-f436ceb50654",
   "metadata": {},
   "outputs": [
    {
     "name": "stdout",
     "output_type": "stream",
     "text": [
      "time: 291 ms (started: 2021-08-16 12:47:12 +00:00)\n"
     ]
    }
   ],
   "source": [
    "y, x = df.pop('country_destination'), df\n",
    "x.drop('user_id', axis=1, inplace=True)"
   ]
  },
  {
   "cell_type": "markdown",
   "id": "dac91e9e-0e3b-46cc-8af9-5916dddfdca1",
   "metadata": {
    "tags": []
   },
   "source": [
    "### 1. Splitting tain data into stratified train, validation and test sets"
   ]
  },
  {
   "cell_type": "code",
   "execution_count": 4,
   "id": "0711a96c-2429-47b3-8860-028bc202a436",
   "metadata": {},
   "outputs": [
    {
     "name": "stdout",
     "output_type": "stream",
     "text": [
      "time: 905 µs (started: 2021-08-16 12:47:12 +00:00)\n"
     ]
    }
   ],
   "source": [
    "cat_features = [\n",
    "    'gender',\n",
    "    'signup_method',\n",
    "    'signup_flow',\n",
    "    'language',\n",
    "    'affiliate_channel',\n",
    "    'affiliate_provider',\n",
    "    'first_affiliate_tracked',\n",
    "    'signup_app',\n",
    "    'first_device_type',\n",
    "    'first_browser',\n",
    "    'dow_registered',\n",
    "    'hr_registered'\n",
    "]"
   ]
  },
  {
   "cell_type": "code",
   "execution_count": 5,
   "id": "107740c9-4be0-4047-b08a-190c5e76dce0",
   "metadata": {},
   "outputs": [
    {
     "name": "stdout",
     "output_type": "stream",
     "text": [
      "time: 277 ms (started: 2021-08-16 12:47:12 +00:00)\n"
     ]
    }
   ],
   "source": [
    "for col in cat_features:\n",
    "    x[col].fillna('', inplace=True)\n",
    "    x[col] = x[col].astype('category')"
   ]
  },
  {
   "cell_type": "code",
   "execution_count": 6,
   "id": "3591ebf5-cb6b-455c-a8c6-ec11f201750c",
   "metadata": {},
   "outputs": [
    {
     "data": {
      "text/plain": [
       "((66433, 339), (7382, 339))"
      ]
     },
     "execution_count": 6,
     "metadata": {},
     "output_type": "execute_result"
    },
    {
     "name": "stdout",
     "output_type": "stream",
     "text": [
      "time: 366 ms (started: 2021-08-16 12:47:13 +00:00)\n"
     ]
    }
   ],
   "source": [
    "x_train, x_test, y_train, y_test = train_test_split(\n",
    "    x, \n",
    "    y, \n",
    "    train_size=0.9, \n",
    "    random_state=42,\n",
    "    stratify=y\n",
    ")\n",
    "x_train.shape, x_test.shape"
   ]
  },
  {
   "cell_type": "code",
   "execution_count": 7,
   "id": "09b76486-b299-4aa9-aa7d-3c2dacf5b95c",
   "metadata": {},
   "outputs": [
    {
     "data": {
      "text/plain": [
       "((53146, 339), (13287, 339))"
      ]
     },
     "execution_count": 7,
     "metadata": {},
     "output_type": "execute_result"
    },
    {
     "name": "stdout",
     "output_type": "stream",
     "text": [
      "time: 448 ms (started: 2021-08-16 12:47:13 +00:00)\n"
     ]
    }
   ],
   "source": [
    "x_train, x_validation, y_train, y_validation = train_test_split(\n",
    "    x_train, \n",
    "    y_train, \n",
    "    train_size=0.8,\n",
    "    random_state=42,\n",
    "    stratify=y_train\n",
    ")\n",
    "x_train.shape, x_validation.shape"
   ]
  },
  {
   "cell_type": "markdown",
   "id": "45ee9845-dcf1-440a-af85-16dff0b88fc9",
   "metadata": {},
   "source": [
    "### 1.1 Checking that the ratios of the target class are invariant"
   ]
  },
  {
   "cell_type": "code",
   "execution_count": 8,
   "id": "be21436b-b56d-463f-a32a-2f4e1a274da6",
   "metadata": {},
   "outputs": [
    {
     "name": "stdout",
     "output_type": "stream",
     "text": [
      "time: 883 µs (started: 2021-08-16 12:28:12 +00:00)\n"
     ]
    }
   ],
   "source": [
    "# y_train.value_counts() / len(y_train)"
   ]
  },
  {
   "cell_type": "code",
   "execution_count": 9,
   "id": "8abe48e3-cace-4822-9a3b-02c2b5f266c7",
   "metadata": {},
   "outputs": [
    {
     "name": "stdout",
     "output_type": "stream",
     "text": [
      "time: 867 µs (started: 2021-08-16 12:28:12 +00:00)\n"
     ]
    }
   ],
   "source": [
    "# y_validation.value_counts() / len(y_validation)"
   ]
  },
  {
   "cell_type": "markdown",
   "id": "d93d4281-68fb-497f-a5cc-0f670b66446f",
   "metadata": {},
   "source": [
    "### 2. Model Training"
   ]
  },
  {
   "cell_type": "code",
   "execution_count": 12,
   "id": "7a2d158c-c2ea-458d-8dc8-f17b77367116",
   "metadata": {},
   "outputs": [
    {
     "name": "stdout",
     "output_type": "stream",
     "text": [
      "time: 30.4 ms (started: 2021-08-16 12:29:57 +00:00)\n"
     ]
    }
   ],
   "source": [
    "model = CatBoostClassifier(\n",
    "    iterations=200,\n",
    "    random_seed=42,\n",
    "    learning_rate=0.05,\n",
    "    custom_loss=['AUC', 'Accuracy'],\n",
    "    loss_function='MultiClass',\n",
    "#     eval_metric\n",
    ")"
   ]
  },
  {
   "cell_type": "code",
   "execution_count": 13,
   "id": "4a8e4551-4e03-49ea-884d-712d99e8e12a",
   "metadata": {},
   "outputs": [
    {
     "data": {
      "application/vnd.jupyter.widget-view+json": {
       "model_id": "11df01c1723c4d66b04ec2df3aac96ec",
       "version_major": 2,
       "version_minor": 0
      },
      "text/plain": [
       "MetricVisualizer(layout=Layout(align_self='stretch', height='500px'))"
      ]
     },
     "metadata": {},
     "output_type": "display_data"
    },
    {
     "name": "stdout",
     "output_type": "stream",
     "text": [
      "time: 12min 9s (started: 2021-08-16 12:29:58 +00:00)\n"
     ]
    }
   ],
   "source": [
    "model.fit(\n",
    "    x_train, y_train,\n",
    "    cat_features=cat_features,\n",
    "    eval_set=(x_validation, y_validation),\n",
    "    early_stopping_rounds=5,\n",
    "    verbose=False,\n",
    "    plot=True\n",
    ");"
   ]
  },
  {
   "cell_type": "markdown",
   "id": "5152fc08-05f1-4c92-b261-e8dedbfa82da",
   "metadata": {},
   "source": [
    "### 3. Testing model on test sets"
   ]
  },
  {
   "cell_type": "code",
   "execution_count": 14,
   "id": "56532901-5d84-4347-b5bf-1be595bcc5b9",
   "metadata": {},
   "outputs": [
    {
     "name": "stdout",
     "output_type": "stream",
     "text": [
      "time: 134 ms (started: 2021-08-16 12:42:25 +00:00)\n"
     ]
    }
   ],
   "source": [
    "y_pred = model.predict(x_test)"
   ]
  },
  {
   "cell_type": "code",
   "execution_count": 16,
   "id": "1e38f869-95f6-4418-be73-cfb986070bd0",
   "metadata": {},
   "outputs": [
    {
     "data": {
      "text/plain": [
       "['NDF', 'US', 'other', 'FR', 'IT', 'GB', 'ES', 'CA', 'DE', 'NL', 'AU', 'PT']"
      ]
     },
     "execution_count": 16,
     "metadata": {},
     "output_type": "execute_result"
    },
    {
     "name": "stdout",
     "output_type": "stream",
     "text": [
      "time: 10.1 ms (started: 2021-08-16 12:42:26 +00:00)\n"
     ]
    }
   ],
   "source": [
    "labels = y_validation.value_counts().index.tolist()\n",
    "labels"
   ]
  },
  {
   "cell_type": "code",
   "execution_count": 17,
   "id": "1eb90a78-2c74-43d0-a604-506cd955e2dd",
   "metadata": {},
   "outputs": [
    {
     "name": "stdout",
     "output_type": "stream",
     "text": [
      "time: 34.4 ms (started: 2021-08-16 12:42:28 +00:00)\n"
     ]
    }
   ],
   "source": [
    "cm = confusion_matrix(y_test, y_pred, labels=labels, normalize='all')"
   ]
  },
  {
   "cell_type": "code",
   "execution_count": 19,
   "id": "e508bdbe-1f28-4f20-8e26-66f761335dce",
   "metadata": {},
   "outputs": [
    {
     "data": {
      "image/png": "[encoded data removed]",
      "text/plain": [
       "<Figure size 1440x1080 with 2 Axes>"
      ]
     },
     "metadata": {
      "needs_background": "light"
     },
     "output_type": "display_data"
    },
    {
     "name": "stdout",
     "output_type": "stream",
     "text": [
      "time: 896 ms (started: 2021-08-16 12:42:38 +00:00)\n"
     ]
    }
   ],
   "source": [
    "plt.figure(figsize = (20, 15))\n",
    "sns.heatmap(cm, annot=True, fmt='g');"
   ]
  },
  {
   "cell_type": "markdown",
   "id": "6877d054-1bc4-48c6-808b-6060acff5d60",
   "metadata": {},
   "source": [
    "### 3.2 Model predictions with probabilities for each class"
   ]
  },
  {
   "cell_type": "code",
   "execution_count": 21,
   "id": "85d21919-6eae-4dcd-a792-b379ada47448",
   "metadata": {},
   "outputs": [
    {
     "name": "stdout",
     "output_type": "stream",
     "text": [
      "time: 84.9 ms (started: 2021-08-16 11:50:11 +00:00)\n"
     ]
    }
   ],
   "source": [
    "probs = model.predict_proba(x_test)"
   ]
  },
  {
   "cell_type": "code",
   "execution_count": 22,
   "id": "0df3b8fd-8656-4787-8461-e695a17ec971",
   "metadata": {},
   "outputs": [
    {
     "data": {
      "text/plain": [
       "(7382, 12)"
      ]
     },
     "execution_count": 22,
     "metadata": {},
     "output_type": "execute_result"
    },
    {
     "name": "stdout",
     "output_type": "stream",
     "text": [
      "time: 8.98 ms (started: 2021-08-16 11:50:13 +00:00)\n"
     ]
    }
   ],
   "source": [
    "probs_df = pd.DataFrame(probs)\n",
    "probs_df.shape"
   ]
  },
  {
   "cell_type": "code",
   "execution_count": 23,
   "id": "f3f77319-3d0c-4f98-ab07-bb9f54e0ab32",
   "metadata": {},
   "outputs": [
    {
     "name": "stdout",
     "output_type": "stream",
     "text": [
      "time: 4 ms (started: 2021-08-16 11:50:14 +00:00)\n"
     ]
    }
   ],
   "source": [
    "probs_df['amax'] = np.amax(probs, axis=1)"
   ]
  },
  {
   "cell_type": "code",
   "execution_count": 24,
   "id": "fa6c85c5-eeac-432f-bfff-ceb984c06e9b",
   "metadata": {},
   "outputs": [
    {
     "name": "stdout",
     "output_type": "stream",
     "text": [
      "time: 42.5 ms (started: 2021-08-16 11:50:14 +00:00)\n"
     ]
    }
   ],
   "source": [
    "probs_df['true'] = y_test.reset_index(drop=True)\n",
    "probs_df['pred'] = model.predict(x_test)"
   ]
  },
  {
   "cell_type": "code",
   "execution_count": 25,
   "id": "fbdc2a6a-8efe-4b69-be17-fc1765b9d7f8",
   "metadata": {},
   "outputs": [
    {
     "data": {
      "text/html": [
       "<div>\n",
       "<style scoped>\n",
       "    .dataframe tbody tr th:only-of-type {\n",
       "        vertical-align: middle;\n",
       "    }\n",
       "\n",
       "    .dataframe tbody tr th {\n",
       "        vertical-align: top;\n",
       "    }\n",
       "\n",
       "    .dataframe thead th {\n",
       "        text-align: right;\n",
       "    }\n",
       "</style>\n",
       "<table border=\"1\" class=\"dataframe\">\n",
       "  <thead>\n",
       "    <tr style=\"text-align: right;\">\n",
       "      <th></th>\n",
       "      <th>0</th>\n",
       "      <th>1</th>\n",
       "      <th>2</th>\n",
       "      <th>3</th>\n",
       "      <th>4</th>\n",
       "      <th>5</th>\n",
       "      <th>6</th>\n",
       "      <th>7</th>\n",
       "      <th>8</th>\n",
       "      <th>9</th>\n",
       "      <th>10</th>\n",
       "      <th>11</th>\n",
       "      <th>amax</th>\n",
       "      <th>true</th>\n",
       "      <th>pred</th>\n",
       "    </tr>\n",
       "  </thead>\n",
       "  <tbody>\n",
       "    <tr>\n",
       "      <th>0</th>\n",
       "      <td>0.001325</td>\n",
       "      <td>0.004019</td>\n",
       "      <td>0.001858</td>\n",
       "      <td>0.009762</td>\n",
       "      <td>0.014437</td>\n",
       "      <td>0.006579</td>\n",
       "      <td>0.007256</td>\n",
       "      <td>0.777023</td>\n",
       "      <td>0.002239</td>\n",
       "      <td>0.001261</td>\n",
       "      <td>0.146933</td>\n",
       "      <td>0.027308</td>\n",
       "      <td>0.777023</td>\n",
       "      <td>NDF</td>\n",
       "      <td>NDF</td>\n",
       "    </tr>\n",
       "    <tr>\n",
       "      <th>1</th>\n",
       "      <td>0.001407</td>\n",
       "      <td>0.014569</td>\n",
       "      <td>0.003581</td>\n",
       "      <td>0.010597</td>\n",
       "      <td>0.019501</td>\n",
       "      <td>0.012950</td>\n",
       "      <td>0.007875</td>\n",
       "      <td>0.136809</td>\n",
       "      <td>0.002175</td>\n",
       "      <td>0.000522</td>\n",
       "      <td>0.732202</td>\n",
       "      <td>0.057812</td>\n",
       "      <td>0.732202</td>\n",
       "      <td>NDF</td>\n",
       "      <td>US</td>\n",
       "    </tr>\n",
       "    <tr>\n",
       "      <th>2</th>\n",
       "      <td>0.001349</td>\n",
       "      <td>0.006396</td>\n",
       "      <td>0.002239</td>\n",
       "      <td>0.004712</td>\n",
       "      <td>0.012180</td>\n",
       "      <td>0.004250</td>\n",
       "      <td>0.007009</td>\n",
       "      <td>0.505511</td>\n",
       "      <td>0.001704</td>\n",
       "      <td>0.000756</td>\n",
       "      <td>0.373231</td>\n",
       "      <td>0.080663</td>\n",
       "      <td>0.505511</td>\n",
       "      <td>US</td>\n",
       "      <td>NDF</td>\n",
       "    </tr>\n",
       "    <tr>\n",
       "      <th>3</th>\n",
       "      <td>0.000421</td>\n",
       "      <td>0.000807</td>\n",
       "      <td>0.000264</td>\n",
       "      <td>0.001918</td>\n",
       "      <td>0.002211</td>\n",
       "      <td>0.001680</td>\n",
       "      <td>0.001753</td>\n",
       "      <td>0.929188</td>\n",
       "      <td>0.000151</td>\n",
       "      <td>0.000325</td>\n",
       "      <td>0.052037</td>\n",
       "      <td>0.009246</td>\n",
       "      <td>0.929188</td>\n",
       "      <td>NDF</td>\n",
       "      <td>NDF</td>\n",
       "    </tr>\n",
       "    <tr>\n",
       "      <th>4</th>\n",
       "      <td>0.002485</td>\n",
       "      <td>0.008276</td>\n",
       "      <td>0.002335</td>\n",
       "      <td>0.008434</td>\n",
       "      <td>0.017385</td>\n",
       "      <td>0.007074</td>\n",
       "      <td>0.012024</td>\n",
       "      <td>0.791059</td>\n",
       "      <td>0.001533</td>\n",
       "      <td>0.001404</td>\n",
       "      <td>0.118827</td>\n",
       "      <td>0.029163</td>\n",
       "      <td>0.791059</td>\n",
       "      <td>US</td>\n",
       "      <td>NDF</td>\n",
       "    </tr>\n",
       "  </tbody>\n",
       "</table>\n",
       "</div>"
      ],
      "text/plain": [
       "          0         1         2         3         4         5         6  \\\n",
       "0  0.001325  0.004019  0.001858  0.009762  0.014437  0.006579  0.007256   \n",
       "1  0.001407  0.014569  0.003581  0.010597  0.019501  0.012950  0.007875   \n",
       "2  0.001349  0.006396  0.002239  0.004712  0.012180  0.004250  0.007009   \n",
       "3  0.000421  0.000807  0.000264  0.001918  0.002211  0.001680  0.001753   \n",
       "4  0.002485  0.008276  0.002335  0.008434  0.017385  0.007074  0.012024   \n",
       "\n",
       "          7         8         9        10        11      amax true pred  \n",
       "0  0.777023  0.002239  0.001261  0.146933  0.027308  0.777023  NDF  NDF  \n",
       "1  0.136809  0.002175  0.000522  0.732202  0.057812  0.732202  NDF   US  \n",
       "2  0.505511  0.001704  0.000756  0.373231  0.080663  0.505511   US  NDF  \n",
       "3  0.929188  0.000151  0.000325  0.052037  0.009246  0.929188  NDF  NDF  \n",
       "4  0.791059  0.001533  0.001404  0.118827  0.029163  0.791059   US  NDF  "
      ]
     },
     "execution_count": 25,
     "metadata": {},
     "output_type": "execute_result"
    },
    {
     "name": "stdout",
     "output_type": "stream",
     "text": [
      "time: 26.6 ms (started: 2021-08-16 11:50:14 +00:00)\n"
     ]
    }
   ],
   "source": [
    "probs_df.head()"
   ]
  },
  {
   "cell_type": "markdown",
   "id": "8155f71a-2dca-454e-9f61-14f8892647e6",
   "metadata": {},
   "source": [
    "### 3.3 Analysis of probabilities where predictions are wrong"
   ]
  },
  {
   "cell_type": "code",
   "execution_count": 29,
   "id": "d99aefdb-07fa-407a-aa09-bc9f1473f61f",
   "metadata": {},
   "outputs": [
    {
     "data": {
      "text/plain": [
       "2180"
      ]
     },
     "execution_count": 29,
     "metadata": {},
     "output_type": "execute_result"
    },
    {
     "name": "stdout",
     "output_type": "stream",
     "text": [
      "time: 11.6 ms (started: 2021-08-16 11:51:09 +00:00)\n"
     ]
    }
   ],
   "source": [
    "mask = probs_df['true'] != probs_df['pred']\n",
    "mask.sum()"
   ]
  },
  {
   "cell_type": "code",
   "execution_count": 30,
   "id": "e7af544b-699c-4a48-9cff-f82823124f6b",
   "metadata": {},
   "outputs": [
    {
     "data": {
      "text/plain": [
       "count    2180.000000\n",
       "mean        0.590849\n",
       "std         0.153684\n",
       "min         0.182325\n",
       "25%         0.468570\n",
       "50%         0.557377\n",
       "75%         0.704408\n",
       "max         0.987340\n",
       "Name: amax, dtype: float64"
      ]
     },
     "execution_count": 30,
     "metadata": {},
     "output_type": "execute_result"
    },
    {
     "name": "stdout",
     "output_type": "stream",
     "text": [
      "time: 16.8 ms (started: 2021-08-16 11:51:27 +00:00)\n"
     ]
    }
   ],
   "source": [
    "probs_df[mask]['amax'].describe()"
   ]
  },
  {
   "cell_type": "code",
   "execution_count": 33,
   "id": "49ef4345-a151-4fff-a8d3-f33ba367d4f8",
   "metadata": {},
   "outputs": [
    {
     "data": {
      "text/plain": [
       "array([[<AxesSubplot:title={'center':'amax'}>]], dtype=object)"
      ]
     },
     "execution_count": 33,
     "metadata": {},
     "output_type": "execute_result"
    },
    {
     "data": {
      "image/png": "[encoded data removed]",
      "text/plain": [
       "<Figure size 432x288 with 1 Axes>"
      ]
     },
     "metadata": {
      "needs_background": "light"
     },
     "output_type": "display_data"
    },
    {
     "name": "stdout",
     "output_type": "stream",
     "text": [
      "time: 383 ms (started: 2021-08-16 11:56:01 +00:00)\n"
     ]
    }
   ],
   "source": [
    "probs_df[mask].hist('amax')"
   ]
  },
  {
   "cell_type": "code",
   "execution_count": 40,
   "id": "23c74c3b-c0fc-48ae-86a4-7790c36289eb",
   "metadata": {},
   "outputs": [
    {
     "data": {
      "text/plain": [
       "0.3555045871559633"
      ]
     },
     "execution_count": 40,
     "metadata": {},
     "output_type": "execute_result"
    },
    {
     "name": "stdout",
     "output_type": "stream",
     "text": [
      "time: 12 ms (started: 2021-08-16 12:11:35 +00:00)\n"
     ]
    }
   ],
   "source": [
    "(probs_df[mask]['amax'] < 0.5).sum() / mask.sum()"
   ]
  },
  {
   "cell_type": "code",
   "execution_count": 41,
   "id": "572456d7-731c-4091-97f3-f8f98c5c571e",
   "metadata": {},
   "outputs": [
    {
     "data": {
      "text/plain": [
       "0.2871559633027523"
      ]
     },
     "execution_count": 41,
     "metadata": {},
     "output_type": "execute_result"
    },
    {
     "name": "stdout",
     "output_type": "stream",
     "text": [
      "time: 19.1 ms (started: 2021-08-16 12:11:38 +00:00)\n"
     ]
    }
   ],
   "source": [
    "(probs_df[~mask]['amax'] < 0.5).sum() / mask.sum()"
   ]
  },
  {
   "cell_type": "code",
   "execution_count": null,
   "id": "78416d78-3319-4579-920e-a2bb3abc6c33",
   "metadata": {},
   "outputs": [],
   "source": []
  },
  {
   "cell_type": "markdown",
   "id": "d93c2f30-ed7f-4008-a607-e62bf3f0da7c",
   "metadata": {
    "tags": []
   },
   "source": [
    "### 5. Saving Model"
   ]
  },
  {
   "cell_type": "code",
   "execution_count": 13,
   "id": "39e9ecba-b3f6-4391-98d9-6fd3de6b9733",
   "metadata": {},
   "outputs": [
    {
     "name": "stdout",
     "output_type": "stream",
     "text": [
      "time: 23.5 ms (started: 2021-08-16 09:59:15 +00:00)\n"
     ]
    }
   ],
   "source": [
    "model.save_model('../models/model1.cbm')"
   ]
  },
  {
   "cell_type": "code",
   "execution_count": null,
   "id": "5eaa0026-3070-494c-a580-43d03ca8d18c",
   "metadata": {},
   "outputs": [],
   "source": []
  }
 ],
 "metadata": {
  "kernelspec": {
   "display_name": "Python 3 (ipykernel)",
   "language": "python",
   "name": "python3"
  },
  "language_info": {
   "codemirror_mode": {
    "name": "ipython",
    "version": 3
   },
   "file_extension": ".py",
   "mimetype": "text/x-python",
   "name": "python",
   "nbconvert_exporter": "python",
   "pygments_lexer": "ipython3",
   "version": "3.9.6"
  }
 },
 "nbformat": 4,
 "nbformat_minor": 5
}
