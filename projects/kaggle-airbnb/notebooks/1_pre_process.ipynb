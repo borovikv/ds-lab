{
 "cells": [
  {
   "cell_type": "markdown",
   "id": "081bfcdf-18f2-48ac-af56-c494c91bb316",
   "metadata": {
    "tags": []
   },
   "source": [
    "### Pre-processing steps based on EDA"
   ]
  },
  {
   "cell_type": "code",
   "execution_count": 1,
   "id": "4601492d-15c6-452b-ae89-1a317972ca19",
   "metadata": {},
   "outputs": [],
   "source": [
    "import pandas as pd\n",
    "from datetime import datetime\n",
    "from tqdm.notebook import tqdm\n",
    "\n",
    "tqdm.pandas()"
   ]
  },
  {
   "cell_type": "markdown",
   "id": "c45a1358-251b-4bdb-88a9-207740e39d3e",
   "metadata": {
    "tags": []
   },
   "source": [
    "### 0 Loading data"
   ]
  },
  {
   "cell_type": "code",
   "execution_count": 2,
   "id": "804107b8-1202-44e7-8627-7a54c416856f",
   "metadata": {},
   "outputs": [
    {
     "data": {
      "text/plain": [
       "((213451, 16), (62096, 15))"
      ]
     },
     "execution_count": 2,
     "metadata": {},
     "output_type": "execute_result"
    }
   ],
   "source": [
    "train_users = pd.read_csv('../data/original/train_users_2.csv')\n",
    "test_users = pd.read_csv('../data/original/test_users.csv')\n",
    "train_users.shape, test_users.shape"
   ]
  },
  {
   "cell_type": "code",
   "execution_count": 5,
   "id": "602ccd24-9071-4f26-92f1-88e71aa90c89",
   "metadata": {},
   "outputs": [
    {
     "data": {
      "text/plain": [
       "(275547, 16)"
      ]
     },
     "execution_count": 5,
     "metadata": {},
     "output_type": "execute_result"
    }
   ],
   "source": [
    "users = pd.concat([train_users, test_users], axis=0)\n",
    "users.shape"
   ]
  },
  {
   "cell_type": "code",
   "execution_count": 6,
   "id": "a912c93a-49c5-4a0e-98d7-6bb3eac1b123",
   "metadata": {},
   "outputs": [
    {
     "data": {
      "text/plain": [
       "1    213451\n",
       "0     62096\n",
       "Name: train_flag, dtype: int64"
      ]
     },
     "execution_count": 6,
     "metadata": {},
     "output_type": "execute_result"
    }
   ],
   "source": [
    "users['train_flag'] = 1\n",
    "users.loc[users.id.isin(test_users.id), 'train_flag'] = 0\n",
    "users.train_flag.value_counts()"
   ]
  },
  {
   "cell_type": "code",
   "execution_count": 7,
   "id": "e6f8327d-d007-4c06-9c73-7797c0e0f4ae",
   "metadata": {},
   "outputs": [],
   "source": [
    "users.date_account_created = users.date_account_created.apply(lambda x: datetime.strptime(x, '%Y-%m-%d'))\n",
    "users.timestamp_first_active = users.timestamp_first_active.apply(lambda x: datetime.strptime(str(x), '%Y%m%d%H%M%S'))\n",
    "users.date_first_booking = users.date_first_booking.apply(lambda x: datetime.strptime(x, '%Y-%m-%d') if pd.notna(x) else None)"
   ]
  },
  {
   "cell_type": "code",
   "execution_count": 8,
   "id": "a9059069-3f78-436c-a12c-deca4a8aaa09",
   "metadata": {},
   "outputs": [
    {
     "data": {
      "text/html": [
       "<div>\n",
       "<style scoped>\n",
       "    .dataframe tbody tr th:only-of-type {\n",
       "        vertical-align: middle;\n",
       "    }\n",
       "\n",
       "    .dataframe tbody tr th {\n",
       "        vertical-align: top;\n",
       "    }\n",
       "\n",
       "    .dataframe thead th {\n",
       "        text-align: right;\n",
       "    }\n",
       "</style>\n",
       "<table border=\"1\" class=\"dataframe\">\n",
       "  <thead>\n",
       "    <tr style=\"text-align: right;\">\n",
       "      <th></th>\n",
       "      <th>id</th>\n",
       "      <th>date_account_created</th>\n",
       "      <th>timestamp_first_active</th>\n",
       "      <th>date_first_booking</th>\n",
       "      <th>gender</th>\n",
       "      <th>age</th>\n",
       "      <th>signup_method</th>\n",
       "      <th>signup_flow</th>\n",
       "      <th>language</th>\n",
       "      <th>affiliate_channel</th>\n",
       "      <th>affiliate_provider</th>\n",
       "      <th>first_affiliate_tracked</th>\n",
       "      <th>signup_app</th>\n",
       "      <th>first_device_type</th>\n",
       "      <th>first_browser</th>\n",
       "      <th>country_destination</th>\n",
       "      <th>train_flag</th>\n",
       "    </tr>\n",
       "  </thead>\n",
       "  <tbody>\n",
       "    <tr>\n",
       "      <th>0</th>\n",
       "      <td>gxn3p5htnn</td>\n",
       "      <td>2010-06-28</td>\n",
       "      <td>2009-03-19 04:32:55</td>\n",
       "      <td>NaT</td>\n",
       "      <td>-unknown-</td>\n",
       "      <td>NaN</td>\n",
       "      <td>facebook</td>\n",
       "      <td>0</td>\n",
       "      <td>en</td>\n",
       "      <td>direct</td>\n",
       "      <td>direct</td>\n",
       "      <td>untracked</td>\n",
       "      <td>Web</td>\n",
       "      <td>Mac Desktop</td>\n",
       "      <td>Chrome</td>\n",
       "      <td>NDF</td>\n",
       "      <td>1</td>\n",
       "    </tr>\n",
       "    <tr>\n",
       "      <th>1</th>\n",
       "      <td>820tgsjxq7</td>\n",
       "      <td>2011-05-25</td>\n",
       "      <td>2009-05-23 17:48:09</td>\n",
       "      <td>NaT</td>\n",
       "      <td>MALE</td>\n",
       "      <td>38.0</td>\n",
       "      <td>facebook</td>\n",
       "      <td>0</td>\n",
       "      <td>en</td>\n",
       "      <td>seo</td>\n",
       "      <td>google</td>\n",
       "      <td>untracked</td>\n",
       "      <td>Web</td>\n",
       "      <td>Mac Desktop</td>\n",
       "      <td>Chrome</td>\n",
       "      <td>NDF</td>\n",
       "      <td>1</td>\n",
       "    </tr>\n",
       "    <tr>\n",
       "      <th>2</th>\n",
       "      <td>4ft3gnwmtx</td>\n",
       "      <td>2010-09-28</td>\n",
       "      <td>2009-06-09 23:12:47</td>\n",
       "      <td>2010-08-02</td>\n",
       "      <td>FEMALE</td>\n",
       "      <td>56.0</td>\n",
       "      <td>basic</td>\n",
       "      <td>3</td>\n",
       "      <td>en</td>\n",
       "      <td>direct</td>\n",
       "      <td>direct</td>\n",
       "      <td>untracked</td>\n",
       "      <td>Web</td>\n",
       "      <td>Windows Desktop</td>\n",
       "      <td>IE</td>\n",
       "      <td>US</td>\n",
       "      <td>1</td>\n",
       "    </tr>\n",
       "    <tr>\n",
       "      <th>3</th>\n",
       "      <td>bjjt8pjhuk</td>\n",
       "      <td>2011-12-05</td>\n",
       "      <td>2009-10-31 06:01:29</td>\n",
       "      <td>2012-09-08</td>\n",
       "      <td>FEMALE</td>\n",
       "      <td>42.0</td>\n",
       "      <td>facebook</td>\n",
       "      <td>0</td>\n",
       "      <td>en</td>\n",
       "      <td>direct</td>\n",
       "      <td>direct</td>\n",
       "      <td>untracked</td>\n",
       "      <td>Web</td>\n",
       "      <td>Mac Desktop</td>\n",
       "      <td>Firefox</td>\n",
       "      <td>other</td>\n",
       "      <td>1</td>\n",
       "    </tr>\n",
       "    <tr>\n",
       "      <th>4</th>\n",
       "      <td>87mebub9p4</td>\n",
       "      <td>2010-09-14</td>\n",
       "      <td>2009-12-08 06:11:05</td>\n",
       "      <td>2010-02-18</td>\n",
       "      <td>-unknown-</td>\n",
       "      <td>41.0</td>\n",
       "      <td>basic</td>\n",
       "      <td>0</td>\n",
       "      <td>en</td>\n",
       "      <td>direct</td>\n",
       "      <td>direct</td>\n",
       "      <td>untracked</td>\n",
       "      <td>Web</td>\n",
       "      <td>Mac Desktop</td>\n",
       "      <td>Chrome</td>\n",
       "      <td>US</td>\n",
       "      <td>1</td>\n",
       "    </tr>\n",
       "  </tbody>\n",
       "</table>\n",
       "</div>"
      ],
      "text/plain": [
       "           id date_account_created timestamp_first_active date_first_booking  \\\n",
       "0  gxn3p5htnn           2010-06-28    2009-03-19 04:32:55                NaT   \n",
       "1  820tgsjxq7           2011-05-25    2009-05-23 17:48:09                NaT   \n",
       "2  4ft3gnwmtx           2010-09-28    2009-06-09 23:12:47         2010-08-02   \n",
       "3  bjjt8pjhuk           2011-12-05    2009-10-31 06:01:29         2012-09-08   \n",
       "4  87mebub9p4           2010-09-14    2009-12-08 06:11:05         2010-02-18   \n",
       "\n",
       "      gender   age signup_method  signup_flow language affiliate_channel  \\\n",
       "0  -unknown-   NaN      facebook            0       en            direct   \n",
       "1       MALE  38.0      facebook            0       en               seo   \n",
       "2     FEMALE  56.0         basic            3       en            direct   \n",
       "3     FEMALE  42.0      facebook            0       en            direct   \n",
       "4  -unknown-  41.0         basic            0       en            direct   \n",
       "\n",
       "  affiliate_provider first_affiliate_tracked signup_app first_device_type  \\\n",
       "0             direct               untracked        Web       Mac Desktop   \n",
       "1             google               untracked        Web       Mac Desktop   \n",
       "2             direct               untracked        Web   Windows Desktop   \n",
       "3             direct               untracked        Web       Mac Desktop   \n",
       "4             direct               untracked        Web       Mac Desktop   \n",
       "\n",
       "  first_browser country_destination  train_flag  \n",
       "0        Chrome                 NDF           1  \n",
       "1        Chrome                 NDF           1  \n",
       "2            IE                  US           1  \n",
       "3       Firefox               other           1  \n",
       "4        Chrome                  US           1  "
      ]
     },
     "execution_count": 8,
     "metadata": {},
     "output_type": "execute_result"
    }
   ],
   "source": [
    "users.head()"
   ]
  },
  {
   "cell_type": "code",
   "execution_count": 9,
   "id": "26d51f7a-ffd1-432c-81b6-717c51976e79",
   "metadata": {},
   "outputs": [
    {
     "data": {
      "text/plain": [
       "(10567737, 6)"
      ]
     },
     "execution_count": 9,
     "metadata": {},
     "output_type": "execute_result"
    }
   ],
   "source": [
    "sessions = pd.read_csv('../data/original/sessions.csv')\n",
    "sessions.shape"
   ]
  },
  {
   "cell_type": "code",
   "execution_count": 10,
   "id": "d9de68c6-f3b7-4d6f-ad2f-6024d15063d6",
   "metadata": {},
   "outputs": [
    {
     "data": {
      "text/html": [
       "<div>\n",
       "<style scoped>\n",
       "    .dataframe tbody tr th:only-of-type {\n",
       "        vertical-align: middle;\n",
       "    }\n",
       "\n",
       "    .dataframe tbody tr th {\n",
       "        vertical-align: top;\n",
       "    }\n",
       "\n",
       "    .dataframe thead th {\n",
       "        text-align: right;\n",
       "    }\n",
       "</style>\n",
       "<table border=\"1\" class=\"dataframe\">\n",
       "  <thead>\n",
       "    <tr style=\"text-align: right;\">\n",
       "      <th></th>\n",
       "      <th>user_id</th>\n",
       "      <th>action</th>\n",
       "      <th>action_type</th>\n",
       "      <th>action_detail</th>\n",
       "      <th>device_type</th>\n",
       "      <th>secs_elapsed</th>\n",
       "    </tr>\n",
       "  </thead>\n",
       "  <tbody>\n",
       "    <tr>\n",
       "      <th>0</th>\n",
       "      <td>d1mm9tcy42</td>\n",
       "      <td>lookup</td>\n",
       "      <td>NaN</td>\n",
       "      <td>NaN</td>\n",
       "      <td>Windows Desktop</td>\n",
       "      <td>319.0</td>\n",
       "    </tr>\n",
       "    <tr>\n",
       "      <th>1</th>\n",
       "      <td>d1mm9tcy42</td>\n",
       "      <td>search_results</td>\n",
       "      <td>click</td>\n",
       "      <td>view_search_results</td>\n",
       "      <td>Windows Desktop</td>\n",
       "      <td>67753.0</td>\n",
       "    </tr>\n",
       "    <tr>\n",
       "      <th>2</th>\n",
       "      <td>d1mm9tcy42</td>\n",
       "      <td>lookup</td>\n",
       "      <td>NaN</td>\n",
       "      <td>NaN</td>\n",
       "      <td>Windows Desktop</td>\n",
       "      <td>301.0</td>\n",
       "    </tr>\n",
       "    <tr>\n",
       "      <th>3</th>\n",
       "      <td>d1mm9tcy42</td>\n",
       "      <td>search_results</td>\n",
       "      <td>click</td>\n",
       "      <td>view_search_results</td>\n",
       "      <td>Windows Desktop</td>\n",
       "      <td>22141.0</td>\n",
       "    </tr>\n",
       "    <tr>\n",
       "      <th>4</th>\n",
       "      <td>d1mm9tcy42</td>\n",
       "      <td>lookup</td>\n",
       "      <td>NaN</td>\n",
       "      <td>NaN</td>\n",
       "      <td>Windows Desktop</td>\n",
       "      <td>435.0</td>\n",
       "    </tr>\n",
       "  </tbody>\n",
       "</table>\n",
       "</div>"
      ],
      "text/plain": [
       "      user_id          action action_type        action_detail  \\\n",
       "0  d1mm9tcy42          lookup         NaN                  NaN   \n",
       "1  d1mm9tcy42  search_results       click  view_search_results   \n",
       "2  d1mm9tcy42          lookup         NaN                  NaN   \n",
       "3  d1mm9tcy42  search_results       click  view_search_results   \n",
       "4  d1mm9tcy42          lookup         NaN                  NaN   \n",
       "\n",
       "       device_type  secs_elapsed  \n",
       "0  Windows Desktop         319.0  \n",
       "1  Windows Desktop       67753.0  \n",
       "2  Windows Desktop         301.0  \n",
       "3  Windows Desktop       22141.0  \n",
       "4  Windows Desktop         435.0  "
      ]
     },
     "execution_count": 10,
     "metadata": {},
     "output_type": "execute_result"
    }
   ],
   "source": [
    "sessions.head()"
   ]
  },
  {
   "cell_type": "markdown",
   "id": "f940bbcc-d6f8-4980-8054-f3cd829caf9c",
   "metadata": {
    "tags": []
   },
   "source": [
    "### 1 Checking whether sessions are present for all users. \n",
    "### It appears that around sessions data is available for only 34% of train users"
   ]
  },
  {
   "cell_type": "code",
   "execution_count": 11,
   "id": "9f9b9d18-b351-4849-8bd7-7936c882b476",
   "metadata": {},
   "outputs": [
    {
     "data": {
      "text/plain": [
       "(73815, 34.581707277079985)"
      ]
     },
     "execution_count": 11,
     "metadata": {},
     "output_type": "execute_result"
    }
   ],
   "source": [
    "ids = set(train_users.id.tolist()).intersection(set(sessions.user_id.tolist()))\n",
    "len(ids), len(ids) * 100 / train_users.id.nunique()"
   ]
  },
  {
   "cell_type": "markdown",
   "id": "10f6c4b3-0e41-4809-9f10-178ae4ed67bd",
   "metadata": {
    "tags": []
   },
   "source": [
    "### 2 Checking whether sessions are present for all **TEST** users. \n",
    "### It appears that sessions data is available for almost all test users"
   ]
  },
  {
   "cell_type": "code",
   "execution_count": 12,
   "id": "18b47ac6-bb1b-412c-b744-23997a32f45a",
   "metadata": {},
   "outputs": [
    {
     "data": {
      "text/plain": [
       "(61668, 99.31074465343984)"
      ]
     },
     "execution_count": 12,
     "metadata": {},
     "output_type": "execute_result"
    }
   ],
   "source": [
    "ids = set(test_users.id.tolist()).intersection(set(sessions.user_id.tolist()))\n",
    "len(ids), len(ids) * 100 / test_users.id.nunique()"
   ]
  },
  {
   "cell_type": "markdown",
   "id": "2c13a993-e505-4170-9acf-d00a05463445",
   "metadata": {},
   "source": [
    "### 3 Dropping redundand data"
   ]
  },
  {
   "cell_type": "markdown",
   "id": "688a0427-584a-45b3-a53b-c7a33c0ed60d",
   "metadata": {},
   "source": [
    "### 3.1 We need to drop users with no sesssions"
   ]
  },
  {
   "cell_type": "code",
   "execution_count": 13,
   "id": "2811eed8-200f-479a-ad7d-2b07c571e75a",
   "metadata": {},
   "outputs": [
    {
     "data": {
      "text/plain": [
       "(275547, 17)"
      ]
     },
     "execution_count": 13,
     "metadata": {},
     "output_type": "execute_result"
    }
   ],
   "source": [
    "users.shape"
   ]
  },
  {
   "cell_type": "code",
   "execution_count": 14,
   "id": "fb077076-fee2-4d4b-929e-4d820e1693cc",
   "metadata": {},
   "outputs": [
    {
     "data": {
      "text/plain": [
       "428"
      ]
     },
     "execution_count": 14,
     "metadata": {},
     "output_type": "execute_result"
    }
   ],
   "source": [
    "test_users[~test_users.id.isin(sessions.user_id)].id.nunique()"
   ]
  },
  {
   "cell_type": "markdown",
   "id": "67560cca-5298-4e5a-937a-8480559d881e",
   "metadata": {
    "tags": []
   },
   "source": [
    "### 3.1.1 Decided to leave users without sessions, as we would have dropped 428 users"
   ]
  },
  {
   "cell_type": "code",
   "execution_count": 15,
   "id": "c1ad9750-ecaa-4a5a-8f0f-0a86f5fca7de",
   "metadata": {},
   "outputs": [],
   "source": [
    "# users = users[users.id.isin(sessions.user_id)]\n",
    "# users.reset_index(drop=True, inplace=True)\n",
    "# users.shape"
   ]
  },
  {
   "cell_type": "markdown",
   "id": "4bd2bfb4-6a21-4af7-ba38-abfb1d658e9a",
   "metadata": {},
   "source": [
    "### 3.2 We need to drop date_first_booking, as it is null for test set"
   ]
  },
  {
   "cell_type": "code",
   "execution_count": 16,
   "id": "d114d83e-3d35-45d9-a456-b9f9d5df6971",
   "metadata": {},
   "outputs": [
    {
     "data": {
      "text/plain": [
       "(275547, 16)"
      ]
     },
     "execution_count": 16,
     "metadata": {},
     "output_type": "execute_result"
    }
   ],
   "source": [
    "users.drop('date_first_booking', inplace=True, axis=1)\n",
    "users.shape"
   ]
  },
  {
   "cell_type": "markdown",
   "id": "052d3520-44ee-4eb9-87e0-e67dbb2cdcde",
   "metadata": {},
   "source": [
    "### 3.2.1 Need to update train_users and test_users dataframes after cleaning\n",
    "No longer needed, as we did not drop any users"
   ]
  },
  {
   "cell_type": "code",
   "execution_count": 17,
   "id": "63b47ea8-83fb-4cf3-83e0-c954a7abb593",
   "metadata": {},
   "outputs": [],
   "source": [
    "# train_users.shape, test_users.shape"
   ]
  },
  {
   "cell_type": "code",
   "execution_count": 15,
   "id": "afdc2f77-f297-415f-be0e-4dec8314f0e1",
   "metadata": {},
   "outputs": [],
   "source": [
    "# train_users = train_users[train_users.id.isin(sessions.user_id)]\n",
    "# train_users.reset_index(drop=True, inplace=True)\n",
    "# train_users.shape"
   ]
  },
  {
   "cell_type": "code",
   "execution_count": null,
   "id": "93dca047-72fa-4276-835d-9e38301bc62c",
   "metadata": {},
   "outputs": [],
   "source": [
    "# test_users = test_users[test_users.id.isin(sessions.user_id)]\n",
    "# test_users.reset_index(drop=True, inplace=True)\n",
    "# test_users.shape"
   ]
  },
  {
   "cell_type": "markdown",
   "id": "c4abb668-8f91-4988-9da3-dc7c4a23819a",
   "metadata": {},
   "source": [
    "### 3.3 We need to drop sessions without any user_ids"
   ]
  },
  {
   "cell_type": "code",
   "execution_count": 20,
   "id": "4c036153-d3ad-49a1-a8dc-d516611c4f3b",
   "metadata": {},
   "outputs": [
    {
     "data": {
      "text/plain": [
       "(34496, 34496)"
      ]
     },
     "execution_count": 20,
     "metadata": {},
     "output_type": "execute_result"
    }
   ],
   "source": [
    "sessions.user_id.isna().sum(), (~sessions.user_id.isin(users.id)).sum()"
   ]
  },
  {
   "cell_type": "code",
   "execution_count": 21,
   "id": "78b1c80b-743d-45a4-bac8-11183d0414b4",
   "metadata": {},
   "outputs": [
    {
     "data": {
      "text/plain": [
       "(10533241, 6)"
      ]
     },
     "execution_count": 21,
     "metadata": {},
     "output_type": "execute_result"
    }
   ],
   "source": [
    "sessions = sessions[sessions.user_id.notna()]\n",
    "sessions.reset_index(drop=True, inplace=True)\n",
    "sessions.shape"
   ]
  },
  {
   "cell_type": "markdown",
   "id": "2b3a46e0-3385-4bd5-a35a-6439b1b7be0b",
   "metadata": {},
   "source": [
    "### 3.4 Checking whether all action, action_types etc are present in both datasets"
   ]
  },
  {
   "cell_type": "markdown",
   "id": "172454d8-8787-4273-9e72-5ec164868e93",
   "metadata": {},
   "source": [
    "### 3.4.1 Concatenating action, action_type, action_detail, and splitting into train and test sessions set"
   ]
  },
  {
   "cell_type": "code",
   "execution_count": 23,
   "id": "c598edb7-c5aa-4582-94b8-38bbc29bc647",
   "metadata": {},
   "outputs": [],
   "source": [
    "sessions['action_info'] = sessions['action'].astype(str) + '_' + sessions['action_type'].astype(str) + '_' + sessions['action_detail'].astype(str)"
   ]
  },
  {
   "cell_type": "code",
   "execution_count": 24,
   "id": "d1600fba-aa82-4ba8-b0ea-d635db15b1c8",
   "metadata": {},
   "outputs": [
    {
     "data": {
      "text/html": [
       "<div>\n",
       "<style scoped>\n",
       "    .dataframe tbody tr th:only-of-type {\n",
       "        vertical-align: middle;\n",
       "    }\n",
       "\n",
       "    .dataframe tbody tr th {\n",
       "        vertical-align: top;\n",
       "    }\n",
       "\n",
       "    .dataframe thead th {\n",
       "        text-align: right;\n",
       "    }\n",
       "</style>\n",
       "<table border=\"1\" class=\"dataframe\">\n",
       "  <thead>\n",
       "    <tr style=\"text-align: right;\">\n",
       "      <th></th>\n",
       "      <th>user_id</th>\n",
       "      <th>action</th>\n",
       "      <th>action_type</th>\n",
       "      <th>action_detail</th>\n",
       "      <th>device_type</th>\n",
       "      <th>secs_elapsed</th>\n",
       "      <th>action_info</th>\n",
       "    </tr>\n",
       "  </thead>\n",
       "  <tbody>\n",
       "    <tr>\n",
       "      <th>0</th>\n",
       "      <td>d1mm9tcy42</td>\n",
       "      <td>lookup</td>\n",
       "      <td>NaN</td>\n",
       "      <td>NaN</td>\n",
       "      <td>Windows Desktop</td>\n",
       "      <td>319.0</td>\n",
       "      <td>lookup_nan_nan</td>\n",
       "    </tr>\n",
       "    <tr>\n",
       "      <th>1</th>\n",
       "      <td>d1mm9tcy42</td>\n",
       "      <td>search_results</td>\n",
       "      <td>click</td>\n",
       "      <td>view_search_results</td>\n",
       "      <td>Windows Desktop</td>\n",
       "      <td>67753.0</td>\n",
       "      <td>search_results_click_view_search_results</td>\n",
       "    </tr>\n",
       "    <tr>\n",
       "      <th>2</th>\n",
       "      <td>d1mm9tcy42</td>\n",
       "      <td>lookup</td>\n",
       "      <td>NaN</td>\n",
       "      <td>NaN</td>\n",
       "      <td>Windows Desktop</td>\n",
       "      <td>301.0</td>\n",
       "      <td>lookup_nan_nan</td>\n",
       "    </tr>\n",
       "    <tr>\n",
       "      <th>3</th>\n",
       "      <td>d1mm9tcy42</td>\n",
       "      <td>search_results</td>\n",
       "      <td>click</td>\n",
       "      <td>view_search_results</td>\n",
       "      <td>Windows Desktop</td>\n",
       "      <td>22141.0</td>\n",
       "      <td>search_results_click_view_search_results</td>\n",
       "    </tr>\n",
       "    <tr>\n",
       "      <th>4</th>\n",
       "      <td>d1mm9tcy42</td>\n",
       "      <td>lookup</td>\n",
       "      <td>NaN</td>\n",
       "      <td>NaN</td>\n",
       "      <td>Windows Desktop</td>\n",
       "      <td>435.0</td>\n",
       "      <td>lookup_nan_nan</td>\n",
       "    </tr>\n",
       "  </tbody>\n",
       "</table>\n",
       "</div>"
      ],
      "text/plain": [
       "      user_id          action action_type        action_detail  \\\n",
       "0  d1mm9tcy42          lookup         NaN                  NaN   \n",
       "1  d1mm9tcy42  search_results       click  view_search_results   \n",
       "2  d1mm9tcy42          lookup         NaN                  NaN   \n",
       "3  d1mm9tcy42  search_results       click  view_search_results   \n",
       "4  d1mm9tcy42          lookup         NaN                  NaN   \n",
       "\n",
       "       device_type  secs_elapsed                               action_info  \n",
       "0  Windows Desktop         319.0                            lookup_nan_nan  \n",
       "1  Windows Desktop       67753.0  search_results_click_view_search_results  \n",
       "2  Windows Desktop         301.0                            lookup_nan_nan  \n",
       "3  Windows Desktop       22141.0  search_results_click_view_search_results  \n",
       "4  Windows Desktop         435.0                            lookup_nan_nan  "
      ]
     },
     "execution_count": 24,
     "metadata": {},
     "output_type": "execute_result"
    }
   ],
   "source": [
    "sessions.head()"
   ]
  },
  {
   "cell_type": "code",
   "execution_count": 25,
   "id": "5bcddf11-c44f-48c1-a4c1-0c02cc3c9d44",
   "metadata": {},
   "outputs": [
    {
     "data": {
      "text/plain": [
       "user_id          135483\n",
       "action              359\n",
       "action_type          10\n",
       "action_detail       155\n",
       "device_type          14\n",
       "secs_elapsed     337188\n",
       "action_info         457\n",
       "dtype: int64"
      ]
     },
     "execution_count": 25,
     "metadata": {},
     "output_type": "execute_result"
    }
   ],
   "source": [
    "sessions.nunique()"
   ]
  },
  {
   "cell_type": "code",
   "execution_count": null,
   "id": "4059bedc-bb31-4e42-a9dc-de5a1cd91602",
   "metadata": {},
   "outputs": [
    {
     "data": {
      "text/plain": [
       "(4995284, 7)"
      ]
     },
     "execution_count": 19,
     "metadata": {},
     "output_type": "execute_result"
    }
   ],
   "source": [
    "sessions_test = sessions[sessions.user_id.isin(test_users.id.tolist())]\n",
    "sessions_test.reset_index(drop=True, inplace=True)\n",
    "sessions_test.shape"
   ]
  },
  {
   "cell_type": "code",
   "execution_count": null,
   "id": "11dcc40e-df49-489a-913d-f7f6f4486459",
   "metadata": {},
   "outputs": [
    {
     "data": {
      "text/plain": [
       "user_id           73815\n",
       "action              331\n",
       "action_type           9\n",
       "action_detail       128\n",
       "device_type          14\n",
       "secs_elapsed     256593\n",
       "action_info         401\n",
       "dtype: int64"
      ]
     },
     "execution_count": 20,
     "metadata": {},
     "output_type": "execute_result"
    }
   ],
   "source": [
    "sessions_train.nunique()"
   ]
  },
  {
   "cell_type": "code",
   "execution_count": 21,
   "id": "cfd3fca8-90b6-488e-8162-3cbc53693095",
   "metadata": {},
   "outputs": [
    {
     "data": {
      "text/plain": [
       "user_id           61668\n",
       "action              311\n",
       "action_type          10\n",
       "action_detail       153\n",
       "device_type          14\n",
       "secs_elapsed     223462\n",
       "action_info         392\n",
       "dtype: int64"
      ]
     },
     "execution_count": 21,
     "metadata": {},
     "output_type": "execute_result"
    }
   ],
   "source": [
    "sessions_test.nunique()"
   ]
  },
  {
   "cell_type": "markdown",
   "id": "2e1012f3-86c8-4255-9997-a34ea5810202",
   "metadata": {},
   "source": [
    "### 3.5 Checking action, action_type, action_detail, device_type, action_info unique values for test and train users"
   ]
  },
  {
   "cell_type": "code",
   "execution_count": 26,
   "id": "493d6033-aefb-474a-8e43-4213c9be036e",
   "metadata": {},
   "outputs": [],
   "source": [
    "cols = ['action', 'action_type', 'action_detail', 'device_type', 'action_info']"
   ]
  },
  {
   "cell_type": "code",
   "execution_count": 27,
   "id": "21de43b4-8aba-4d26-a402-6e0ec10e18f9",
   "metadata": {},
   "outputs": [
    {
     "name": "stdout",
     "output_type": "stream",
     "text": [
      "Discrepancy found for: action\n",
      "train size: 332, test size: 312\n",
      "Present in train but missing in test:\n",
      "{'multi', 'plaxo_cb', 'concierge', 'confirmation', 'multi_message_attributes', 'onenight', 'sldf', 'reactivate', 'friend_listing', 'ajax_photo_widget', 'airbrb', 'ajax_send_message', 'travel', 'use_mobile_site', 'deauthorize', 'host_2013', 'views_campaign', 'faq_experiment_ids', 'update_message', 'ajax_get_referrals_amt', 'unread', 'ajax_get_results', 'views_campaign_rules', 'google_importer', 'nyan', 'pricing', 'locale_from_host', 'wishlists', 'apply', 'ajax_referral_banner_type', 'disaster_action', 'tos_2014', 'recommended_listings', 'desks', 'press_content', 'message', 'popular_listing', 'press_release', 'ajax_referral_banner_experiment_type', 'hosting_social_proof', 'multi_message', 'relationship', 'new_host', 'widget', 'ajax_ldp', 'hospitality_standards', 'rentals', 'deactivate'}\n",
      "Present in test but missing in train:\n",
      "{'report', 'host_cancel', 'view', 'acculynk_pin_pad_error', 'business_travel', 'custom_recommended_destinations', 'add_business_address_colorbox', 'accept_decline', 'events', 'hard_fallback_submit', 'deactivated', 'add_guest_colorbox', 'unsubscribe', 'stpcv', 'support_phone_numbers', 'set_minimum_payout_amount', 'sandy', 'revert_to_admin', 'acculynk_bin_check_failed', 'reset_calendar', 'my_reservations', 'south-america', 'refund_guest_cancellation', 'braintree_client_token', 'acculynk_pin_pad_success', 'book', 'this_hosting_reviews_3000', 'rest-of-world'}\n",
      "Discrepancy found for: action_type\n",
      "train size: 10, test size: 11\n",
      "Present in train but missing in test:\n",
      "set()\n",
      "Present in test but missing in train:\n",
      "{'modify'}\n",
      "Discrepancy found for: action_detail\n",
      "train size: 129, test size: 154\n",
      "Present in train but missing in test:\n",
      "{'tos_2014', 'homepage'}\n",
      "Present in test but missing in train:\n",
      "{'cancellation_policy', 'view_ghostings', 'click_reviews', 'host_refund_guest', 'create_payment_instrument', 'click_about_host', 'host_respond_page', 'phone_numbers', 'modify_reservations', 'modify_users', 'view_locations', 'delete_payment_instrument', 'view_user_real_names', 'share', 'move_map', 'set_default_payment_instrument', 'click_amenities', 'host_standard_suspension', 'photos', 'view_identity_verifications', 'view_ghosting_reasons', 'view_reservations', 'view_resolutions', 'profile_reviews', 'view_security_checks', 'deactivate_user_account', 'account_payment_methods'}\n",
      "Discrepancy found for: action_info\n",
      "train size: 401, test size: 392\n",
      "Present in train but missing in test:\n",
      "{'login_-unknown-_-unknown-', 'press_content_-unknown-_-unknown-', 'ajax_referral_banner_experiment_type_-unknown-_-unknown-', 'plaxo_cb_-unknown-_-unknown-', 'faq_experiment_ids_-unknown-_-unknown-', 'reactivate_-unknown-_-unknown-', 'ajax_referral_banner_type_-unknown-_-unknown-', 'payment_instruments_-unknown-_-unknown-', 'recommended_listings_-unknown-_-unknown-', 'google_importer_-unknown-_-unknown-', 'ajax_send_message_-unknown-_-unknown-', 'rentals_-unknown-_-unknown-', 'use_mobile_site_-unknown-_-unknown-', 'nyan_-unknown-_-unknown-', 'travel_-unknown-_-unknown-', 'hospitality_standards_-unknown-_-unknown-', 'multi_message_message_post_message_post', 'recommendations_-unknown-_-unknown-', 'campaigns_-unknown-_-unknown-', 'update_message_-unknown-_-unknown-', 'change_availability_-unknown-_-unknown-', 'sldf_-unknown-_-unknown-', 'confirm_email_-unknown-_-unknown-', 'multi_-unknown-_-unknown-', 'wishlists_-unknown-_-unknown-', 'concierge_-unknown-_-unknown-', 'ajax_ldp_-unknown-_-unknown-', 'notifications_-unknown-_-unknown-', 'unavailabilities_-unknown-_-unknown-', 'ajax_get_referrals_amt_-unknown-_-unknown-', 'airbrb_-unknown-_-unknown-', 'localization_settings_-unknown-_-unknown-', 'currencies_-unknown-_-unknown-', 'social_connections_-unknown-_-unknown-', 'pricing_-unknown-_-unknown-', 'host_summary_-unknown-_-unknown-', 'deauthorize_-unknown-_-unknown-', 'press_release_-unknown-_-unknown-', 'disaster_action_nan_nan', 'connect_-unknown-_-unknown-', 'collections_-unknown-_-unknown-', 'multi_message_attributes_-unknown-_-unknown-', 'new_host_-unknown-_-unknown-', 'hosting_social_proof_-unknown-_-unknown-', 'available_-unknown-_-unknown-', 'onenight_-unknown-_-unknown-', 'desks_-unknown-_-unknown-', 'apply_-unknown-_-unknown-', 'widget_nan_nan', 'index_view_homepage', 'views_campaign_rules_-unknown-_-unknown-', 'friend_listing_-unknown-_-unknown-', 'reviews_-unknown-_-unknown-', 'relationship_-unknown-_-unknown-', 'confirmation_-unknown-_-unknown-', 'ajax_get_results_click_view_search_results', 'views_campaign_-unknown-_-unknown-', 'unread_-unknown-_-unknown-', 'tos_2014_view_tos_2014', 'popular_listing_-unknown-_-unknown-', 'host_2013_-unknown-_-unknown-', 'message_-unknown-_-unknown-', 'locale_from_host_-unknown-_-unknown-', 'ajax_photo_widget_-unknown-_-unknown-', 'deactivate_-unknown-_-unknown-'}\n",
      "Present in test but missing in train:\n",
      "{'click_click_click_about_host', 'index_view_view_locations', 'add_business_address_colorbox_-unknown-_-unknown-', 'index_view_account_payment_methods', 'reviews_view_profile_reviews', 'show_view_view_identity_verifications', 'refund_guest_cancellation_submit_host_refund_guest', 'acculynk_bin_check_failed_-unknown-_-unknown-', 'set_minimum_payout_amount_-unknown-_-unknown-', 'patch_modify_modify_reservations', 'braintree_client_token_nan_nan', 'terms_-unknown-_-unknown-', 'accept_decline_view_host_respond_page', 'click_click_move_map', 'business_travel_-unknown-_-unknown-', 'rest-of-world_-unknown-_-unknown-', 'book_view_p4', 'delete_-unknown-_phone_numbers', 'add_guest_colorbox_-unknown-_-unknown-', 'south-america_-unknown-_-unknown-', 'this_hosting_reviews_3000_-unknown-_-unknown-', 'click_click_photos', 'show_view_view_security_checks', 'click_-unknown-_-unknown-', 'index_view_view_resolutions', 'patch_modify_modify_users', 'deactivated_view_host_standard_suspension', 'create_submit_create_payment_instrument', 'delete_-unknown-_reservations', 'delete_submit_deactivate_user_account', 'support_phone_numbers_-unknown-_-unknown-', 'custom_recommended_destinations_-unknown-_-unknown-', 'destroy_submit_delete_payment_instrument', 'click_click_cancellation_policy', 'set_default_submit_set_default_payment_instrument', 'index_view_view_ghosting_reasons', 'click_click_click_amenities', 'report_-unknown-_-unknown-', 'click_click_share', 'hard_fallback_submit_-unknown-_-unknown-', 'revert_to_admin_-unknown-_-unknown-', 'acculynk_pin_pad_success_-unknown-_-unknown-', 'unsubscribe_-unknown-_-unknown-', 'host_cancel_-unknown-_-unknown-', 'sandy_-unknown-_-unknown-', 'events_-unknown-_-unknown-', 'stpcv_-unknown-_-unknown-', 'index_view_view_user_real_names', 'index_view_view_identity_verifications', 'index_view_view_ghostings', 'click_click_click_reviews', 'view_view_p3', 'acculynk_pin_pad_error_-unknown-_-unknown-', 'index_view_view_reservations', 'reset_calendar_-unknown-_-unknown-', 'my_reservations_view_your_reservations'}\n"
     ]
    }
   ],
   "source": [
    "for col in cols:\n",
    "    train_set = set(sessions_train[col].unique())\n",
    "    test_set = set(sessions_test[col].unique())\n",
    "    if train_set != test_set:\n",
    "        print(f'Discrepancy found for: {col}')\n",
    "        print(f'train size: {len(train_set)}, test size: {len(test_set)}')\n",
    "        print(f'Present in train but missing in test:\\n{train_set - test_set}')\n",
    "        print(f'Present in test but missing in train:\\n{test_set - train_set}')"
   ]
  },
  {
   "cell_type": "markdown",
   "id": "28f0e741-5c96-49f6-850d-11b1c202bfa5",
   "metadata": {},
   "source": [
    "### 3.5.1 Due to the fact that discrepancies where found, we are taking only those sessions that have action_info in both sets\n",
    "Not doing that any longer, as we might drop 4 users sessions because of this, resulting in total decrease of 432 users (428 + 4)"
   ]
  },
  {
   "cell_type": "code",
   "execution_count": 28,
   "id": "91845b9d-758d-4d63-9c9f-f5e75eaf8ab2",
   "metadata": {},
   "outputs": [],
   "source": [
    "# action_info_set = set(sessions_train.action_info.unique()).intersection(set(sessions_test.action_info.unique()))\n",
    "# len(action_info_set)"
   ]
  },
  {
   "cell_type": "code",
   "execution_count": 29,
   "id": "288dfe34-4d77-46bd-962e-998c01b1e93e",
   "metadata": {},
   "outputs": [],
   "source": [
    "# unique_user_ids = sessions.user_id.nunique()\n",
    "# unique_user_ids"
   ]
  },
  {
   "cell_type": "code",
   "execution_count": 30,
   "id": "67f96090-5ddb-42d7-a81a-b969504ea9c4",
   "metadata": {},
   "outputs": [],
   "source": [
    "# sessions = sessions[sessions.action_info.isin(action_info_set)]\n",
    "# sessions.reset_index(drop=True, inplace=True)\n",
    "# sessions.shape"
   ]
  },
  {
   "cell_type": "markdown",
   "id": "cfe7bfb6-b9ce-4c6f-a5a5-89845b55a8a9",
   "metadata": {},
   "source": [
    "### 3.5.3 Checking if the submission files are missing 4 test_users"
   ]
  },
  {
   "cell_type": "code",
   "execution_count": 38,
   "id": "c8319d1e-602e-476d-81e0-c9ff7ce7242d",
   "metadata": {},
   "outputs": [
    {
     "data": {
      "text/plain": [
       "(61664, 2)"
      ]
     },
     "execution_count": 38,
     "metadata": {},
     "output_type": "execute_result"
    }
   ],
   "source": [
    "submission = pd.read_csv('../data/results/submission1.csv')\n",
    "submission.shape"
   ]
  },
  {
   "cell_type": "code",
   "execution_count": 41,
   "id": "579f1742-df5b-4d1d-89ce-e3907ab3b0f8",
   "metadata": {},
   "outputs": [
    {
     "data": {
      "text/html": [
       "<div>\n",
       "<style scoped>\n",
       "    .dataframe tbody tr th:only-of-type {\n",
       "        vertical-align: middle;\n",
       "    }\n",
       "\n",
       "    .dataframe tbody tr th {\n",
       "        vertical-align: top;\n",
       "    }\n",
       "\n",
       "    .dataframe thead th {\n",
       "        text-align: right;\n",
       "    }\n",
       "</style>\n",
       "<table border=\"1\" class=\"dataframe\">\n",
       "  <thead>\n",
       "    <tr style=\"text-align: right;\">\n",
       "      <th></th>\n",
       "      <th>id</th>\n",
       "      <th>country</th>\n",
       "    </tr>\n",
       "  </thead>\n",
       "  <tbody>\n",
       "    <tr>\n",
       "      <th>0</th>\n",
       "      <td>5uwns89zht</td>\n",
       "      <td>NDF</td>\n",
       "    </tr>\n",
       "    <tr>\n",
       "      <th>1</th>\n",
       "      <td>jtl0dijy2j</td>\n",
       "      <td>NDF</td>\n",
       "    </tr>\n",
       "    <tr>\n",
       "      <th>2</th>\n",
       "      <td>xx0ulgorjt</td>\n",
       "      <td>NDF</td>\n",
       "    </tr>\n",
       "    <tr>\n",
       "      <th>3</th>\n",
       "      <td>6c6puo6ix0</td>\n",
       "      <td>NDF</td>\n",
       "    </tr>\n",
       "    <tr>\n",
       "      <th>4</th>\n",
       "      <td>czqhjk3yfe</td>\n",
       "      <td>US</td>\n",
       "    </tr>\n",
       "  </tbody>\n",
       "</table>\n",
       "</div>"
      ],
      "text/plain": [
       "           id country\n",
       "0  5uwns89zht     NDF\n",
       "1  jtl0dijy2j     NDF\n",
       "2  xx0ulgorjt     NDF\n",
       "3  6c6puo6ix0     NDF\n",
       "4  czqhjk3yfe      US"
      ]
     },
     "execution_count": 41,
     "metadata": {},
     "output_type": "execute_result"
    }
   ],
   "source": [
    "submission.head()"
   ]
  },
  {
   "cell_type": "code",
   "execution_count": 39,
   "id": "496e108c-cf0c-4051-94bf-ffeb4b05acad",
   "metadata": {},
   "outputs": [
    {
     "data": {
      "text/plain": [
       "(62096, 15)"
      ]
     },
     "execution_count": 39,
     "metadata": {},
     "output_type": "execute_result"
    }
   ],
   "source": [
    "original_test_users = pd.read_csv('../data/original/test_users.csv')\n",
    "original_test_users.shape"
   ]
  },
  {
   "cell_type": "code",
   "execution_count": 42,
   "id": "fe0e673d-b6c7-41fb-8532-bf4e28911ede",
   "metadata": {},
   "outputs": [
    {
     "data": {
      "text/html": [
       "<div>\n",
       "<style scoped>\n",
       "    .dataframe tbody tr th:only-of-type {\n",
       "        vertical-align: middle;\n",
       "    }\n",
       "\n",
       "    .dataframe tbody tr th {\n",
       "        vertical-align: top;\n",
       "    }\n",
       "\n",
       "    .dataframe thead th {\n",
       "        text-align: right;\n",
       "    }\n",
       "</style>\n",
       "<table border=\"1\" class=\"dataframe\">\n",
       "  <thead>\n",
       "    <tr style=\"text-align: right;\">\n",
       "      <th></th>\n",
       "      <th>id</th>\n",
       "      <th>date_account_created</th>\n",
       "      <th>timestamp_first_active</th>\n",
       "      <th>date_first_booking</th>\n",
       "      <th>gender</th>\n",
       "      <th>age</th>\n",
       "      <th>signup_method</th>\n",
       "      <th>signup_flow</th>\n",
       "      <th>language</th>\n",
       "      <th>affiliate_channel</th>\n",
       "      <th>affiliate_provider</th>\n",
       "      <th>first_affiliate_tracked</th>\n",
       "      <th>signup_app</th>\n",
       "      <th>first_device_type</th>\n",
       "      <th>first_browser</th>\n",
       "    </tr>\n",
       "  </thead>\n",
       "  <tbody>\n",
       "    <tr>\n",
       "      <th>0</th>\n",
       "      <td>5uwns89zht</td>\n",
       "      <td>2014-07-01</td>\n",
       "      <td>20140701000006</td>\n",
       "      <td>NaN</td>\n",
       "      <td>FEMALE</td>\n",
       "      <td>35.0</td>\n",
       "      <td>facebook</td>\n",
       "      <td>0</td>\n",
       "      <td>en</td>\n",
       "      <td>direct</td>\n",
       "      <td>direct</td>\n",
       "      <td>untracked</td>\n",
       "      <td>Moweb</td>\n",
       "      <td>iPhone</td>\n",
       "      <td>Mobile Safari</td>\n",
       "    </tr>\n",
       "    <tr>\n",
       "      <th>1</th>\n",
       "      <td>jtl0dijy2j</td>\n",
       "      <td>2014-07-01</td>\n",
       "      <td>20140701000051</td>\n",
       "      <td>NaN</td>\n",
       "      <td>-unknown-</td>\n",
       "      <td>NaN</td>\n",
       "      <td>basic</td>\n",
       "      <td>0</td>\n",
       "      <td>en</td>\n",
       "      <td>direct</td>\n",
       "      <td>direct</td>\n",
       "      <td>untracked</td>\n",
       "      <td>Moweb</td>\n",
       "      <td>iPhone</td>\n",
       "      <td>Mobile Safari</td>\n",
       "    </tr>\n",
       "    <tr>\n",
       "      <th>2</th>\n",
       "      <td>xx0ulgorjt</td>\n",
       "      <td>2014-07-01</td>\n",
       "      <td>20140701000148</td>\n",
       "      <td>NaN</td>\n",
       "      <td>-unknown-</td>\n",
       "      <td>NaN</td>\n",
       "      <td>basic</td>\n",
       "      <td>0</td>\n",
       "      <td>en</td>\n",
       "      <td>direct</td>\n",
       "      <td>direct</td>\n",
       "      <td>linked</td>\n",
       "      <td>Web</td>\n",
       "      <td>Windows Desktop</td>\n",
       "      <td>Chrome</td>\n",
       "    </tr>\n",
       "    <tr>\n",
       "      <th>3</th>\n",
       "      <td>6c6puo6ix0</td>\n",
       "      <td>2014-07-01</td>\n",
       "      <td>20140701000215</td>\n",
       "      <td>NaN</td>\n",
       "      <td>-unknown-</td>\n",
       "      <td>NaN</td>\n",
       "      <td>basic</td>\n",
       "      <td>0</td>\n",
       "      <td>en</td>\n",
       "      <td>direct</td>\n",
       "      <td>direct</td>\n",
       "      <td>linked</td>\n",
       "      <td>Web</td>\n",
       "      <td>Windows Desktop</td>\n",
       "      <td>IE</td>\n",
       "    </tr>\n",
       "    <tr>\n",
       "      <th>4</th>\n",
       "      <td>czqhjk3yfe</td>\n",
       "      <td>2014-07-01</td>\n",
       "      <td>20140701000305</td>\n",
       "      <td>NaN</td>\n",
       "      <td>-unknown-</td>\n",
       "      <td>NaN</td>\n",
       "      <td>basic</td>\n",
       "      <td>0</td>\n",
       "      <td>en</td>\n",
       "      <td>direct</td>\n",
       "      <td>direct</td>\n",
       "      <td>untracked</td>\n",
       "      <td>Web</td>\n",
       "      <td>Mac Desktop</td>\n",
       "      <td>Safari</td>\n",
       "    </tr>\n",
       "  </tbody>\n",
       "</table>\n",
       "</div>"
      ],
      "text/plain": [
       "           id date_account_created  timestamp_first_active  \\\n",
       "0  5uwns89zht           2014-07-01          20140701000006   \n",
       "1  jtl0dijy2j           2014-07-01          20140701000051   \n",
       "2  xx0ulgorjt           2014-07-01          20140701000148   \n",
       "3  6c6puo6ix0           2014-07-01          20140701000215   \n",
       "4  czqhjk3yfe           2014-07-01          20140701000305   \n",
       "\n",
       "   date_first_booking     gender   age signup_method  signup_flow language  \\\n",
       "0                 NaN     FEMALE  35.0      facebook            0       en   \n",
       "1                 NaN  -unknown-   NaN         basic            0       en   \n",
       "2                 NaN  -unknown-   NaN         basic            0       en   \n",
       "3                 NaN  -unknown-   NaN         basic            0       en   \n",
       "4                 NaN  -unknown-   NaN         basic            0       en   \n",
       "\n",
       "  affiliate_channel affiliate_provider first_affiliate_tracked signup_app  \\\n",
       "0            direct             direct               untracked      Moweb   \n",
       "1            direct             direct               untracked      Moweb   \n",
       "2            direct             direct                  linked        Web   \n",
       "3            direct             direct                  linked        Web   \n",
       "4            direct             direct               untracked        Web   \n",
       "\n",
       "  first_device_type  first_browser  \n",
       "0            iPhone  Mobile Safari  \n",
       "1            iPhone  Mobile Safari  \n",
       "2   Windows Desktop         Chrome  \n",
       "3   Windows Desktop             IE  \n",
       "4       Mac Desktop         Safari  "
      ]
     },
     "execution_count": 42,
     "metadata": {},
     "output_type": "execute_result"
    }
   ],
   "source": [
    "original_test_users.head()"
   ]
  },
  {
   "cell_type": "markdown",
   "id": "c7ec60b4-6545-4e40-a41f-e1a9b35bb23c",
   "metadata": {},
   "source": [
    "### It appears that there are 432 test users we did not submit any results\n",
    "Conclusion: not to drop non-intersecting action_info and users without any sessions"
   ]
  },
  {
   "cell_type": "code",
   "execution_count": 43,
   "id": "2a82ce52-fb63-4626-aa49-de6766b44963",
   "metadata": {},
   "outputs": [
    {
     "data": {
      "text/plain": [
       "432"
      ]
     },
     "execution_count": 43,
     "metadata": {},
     "output_type": "execute_result"
    }
   ],
   "source": [
    "# len(set(original_test_users.id.unique()) - set(submission.id.unique()))"
   ]
  },
  {
   "cell_type": "code",
   "execution_count": 44,
   "id": "d5ba1711-6ff0-49aa-880e-f7e9e1ac6b56",
   "metadata": {},
   "outputs": [
    {
     "data": {
      "text/plain": [
       "0"
      ]
     },
     "execution_count": 44,
     "metadata": {},
     "output_type": "execute_result"
    }
   ],
   "source": [
    "# len(set(submission.id.unique()) - set(original_test_users.id.unique()))"
   ]
  },
  {
   "cell_type": "code",
   "execution_count": 53,
   "id": "a2eaedaf-4539-4142-9310-4494e7f7e238",
   "metadata": {},
   "outputs": [
    {
     "data": {
      "text/plain": [
       "(5494799, 7)"
      ]
     },
     "execution_count": 53,
     "metadata": {},
     "output_type": "execute_result"
    }
   ],
   "source": [
    "# ss_train = ss_train[ss_train.action_info.isin(action_info_set)]\n",
    "# ss_train.reset_index(drop=True, inplace=True)\n",
    "# ss_train.shape"
   ]
  },
  {
   "cell_type": "code",
   "execution_count": 54,
   "id": "1e8af66e-bb64-41f4-9cef-6896fa1d329a",
   "metadata": {},
   "outputs": [
    {
     "data": {
      "text/plain": [
       "(4934245, 7)"
      ]
     },
     "execution_count": 54,
     "metadata": {},
     "output_type": "execute_result"
    }
   ],
   "source": [
    "# ss_test = ss_test[ss_test.action_info.isin(action_info_set)]\n",
    "# ss_test.reset_index(drop=True, inplace=True)\n",
    "# ss_test.shape"
   ]
  },
  {
   "cell_type": "code",
   "execution_count": null,
   "id": "3cda4ab7-aae0-4936-b2cd-eae0b194479c",
   "metadata": {},
   "outputs": [],
   "source": []
  },
  {
   "cell_type": "code",
   "execution_count": null,
   "id": "65ed2ba7-f89d-44e9-b221-bfcb9989e031",
   "metadata": {},
   "outputs": [],
   "source": []
  },
  {
   "cell_type": "code",
   "execution_count": null,
   "id": "ef69a9e0-d292-471d-92e2-9e4831890649",
   "metadata": {},
   "outputs": [],
   "source": []
  },
  {
   "cell_type": "markdown",
   "id": "35ff9764-71d4-4caa-9aba-e7f17d5bc38e",
   "metadata": {},
   "source": [
    "### 4. Saving data"
   ]
  },
  {
   "cell_type": "code",
   "execution_count": 26,
   "id": "1eeeee36-152a-43b4-a643-96a81616f6fa",
   "metadata": {},
   "outputs": [],
   "source": [
    "sessions.to_parquet('../data/processed/sessions.parquet')"
   ]
  },
  {
   "cell_type": "code",
   "execution_count": 27,
   "id": "ba4015d1-c3f0-4e23-9e1f-e399a26147f8",
   "metadata": {},
   "outputs": [],
   "source": [
    "users.to_parquet('../data/processed/users.parquet')"
   ]
  },
  {
   "cell_type": "code",
   "execution_count": null,
   "id": "5ee51e38-6b88-440a-8528-bcba66acf134",
   "metadata": {},
   "outputs": [],
   "source": []
  },
  {
   "cell_type": "code",
   "execution_count": null,
   "id": "74a4702e-345a-46fb-a6d7-4a6466ae28cd",
   "metadata": {},
   "outputs": [],
   "source": []
  },
  {
   "cell_type": "code",
   "execution_count": null,
   "id": "43a03d1d-17d8-4153-b1ba-d96454cea1d9",
   "metadata": {},
   "outputs": [],
   "source": []
  }
 ],
 "metadata": {
  "kernelspec": {
   "display_name": "Python 3 (ipykernel)",
   "language": "python",
   "name": "python3"
  },
  "language_info": {
   "codemirror_mode": {
    "name": "ipython",
    "version": 3
   },
   "file_extension": ".py",
   "mimetype": "text/x-python",
   "name": "python",
   "nbconvert_exporter": "python",
   "pygments_lexer": "ipython3",
   "version": "3.9.6"
  }
 },
 "nbformat": 4,
 "nbformat_minor": 5
}
