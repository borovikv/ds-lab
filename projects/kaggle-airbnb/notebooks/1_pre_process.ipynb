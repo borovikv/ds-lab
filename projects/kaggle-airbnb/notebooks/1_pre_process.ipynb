{
 "cells": [
  {
   "cell_type": "markdown",
   "id": "081bfcdf-18f2-48ac-af56-c494c91bb316",
   "metadata": {
    "tags": []
   },
   "source": [
    "### Pre-processing steps based on EDA"
   ]
  },
  {
   "cell_type": "code",
   "execution_count": 1,
   "id": "4601492d-15c6-452b-ae89-1a317972ca19",
   "metadata": {},
   "outputs": [],
   "source": [
    "import pandas as pd\n",
    "from datetime import datetime"
   ]
  },
  {
   "cell_type": "markdown",
   "id": "c45a1358-251b-4bdb-88a9-207740e39d3e",
   "metadata": {
    "tags": []
   },
   "source": [
    "### 0 Loading data"
   ]
  },
  {
   "cell_type": "code",
   "execution_count": 2,
   "id": "804107b8-1202-44e7-8627-7a54c416856f",
   "metadata": {},
   "outputs": [
    {
     "data": {
      "text/plain": [
       "(213451, 16)"
      ]
     },
     "execution_count": 2,
     "metadata": {},
     "output_type": "execute_result"
    }
   ],
   "source": [
    "df = pd.read_csv('../data/original/train_users_2.csv')\n",
    "df.shape"
   ]
  },
  {
   "cell_type": "code",
   "execution_count": 3,
   "id": "e6f8327d-d007-4c06-9c73-7797c0e0f4ae",
   "metadata": {},
   "outputs": [],
   "source": [
    "df.date_account_created = df.date_account_created.apply(lambda x: datetime.strptime(x, '%Y-%m-%d'))\n",
    "df.timestamp_first_active = df.timestamp_first_active.apply(lambda x: datetime.strptime(str(x), '%Y%m%d%H%M%S'))\n",
    "df.date_first_booking = df.date_first_booking.apply(lambda x: datetime.strptime(x, '%Y-%m-%d') if pd.notna(x) else None)"
   ]
  },
  {
   "cell_type": "code",
   "execution_count": 4,
   "id": "a9059069-3f78-436c-a12c-deca4a8aaa09",
   "metadata": {},
   "outputs": [
    {
     "data": {
      "text/html": [
       "<div>\n",
       "<style scoped>\n",
       "    .dataframe tbody tr th:only-of-type {\n",
       "        vertical-align: middle;\n",
       "    }\n",
       "\n",
       "    .dataframe tbody tr th {\n",
       "        vertical-align: top;\n",
       "    }\n",
       "\n",
       "    .dataframe thead th {\n",
       "        text-align: right;\n",
       "    }\n",
       "</style>\n",
       "<table border=\"1\" class=\"dataframe\">\n",
       "  <thead>\n",
       "    <tr style=\"text-align: right;\">\n",
       "      <th></th>\n",
       "      <th>id</th>\n",
       "      <th>date_account_created</th>\n",
       "      <th>timestamp_first_active</th>\n",
       "      <th>date_first_booking</th>\n",
       "      <th>gender</th>\n",
       "      <th>age</th>\n",
       "      <th>signup_method</th>\n",
       "      <th>signup_flow</th>\n",
       "      <th>language</th>\n",
       "      <th>affiliate_channel</th>\n",
       "      <th>affiliate_provider</th>\n",
       "      <th>first_affiliate_tracked</th>\n",
       "      <th>signup_app</th>\n",
       "      <th>first_device_type</th>\n",
       "      <th>first_browser</th>\n",
       "      <th>country_destination</th>\n",
       "    </tr>\n",
       "  </thead>\n",
       "  <tbody>\n",
       "    <tr>\n",
       "      <th>0</th>\n",
       "      <td>gxn3p5htnn</td>\n",
       "      <td>2010-06-28</td>\n",
       "      <td>2009-03-19 04:32:55</td>\n",
       "      <td>NaT</td>\n",
       "      <td>-unknown-</td>\n",
       "      <td>NaN</td>\n",
       "      <td>facebook</td>\n",
       "      <td>0</td>\n",
       "      <td>en</td>\n",
       "      <td>direct</td>\n",
       "      <td>direct</td>\n",
       "      <td>untracked</td>\n",
       "      <td>Web</td>\n",
       "      <td>Mac Desktop</td>\n",
       "      <td>Chrome</td>\n",
       "      <td>NDF</td>\n",
       "    </tr>\n",
       "    <tr>\n",
       "      <th>1</th>\n",
       "      <td>820tgsjxq7</td>\n",
       "      <td>2011-05-25</td>\n",
       "      <td>2009-05-23 17:48:09</td>\n",
       "      <td>NaT</td>\n",
       "      <td>MALE</td>\n",
       "      <td>38.0</td>\n",
       "      <td>facebook</td>\n",
       "      <td>0</td>\n",
       "      <td>en</td>\n",
       "      <td>seo</td>\n",
       "      <td>google</td>\n",
       "      <td>untracked</td>\n",
       "      <td>Web</td>\n",
       "      <td>Mac Desktop</td>\n",
       "      <td>Chrome</td>\n",
       "      <td>NDF</td>\n",
       "    </tr>\n",
       "    <tr>\n",
       "      <th>2</th>\n",
       "      <td>4ft3gnwmtx</td>\n",
       "      <td>2010-09-28</td>\n",
       "      <td>2009-06-09 23:12:47</td>\n",
       "      <td>2010-08-02</td>\n",
       "      <td>FEMALE</td>\n",
       "      <td>56.0</td>\n",
       "      <td>basic</td>\n",
       "      <td>3</td>\n",
       "      <td>en</td>\n",
       "      <td>direct</td>\n",
       "      <td>direct</td>\n",
       "      <td>untracked</td>\n",
       "      <td>Web</td>\n",
       "      <td>Windows Desktop</td>\n",
       "      <td>IE</td>\n",
       "      <td>US</td>\n",
       "    </tr>\n",
       "    <tr>\n",
       "      <th>3</th>\n",
       "      <td>bjjt8pjhuk</td>\n",
       "      <td>2011-12-05</td>\n",
       "      <td>2009-10-31 06:01:29</td>\n",
       "      <td>2012-09-08</td>\n",
       "      <td>FEMALE</td>\n",
       "      <td>42.0</td>\n",
       "      <td>facebook</td>\n",
       "      <td>0</td>\n",
       "      <td>en</td>\n",
       "      <td>direct</td>\n",
       "      <td>direct</td>\n",
       "      <td>untracked</td>\n",
       "      <td>Web</td>\n",
       "      <td>Mac Desktop</td>\n",
       "      <td>Firefox</td>\n",
       "      <td>other</td>\n",
       "    </tr>\n",
       "    <tr>\n",
       "      <th>4</th>\n",
       "      <td>87mebub9p4</td>\n",
       "      <td>2010-09-14</td>\n",
       "      <td>2009-12-08 06:11:05</td>\n",
       "      <td>2010-02-18</td>\n",
       "      <td>-unknown-</td>\n",
       "      <td>41.0</td>\n",
       "      <td>basic</td>\n",
       "      <td>0</td>\n",
       "      <td>en</td>\n",
       "      <td>direct</td>\n",
       "      <td>direct</td>\n",
       "      <td>untracked</td>\n",
       "      <td>Web</td>\n",
       "      <td>Mac Desktop</td>\n",
       "      <td>Chrome</td>\n",
       "      <td>US</td>\n",
       "    </tr>\n",
       "  </tbody>\n",
       "</table>\n",
       "</div>"
      ],
      "text/plain": [
       "           id date_account_created timestamp_first_active date_first_booking  \\\n",
       "0  gxn3p5htnn           2010-06-28    2009-03-19 04:32:55                NaT   \n",
       "1  820tgsjxq7           2011-05-25    2009-05-23 17:48:09                NaT   \n",
       "2  4ft3gnwmtx           2010-09-28    2009-06-09 23:12:47         2010-08-02   \n",
       "3  bjjt8pjhuk           2011-12-05    2009-10-31 06:01:29         2012-09-08   \n",
       "4  87mebub9p4           2010-09-14    2009-12-08 06:11:05         2010-02-18   \n",
       "\n",
       "      gender   age signup_method  signup_flow language affiliate_channel  \\\n",
       "0  -unknown-   NaN      facebook            0       en            direct   \n",
       "1       MALE  38.0      facebook            0       en               seo   \n",
       "2     FEMALE  56.0         basic            3       en            direct   \n",
       "3     FEMALE  42.0      facebook            0       en            direct   \n",
       "4  -unknown-  41.0         basic            0       en            direct   \n",
       "\n",
       "  affiliate_provider first_affiliate_tracked signup_app first_device_type  \\\n",
       "0             direct               untracked        Web       Mac Desktop   \n",
       "1             google               untracked        Web       Mac Desktop   \n",
       "2             direct               untracked        Web   Windows Desktop   \n",
       "3             direct               untracked        Web       Mac Desktop   \n",
       "4             direct               untracked        Web       Mac Desktop   \n",
       "\n",
       "  first_browser country_destination  \n",
       "0        Chrome                 NDF  \n",
       "1        Chrome                 NDF  \n",
       "2            IE                  US  \n",
       "3       Firefox               other  \n",
       "4        Chrome                  US  "
      ]
     },
     "execution_count": 4,
     "metadata": {},
     "output_type": "execute_result"
    }
   ],
   "source": [
    "df.head()"
   ]
  },
  {
   "cell_type": "code",
   "execution_count": 5,
   "id": "d49a2dc1-a7d1-440b-8483-920ea2f8e50a",
   "metadata": {},
   "outputs": [
    {
     "data": {
      "text/plain": [
       "(62096, 15)"
      ]
     },
     "execution_count": 5,
     "metadata": {},
     "output_type": "execute_result"
    }
   ],
   "source": [
    "test = pd.read_csv('../data/original/test_users.csv')\n",
    "test.shape"
   ]
  },
  {
   "cell_type": "code",
   "execution_count": 6,
   "id": "f5681f68-6547-4c53-995c-5f628b52fc41",
   "metadata": {},
   "outputs": [
    {
     "data": {
      "text/html": [
       "<div>\n",
       "<style scoped>\n",
       "    .dataframe tbody tr th:only-of-type {\n",
       "        vertical-align: middle;\n",
       "    }\n",
       "\n",
       "    .dataframe tbody tr th {\n",
       "        vertical-align: top;\n",
       "    }\n",
       "\n",
       "    .dataframe thead th {\n",
       "        text-align: right;\n",
       "    }\n",
       "</style>\n",
       "<table border=\"1\" class=\"dataframe\">\n",
       "  <thead>\n",
       "    <tr style=\"text-align: right;\">\n",
       "      <th></th>\n",
       "      <th>id</th>\n",
       "      <th>date_account_created</th>\n",
       "      <th>timestamp_first_active</th>\n",
       "      <th>date_first_booking</th>\n",
       "      <th>gender</th>\n",
       "      <th>age</th>\n",
       "      <th>signup_method</th>\n",
       "      <th>signup_flow</th>\n",
       "      <th>language</th>\n",
       "      <th>affiliate_channel</th>\n",
       "      <th>affiliate_provider</th>\n",
       "      <th>first_affiliate_tracked</th>\n",
       "      <th>signup_app</th>\n",
       "      <th>first_device_type</th>\n",
       "      <th>first_browser</th>\n",
       "    </tr>\n",
       "  </thead>\n",
       "  <tbody>\n",
       "    <tr>\n",
       "      <th>0</th>\n",
       "      <td>5uwns89zht</td>\n",
       "      <td>2014-07-01</td>\n",
       "      <td>20140701000006</td>\n",
       "      <td>NaN</td>\n",
       "      <td>FEMALE</td>\n",
       "      <td>35.0</td>\n",
       "      <td>facebook</td>\n",
       "      <td>0</td>\n",
       "      <td>en</td>\n",
       "      <td>direct</td>\n",
       "      <td>direct</td>\n",
       "      <td>untracked</td>\n",
       "      <td>Moweb</td>\n",
       "      <td>iPhone</td>\n",
       "      <td>Mobile Safari</td>\n",
       "    </tr>\n",
       "    <tr>\n",
       "      <th>1</th>\n",
       "      <td>jtl0dijy2j</td>\n",
       "      <td>2014-07-01</td>\n",
       "      <td>20140701000051</td>\n",
       "      <td>NaN</td>\n",
       "      <td>-unknown-</td>\n",
       "      <td>NaN</td>\n",
       "      <td>basic</td>\n",
       "      <td>0</td>\n",
       "      <td>en</td>\n",
       "      <td>direct</td>\n",
       "      <td>direct</td>\n",
       "      <td>untracked</td>\n",
       "      <td>Moweb</td>\n",
       "      <td>iPhone</td>\n",
       "      <td>Mobile Safari</td>\n",
       "    </tr>\n",
       "    <tr>\n",
       "      <th>2</th>\n",
       "      <td>xx0ulgorjt</td>\n",
       "      <td>2014-07-01</td>\n",
       "      <td>20140701000148</td>\n",
       "      <td>NaN</td>\n",
       "      <td>-unknown-</td>\n",
       "      <td>NaN</td>\n",
       "      <td>basic</td>\n",
       "      <td>0</td>\n",
       "      <td>en</td>\n",
       "      <td>direct</td>\n",
       "      <td>direct</td>\n",
       "      <td>linked</td>\n",
       "      <td>Web</td>\n",
       "      <td>Windows Desktop</td>\n",
       "      <td>Chrome</td>\n",
       "    </tr>\n",
       "    <tr>\n",
       "      <th>3</th>\n",
       "      <td>6c6puo6ix0</td>\n",
       "      <td>2014-07-01</td>\n",
       "      <td>20140701000215</td>\n",
       "      <td>NaN</td>\n",
       "      <td>-unknown-</td>\n",
       "      <td>NaN</td>\n",
       "      <td>basic</td>\n",
       "      <td>0</td>\n",
       "      <td>en</td>\n",
       "      <td>direct</td>\n",
       "      <td>direct</td>\n",
       "      <td>linked</td>\n",
       "      <td>Web</td>\n",
       "      <td>Windows Desktop</td>\n",
       "      <td>IE</td>\n",
       "    </tr>\n",
       "    <tr>\n",
       "      <th>4</th>\n",
       "      <td>czqhjk3yfe</td>\n",
       "      <td>2014-07-01</td>\n",
       "      <td>20140701000305</td>\n",
       "      <td>NaN</td>\n",
       "      <td>-unknown-</td>\n",
       "      <td>NaN</td>\n",
       "      <td>basic</td>\n",
       "      <td>0</td>\n",
       "      <td>en</td>\n",
       "      <td>direct</td>\n",
       "      <td>direct</td>\n",
       "      <td>untracked</td>\n",
       "      <td>Web</td>\n",
       "      <td>Mac Desktop</td>\n",
       "      <td>Safari</td>\n",
       "    </tr>\n",
       "  </tbody>\n",
       "</table>\n",
       "</div>"
      ],
      "text/plain": [
       "           id date_account_created  timestamp_first_active  \\\n",
       "0  5uwns89zht           2014-07-01          20140701000006   \n",
       "1  jtl0dijy2j           2014-07-01          20140701000051   \n",
       "2  xx0ulgorjt           2014-07-01          20140701000148   \n",
       "3  6c6puo6ix0           2014-07-01          20140701000215   \n",
       "4  czqhjk3yfe           2014-07-01          20140701000305   \n",
       "\n",
       "   date_first_booking     gender   age signup_method  signup_flow language  \\\n",
       "0                 NaN     FEMALE  35.0      facebook            0       en   \n",
       "1                 NaN  -unknown-   NaN         basic            0       en   \n",
       "2                 NaN  -unknown-   NaN         basic            0       en   \n",
       "3                 NaN  -unknown-   NaN         basic            0       en   \n",
       "4                 NaN  -unknown-   NaN         basic            0       en   \n",
       "\n",
       "  affiliate_channel affiliate_provider first_affiliate_tracked signup_app  \\\n",
       "0            direct             direct               untracked      Moweb   \n",
       "1            direct             direct               untracked      Moweb   \n",
       "2            direct             direct                  linked        Web   \n",
       "3            direct             direct                  linked        Web   \n",
       "4            direct             direct               untracked        Web   \n",
       "\n",
       "  first_device_type  first_browser  \n",
       "0            iPhone  Mobile Safari  \n",
       "1            iPhone  Mobile Safari  \n",
       "2   Windows Desktop         Chrome  \n",
       "3   Windows Desktop             IE  \n",
       "4       Mac Desktop         Safari  "
      ]
     },
     "execution_count": 6,
     "metadata": {},
     "output_type": "execute_result"
    }
   ],
   "source": [
    "test.head()"
   ]
  },
  {
   "cell_type": "code",
   "execution_count": 7,
   "id": "26d51f7a-ffd1-432c-81b6-717c51976e79",
   "metadata": {},
   "outputs": [
    {
     "data": {
      "text/plain": [
       "(10567737, 6)"
      ]
     },
     "execution_count": 7,
     "metadata": {},
     "output_type": "execute_result"
    }
   ],
   "source": [
    "ss = pd.read_csv('../data/original/sessions.csv')\n",
    "ss.shape"
   ]
  },
  {
   "cell_type": "code",
   "execution_count": 8,
   "id": "d9de68c6-f3b7-4d6f-ad2f-6024d15063d6",
   "metadata": {},
   "outputs": [
    {
     "data": {
      "text/html": [
       "<div>\n",
       "<style scoped>\n",
       "    .dataframe tbody tr th:only-of-type {\n",
       "        vertical-align: middle;\n",
       "    }\n",
       "\n",
       "    .dataframe tbody tr th {\n",
       "        vertical-align: top;\n",
       "    }\n",
       "\n",
       "    .dataframe thead th {\n",
       "        text-align: right;\n",
       "    }\n",
       "</style>\n",
       "<table border=\"1\" class=\"dataframe\">\n",
       "  <thead>\n",
       "    <tr style=\"text-align: right;\">\n",
       "      <th></th>\n",
       "      <th>user_id</th>\n",
       "      <th>action</th>\n",
       "      <th>action_type</th>\n",
       "      <th>action_detail</th>\n",
       "      <th>device_type</th>\n",
       "      <th>secs_elapsed</th>\n",
       "    </tr>\n",
       "  </thead>\n",
       "  <tbody>\n",
       "    <tr>\n",
       "      <th>0</th>\n",
       "      <td>d1mm9tcy42</td>\n",
       "      <td>lookup</td>\n",
       "      <td>NaN</td>\n",
       "      <td>NaN</td>\n",
       "      <td>Windows Desktop</td>\n",
       "      <td>319.0</td>\n",
       "    </tr>\n",
       "    <tr>\n",
       "      <th>1</th>\n",
       "      <td>d1mm9tcy42</td>\n",
       "      <td>search_results</td>\n",
       "      <td>click</td>\n",
       "      <td>view_search_results</td>\n",
       "      <td>Windows Desktop</td>\n",
       "      <td>67753.0</td>\n",
       "    </tr>\n",
       "    <tr>\n",
       "      <th>2</th>\n",
       "      <td>d1mm9tcy42</td>\n",
       "      <td>lookup</td>\n",
       "      <td>NaN</td>\n",
       "      <td>NaN</td>\n",
       "      <td>Windows Desktop</td>\n",
       "      <td>301.0</td>\n",
       "    </tr>\n",
       "    <tr>\n",
       "      <th>3</th>\n",
       "      <td>d1mm9tcy42</td>\n",
       "      <td>search_results</td>\n",
       "      <td>click</td>\n",
       "      <td>view_search_results</td>\n",
       "      <td>Windows Desktop</td>\n",
       "      <td>22141.0</td>\n",
       "    </tr>\n",
       "    <tr>\n",
       "      <th>4</th>\n",
       "      <td>d1mm9tcy42</td>\n",
       "      <td>lookup</td>\n",
       "      <td>NaN</td>\n",
       "      <td>NaN</td>\n",
       "      <td>Windows Desktop</td>\n",
       "      <td>435.0</td>\n",
       "    </tr>\n",
       "  </tbody>\n",
       "</table>\n",
       "</div>"
      ],
      "text/plain": [
       "      user_id          action action_type        action_detail  \\\n",
       "0  d1mm9tcy42          lookup         NaN                  NaN   \n",
       "1  d1mm9tcy42  search_results       click  view_search_results   \n",
       "2  d1mm9tcy42          lookup         NaN                  NaN   \n",
       "3  d1mm9tcy42  search_results       click  view_search_results   \n",
       "4  d1mm9tcy42          lookup         NaN                  NaN   \n",
       "\n",
       "       device_type  secs_elapsed  \n",
       "0  Windows Desktop         319.0  \n",
       "1  Windows Desktop       67753.0  \n",
       "2  Windows Desktop         301.0  \n",
       "3  Windows Desktop       22141.0  \n",
       "4  Windows Desktop         435.0  "
      ]
     },
     "execution_count": 8,
     "metadata": {},
     "output_type": "execute_result"
    }
   ],
   "source": [
    "ss.head()"
   ]
  },
  {
   "cell_type": "markdown",
   "id": "f940bbcc-d6f8-4980-8054-f3cd829caf9c",
   "metadata": {
    "tags": []
   },
   "source": [
    "### 1 Checking whether sessions are present for all users. \n",
    "### It appears that around sessions data is available for only 34% of users"
   ]
  },
  {
   "cell_type": "code",
   "execution_count": 9,
   "id": "9f9b9d18-b351-4849-8bd7-7936c882b476",
   "metadata": {},
   "outputs": [
    {
     "data": {
      "text/plain": [
       "73815"
      ]
     },
     "execution_count": 9,
     "metadata": {},
     "output_type": "execute_result"
    }
   ],
   "source": [
    "ids = set(df.id.tolist()).intersection(set(ss.user_id.tolist()))\n",
    "ids = list(ids)\n",
    "len(ids)"
   ]
  },
  {
   "cell_type": "code",
   "execution_count": 10,
   "id": "340b6c1a-4f24-4f33-81f8-e32f77e524db",
   "metadata": {},
   "outputs": [
    {
     "data": {
      "text/plain": [
       "34.581707277079985"
      ]
     },
     "execution_count": 10,
     "metadata": {},
     "output_type": "execute_result"
    }
   ],
   "source": [
    "len(ids) * 100 / df.id.nunique()"
   ]
  },
  {
   "cell_type": "markdown",
   "id": "10f6c4b3-0e41-4809-9f10-178ae4ed67bd",
   "metadata": {},
   "source": [
    "### 2 Checking whether sessions are present for all **TEST** users. \n",
    "### It appears that sessions data is available for almost all test users"
   ]
  },
  {
   "cell_type": "code",
   "execution_count": 11,
   "id": "3f1bfa1d-8bc3-435c-bf69-33ea1efa6619",
   "metadata": {},
   "outputs": [
    {
     "data": {
      "text/plain": [
       "61668"
      ]
     },
     "execution_count": 11,
     "metadata": {},
     "output_type": "execute_result"
    }
   ],
   "source": [
    "ids = set(test.id.tolist()).intersection(set(ss.user_id.tolist()))\n",
    "ids = list(ids)\n",
    "len(ids)"
   ]
  },
  {
   "cell_type": "code",
   "execution_count": 12,
   "id": "f655b2ed-a824-4359-bbcd-c896cd810520",
   "metadata": {},
   "outputs": [
    {
     "data": {
      "text/plain": [
       "99.31074465343984"
      ]
     },
     "execution_count": 12,
     "metadata": {},
     "output_type": "execute_result"
    }
   ],
   "source": [
    "len(ids) * 100 / test.id.nunique()"
   ]
  },
  {
   "cell_type": "markdown",
   "id": "2c13a993-e505-4170-9acf-d00a05463445",
   "metadata": {},
   "source": [
    "### 3 Dropping redundand data"
   ]
  },
  {
   "cell_type": "markdown",
   "id": "688a0427-584a-45b3-a53b-c7a33c0ed60d",
   "metadata": {},
   "source": [
    "### 3.1 We need to drop users with no sesssions"
   ]
  },
  {
   "cell_type": "code",
   "execution_count": 13,
   "id": "c1ad9750-ecaa-4a5a-8f0f-0a86f5fca7de",
   "metadata": {},
   "outputs": [
    {
     "data": {
      "text/plain": [
       "(73815, 16)"
      ]
     },
     "execution_count": 13,
     "metadata": {},
     "output_type": "execute_result"
    }
   ],
   "source": [
    "ids = set(df.id.tolist()).intersection(set(ss.user_id.tolist()))\n",
    "df = df[df.id.isin(ids)]\n",
    "df.reset_index(drop=True, inplace=True)\n",
    "df.shape"
   ]
  },
  {
   "cell_type": "markdown",
   "id": "4bd2bfb4-6a21-4af7-ba38-abfb1d658e9a",
   "metadata": {},
   "source": [
    "### 3.2 We need to drop date_first_booking, as it is null for test set"
   ]
  },
  {
   "cell_type": "code",
   "execution_count": 14,
   "id": "bb311cb3-8b6e-4820-aa03-44b8ee10ae05",
   "metadata": {},
   "outputs": [
    {
     "data": {
      "text/plain": [
       "(62096, 62096)"
      ]
     },
     "execution_count": 14,
     "metadata": {},
     "output_type": "execute_result"
    }
   ],
   "source": [
    "test.date_first_booking.isna().sum(), len(test)"
   ]
  },
  {
   "cell_type": "code",
   "execution_count": 15,
   "id": "d114d83e-3d35-45d9-a456-b9f9d5df6971",
   "metadata": {},
   "outputs": [
    {
     "data": {
      "text/plain": [
       "((73815, 15), (62096, 14))"
      ]
     },
     "execution_count": 15,
     "metadata": {},
     "output_type": "execute_result"
    }
   ],
   "source": [
    "df.drop('date_first_booking', inplace=True, axis=1)\n",
    "test.drop('date_first_booking', inplace=True, axis=1)\n",
    "df.shape, test.shape"
   ]
  },
  {
   "cell_type": "markdown",
   "id": "c4abb668-8f91-4988-9da3-dc7c4a23819a",
   "metadata": {},
   "source": [
    "### 3.3 We need to drop sessions without any user_ids"
   ]
  },
  {
   "cell_type": "code",
   "execution_count": 16,
   "id": "4c036153-d3ad-49a1-a8dc-d516611c4f3b",
   "metadata": {},
   "outputs": [
    {
     "data": {
      "text/plain": [
       "34496"
      ]
     },
     "execution_count": 16,
     "metadata": {},
     "output_type": "execute_result"
    }
   ],
   "source": [
    "ss.user_id.isna().sum()"
   ]
  },
  {
   "cell_type": "code",
   "execution_count": 17,
   "id": "78b1c80b-743d-45a4-bac8-11183d0414b4",
   "metadata": {},
   "outputs": [
    {
     "data": {
      "text/plain": [
       "(10533241, 6)"
      ]
     },
     "execution_count": 17,
     "metadata": {},
     "output_type": "execute_result"
    }
   ],
   "source": [
    "ss = ss.loc[ss.user_id.notna()]\n",
    "ss.reset_index(drop=True, inplace=True)\n",
    "ss.shape"
   ]
  },
  {
   "cell_type": "markdown",
   "id": "2b3a46e0-3385-4bd5-a35a-6439b1b7be0b",
   "metadata": {},
   "source": [
    "### 3.4 Checking whether all action, action_types etc are present in both datasets"
   ]
  },
  {
   "cell_type": "markdown",
   "id": "172454d8-8787-4273-9e72-5ec164868e93",
   "metadata": {},
   "source": [
    "### 3.4.1 Dropping all actions that are not present in both datasets"
   ]
  },
  {
   "cell_type": "code",
   "execution_count": 36,
   "id": "0db9da93-d145-4706-9de9-c36af80b02cf",
   "metadata": {},
   "outputs": [],
   "source": [
    "ss['action_info'] = ss[['action', 'action_type', 'action_detail']].apply(lambda x: f'{x[0]}_{x[1]}_{x[2]}', axis=1)"
   ]
  },
  {
   "cell_type": "code",
   "execution_count": 47,
   "id": "0ec03a91-bf23-4031-b8e6-1440eecf2002",
   "metadata": {},
   "outputs": [
    {
     "data": {
      "text/html": [
       "<div>\n",
       "<style scoped>\n",
       "    .dataframe tbody tr th:only-of-type {\n",
       "        vertical-align: middle;\n",
       "    }\n",
       "\n",
       "    .dataframe tbody tr th {\n",
       "        vertical-align: top;\n",
       "    }\n",
       "\n",
       "    .dataframe thead th {\n",
       "        text-align: right;\n",
       "    }\n",
       "</style>\n",
       "<table border=\"1\" class=\"dataframe\">\n",
       "  <thead>\n",
       "    <tr style=\"text-align: right;\">\n",
       "      <th></th>\n",
       "      <th>user_id</th>\n",
       "      <th>action</th>\n",
       "      <th>action_type</th>\n",
       "      <th>action_detail</th>\n",
       "      <th>device_type</th>\n",
       "      <th>secs_elapsed</th>\n",
       "      <th>action_info</th>\n",
       "    </tr>\n",
       "  </thead>\n",
       "  <tbody>\n",
       "    <tr>\n",
       "      <th>8087529</th>\n",
       "      <td>3v9l3i09mw</td>\n",
       "      <td>show</td>\n",
       "      <td>NaN</td>\n",
       "      <td>NaN</td>\n",
       "      <td>Mac Desktop</td>\n",
       "      <td>48.0</td>\n",
       "      <td>show_nan_nan</td>\n",
       "    </tr>\n",
       "    <tr>\n",
       "      <th>5952163</th>\n",
       "      <td>masrzmahd8</td>\n",
       "      <td>ajax_refresh_subtotal</td>\n",
       "      <td>click</td>\n",
       "      <td>change_trip_characteristics</td>\n",
       "      <td>Mac Desktop</td>\n",
       "      <td>286.0</td>\n",
       "      <td>ajax_refresh_subtotal_click_change_trip_charac...</td>\n",
       "    </tr>\n",
       "    <tr>\n",
       "      <th>6341514</th>\n",
       "      <td>y3wl0scef6</td>\n",
       "      <td>similar_listings_v2</td>\n",
       "      <td>NaN</td>\n",
       "      <td>NaN</td>\n",
       "      <td>Mac Desktop</td>\n",
       "      <td>353.0</td>\n",
       "      <td>similar_listings_v2_nan_nan</td>\n",
       "    </tr>\n",
       "    <tr>\n",
       "      <th>7998812</th>\n",
       "      <td>teucumzg02</td>\n",
       "      <td>search</td>\n",
       "      <td>click</td>\n",
       "      <td>view_search_results</td>\n",
       "      <td>iPhone</td>\n",
       "      <td>7909.0</td>\n",
       "      <td>search_click_view_search_results</td>\n",
       "    </tr>\n",
       "    <tr>\n",
       "      <th>2939320</th>\n",
       "      <td>5kpw1g13hn</td>\n",
       "      <td>show</td>\n",
       "      <td>view</td>\n",
       "      <td>p3</td>\n",
       "      <td>Windows Desktop</td>\n",
       "      <td>850.0</td>\n",
       "      <td>show_view_p3</td>\n",
       "    </tr>\n",
       "    <tr>\n",
       "      <th>2350888</th>\n",
       "      <td>az6ws02xkg</td>\n",
       "      <td>notifications</td>\n",
       "      <td>data</td>\n",
       "      <td>notifications</td>\n",
       "      <td>iPhone</td>\n",
       "      <td>3159.0</td>\n",
       "      <td>notifications_data_notifications</td>\n",
       "    </tr>\n",
       "    <tr>\n",
       "      <th>3092163</th>\n",
       "      <td>hg0wsu7lly</td>\n",
       "      <td>personalize</td>\n",
       "      <td>data</td>\n",
       "      <td>wishlist_content_update</td>\n",
       "      <td>Windows Desktop</td>\n",
       "      <td>2636.0</td>\n",
       "      <td>personalize_data_wishlist_content_update</td>\n",
       "    </tr>\n",
       "    <tr>\n",
       "      <th>1880801</th>\n",
       "      <td>j03vciujqh</td>\n",
       "      <td>show</td>\n",
       "      <td>NaN</td>\n",
       "      <td>NaN</td>\n",
       "      <td>iPad Tablet</td>\n",
       "      <td>780.0</td>\n",
       "      <td>show_nan_nan</td>\n",
       "    </tr>\n",
       "    <tr>\n",
       "      <th>8981781</th>\n",
       "      <td>ribag1qz1a</td>\n",
       "      <td>set_user</td>\n",
       "      <td>submit</td>\n",
       "      <td>create_listing</td>\n",
       "      <td>Mac Desktop</td>\n",
       "      <td>723.0</td>\n",
       "      <td>set_user_submit_create_listing</td>\n",
       "    </tr>\n",
       "    <tr>\n",
       "      <th>3496326</th>\n",
       "      <td>dk6u4oi2p3</td>\n",
       "      <td>show</td>\n",
       "      <td>NaN</td>\n",
       "      <td>NaN</td>\n",
       "      <td>Android Phone</td>\n",
       "      <td>1271.0</td>\n",
       "      <td>show_nan_nan</td>\n",
       "    </tr>\n",
       "    <tr>\n",
       "      <th>1599077</th>\n",
       "      <td>gtqs7mbck1</td>\n",
       "      <td>ajax_refresh_subtotal</td>\n",
       "      <td>click</td>\n",
       "      <td>change_trip_characteristics</td>\n",
       "      <td>Mac Desktop</td>\n",
       "      <td>2490.0</td>\n",
       "      <td>ajax_refresh_subtotal_click_change_trip_charac...</td>\n",
       "    </tr>\n",
       "    <tr>\n",
       "      <th>514788</th>\n",
       "      <td>koc6ydrc7f</td>\n",
       "      <td>index</td>\n",
       "      <td>view</td>\n",
       "      <td>view_search_results</td>\n",
       "      <td>Windows Desktop</td>\n",
       "      <td>164.0</td>\n",
       "      <td>index_view_view_search_results</td>\n",
       "    </tr>\n",
       "    <tr>\n",
       "      <th>1412966</th>\n",
       "      <td>sja5cy7i42</td>\n",
       "      <td>search_results</td>\n",
       "      <td>click</td>\n",
       "      <td>view_search_results</td>\n",
       "      <td>Windows Desktop</td>\n",
       "      <td>18655.0</td>\n",
       "      <td>search_results_click_view_search_results</td>\n",
       "    </tr>\n",
       "    <tr>\n",
       "      <th>3745016</th>\n",
       "      <td>gtxpyl1wrp</td>\n",
       "      <td>update</td>\n",
       "      <td>submit</td>\n",
       "      <td>update_user_profile</td>\n",
       "      <td>Mac Desktop</td>\n",
       "      <td>720270.0</td>\n",
       "      <td>update_submit_update_user_profile</td>\n",
       "    </tr>\n",
       "    <tr>\n",
       "      <th>10510483</th>\n",
       "      <td>bmjomnqzs0</td>\n",
       "      <td>personalize</td>\n",
       "      <td>data</td>\n",
       "      <td>wishlist_content_update</td>\n",
       "      <td>Mac Desktop</td>\n",
       "      <td>327.0</td>\n",
       "      <td>personalize_data_wishlist_content_update</td>\n",
       "    </tr>\n",
       "    <tr>\n",
       "      <th>6810605</th>\n",
       "      <td>6gghn4p6ht</td>\n",
       "      <td>reviews</td>\n",
       "      <td>data</td>\n",
       "      <td>listing_reviews</td>\n",
       "      <td>iPhone</td>\n",
       "      <td>61.0</td>\n",
       "      <td>reviews_data_listing_reviews</td>\n",
       "    </tr>\n",
       "    <tr>\n",
       "      <th>7672961</th>\n",
       "      <td>z2isczih31</td>\n",
       "      <td>apply_reservation</td>\n",
       "      <td>submit</td>\n",
       "      <td>apply_coupon</td>\n",
       "      <td>Mac Desktop</td>\n",
       "      <td>1155.0</td>\n",
       "      <td>apply_reservation_submit_apply_coupon</td>\n",
       "    </tr>\n",
       "    <tr>\n",
       "      <th>1859539</th>\n",
       "      <td>k1s1d162tz</td>\n",
       "      <td>personalize</td>\n",
       "      <td>data</td>\n",
       "      <td>wishlist_content_update</td>\n",
       "      <td>Mac Desktop</td>\n",
       "      <td>4927.0</td>\n",
       "      <td>personalize_data_wishlist_content_update</td>\n",
       "    </tr>\n",
       "    <tr>\n",
       "      <th>2123150</th>\n",
       "      <td>yqlaf3d4gl</td>\n",
       "      <td>personalize</td>\n",
       "      <td>data</td>\n",
       "      <td>wishlist_content_update</td>\n",
       "      <td>iPad Tablet</td>\n",
       "      <td>69.0</td>\n",
       "      <td>personalize_data_wishlist_content_update</td>\n",
       "    </tr>\n",
       "    <tr>\n",
       "      <th>7987617</th>\n",
       "      <td>909cru2vuh</td>\n",
       "      <td>show</td>\n",
       "      <td>view</td>\n",
       "      <td>p3</td>\n",
       "      <td>Android Phone</td>\n",
       "      <td>1091.0</td>\n",
       "      <td>show_view_p3</td>\n",
       "    </tr>\n",
       "  </tbody>\n",
       "</table>\n",
       "</div>"
      ],
      "text/plain": [
       "             user_id                 action action_type  \\\n",
       "8087529   3v9l3i09mw                   show         NaN   \n",
       "5952163   masrzmahd8  ajax_refresh_subtotal       click   \n",
       "6341514   y3wl0scef6    similar_listings_v2         NaN   \n",
       "7998812   teucumzg02                 search       click   \n",
       "2939320   5kpw1g13hn                   show        view   \n",
       "2350888   az6ws02xkg          notifications        data   \n",
       "3092163   hg0wsu7lly            personalize        data   \n",
       "1880801   j03vciujqh                   show         NaN   \n",
       "8981781   ribag1qz1a               set_user      submit   \n",
       "3496326   dk6u4oi2p3                   show         NaN   \n",
       "1599077   gtqs7mbck1  ajax_refresh_subtotal       click   \n",
       "514788    koc6ydrc7f                  index        view   \n",
       "1412966   sja5cy7i42         search_results       click   \n",
       "3745016   gtxpyl1wrp                 update      submit   \n",
       "10510483  bmjomnqzs0            personalize        data   \n",
       "6810605   6gghn4p6ht                reviews        data   \n",
       "7672961   z2isczih31      apply_reservation      submit   \n",
       "1859539   k1s1d162tz            personalize        data   \n",
       "2123150   yqlaf3d4gl            personalize        data   \n",
       "7987617   909cru2vuh                   show        view   \n",
       "\n",
       "                        action_detail      device_type  secs_elapsed  \\\n",
       "8087529                           NaN      Mac Desktop          48.0   \n",
       "5952163   change_trip_characteristics      Mac Desktop         286.0   \n",
       "6341514                           NaN      Mac Desktop         353.0   \n",
       "7998812           view_search_results           iPhone        7909.0   \n",
       "2939320                            p3  Windows Desktop         850.0   \n",
       "2350888                 notifications           iPhone        3159.0   \n",
       "3092163       wishlist_content_update  Windows Desktop        2636.0   \n",
       "1880801                           NaN      iPad Tablet         780.0   \n",
       "8981781                create_listing      Mac Desktop         723.0   \n",
       "3496326                           NaN    Android Phone        1271.0   \n",
       "1599077   change_trip_characteristics      Mac Desktop        2490.0   \n",
       "514788            view_search_results  Windows Desktop         164.0   \n",
       "1412966           view_search_results  Windows Desktop       18655.0   \n",
       "3745016           update_user_profile      Mac Desktop      720270.0   \n",
       "10510483      wishlist_content_update      Mac Desktop         327.0   \n",
       "6810605               listing_reviews           iPhone          61.0   \n",
       "7672961                  apply_coupon      Mac Desktop        1155.0   \n",
       "1859539       wishlist_content_update      Mac Desktop        4927.0   \n",
       "2123150       wishlist_content_update      iPad Tablet          69.0   \n",
       "7987617                            p3    Android Phone        1091.0   \n",
       "\n",
       "                                                action_info  \n",
       "8087529                                        show_nan_nan  \n",
       "5952163   ajax_refresh_subtotal_click_change_trip_charac...  \n",
       "6341514                         similar_listings_v2_nan_nan  \n",
       "7998812                    search_click_view_search_results  \n",
       "2939320                                        show_view_p3  \n",
       "2350888                    notifications_data_notifications  \n",
       "3092163            personalize_data_wishlist_content_update  \n",
       "1880801                                        show_nan_nan  \n",
       "8981781                      set_user_submit_create_listing  \n",
       "3496326                                        show_nan_nan  \n",
       "1599077   ajax_refresh_subtotal_click_change_trip_charac...  \n",
       "514788                       index_view_view_search_results  \n",
       "1412966            search_results_click_view_search_results  \n",
       "3745016                   update_submit_update_user_profile  \n",
       "10510483           personalize_data_wishlist_content_update  \n",
       "6810605                        reviews_data_listing_reviews  \n",
       "7672961               apply_reservation_submit_apply_coupon  \n",
       "1859539            personalize_data_wishlist_content_update  \n",
       "2123150            personalize_data_wishlist_content_update  \n",
       "7987617                                        show_view_p3  "
      ]
     },
     "execution_count": 47,
     "metadata": {},
     "output_type": "execute_result"
    }
   ],
   "source": [
    "ss.sample(20)"
   ]
  },
  {
   "cell_type": "code",
   "execution_count": 48,
   "id": "51ed79a2-3ee1-4b0a-8384-3cc6cea4ce1b",
   "metadata": {},
   "outputs": [
    {
     "data": {
      "text/plain": [
       "(5537957, 7)"
      ]
     },
     "execution_count": 48,
     "metadata": {},
     "output_type": "execute_result"
    }
   ],
   "source": [
    "ss_train = ss[ss.user_id.isin(df.id.tolist())]\n",
    "ss_train.reset_index(drop=True, inplace=True)\n",
    "ss_train.shape"
   ]
  },
  {
   "cell_type": "code",
   "execution_count": 49,
   "id": "4059bedc-bb31-4e42-a9dc-de5a1cd91602",
   "metadata": {},
   "outputs": [
    {
     "data": {
      "text/plain": [
       "(4995284, 7)"
      ]
     },
     "execution_count": 49,
     "metadata": {},
     "output_type": "execute_result"
    }
   ],
   "source": [
    "ss_test = ss[ss.user_id.isin(test.id.tolist())]\n",
    "ss_test.reset_index(drop=True, inplace=True)\n",
    "ss_test.shape"
   ]
  },
  {
   "cell_type": "code",
   "execution_count": 50,
   "id": "11dcc40e-df49-489a-913d-f7f6f4486459",
   "metadata": {},
   "outputs": [
    {
     "data": {
      "text/plain": [
       "user_id           73815\n",
       "action              331\n",
       "action_type           9\n",
       "action_detail       128\n",
       "device_type          14\n",
       "secs_elapsed     256593\n",
       "action_info         401\n",
       "dtype: int64"
      ]
     },
     "execution_count": 50,
     "metadata": {},
     "output_type": "execute_result"
    }
   ],
   "source": [
    "ss_train.nunique()"
   ]
  },
  {
   "cell_type": "code",
   "execution_count": 51,
   "id": "cfd3fca8-90b6-488e-8162-3cbc53693095",
   "metadata": {},
   "outputs": [
    {
     "data": {
      "text/plain": [
       "user_id           61668\n",
       "action              311\n",
       "action_type          10\n",
       "action_detail       153\n",
       "device_type          14\n",
       "secs_elapsed     223462\n",
       "action_info         392\n",
       "dtype: int64"
      ]
     },
     "execution_count": 51,
     "metadata": {},
     "output_type": "execute_result"
    }
   ],
   "source": [
    "ss_test.nunique()"
   ]
  },
  {
   "cell_type": "code",
   "execution_count": 52,
   "id": "91845b9d-758d-4d63-9c9f-f5e75eaf8ab2",
   "metadata": {},
   "outputs": [
    {
     "data": {
      "text/plain": [
       "336"
      ]
     },
     "execution_count": 52,
     "metadata": {},
     "output_type": "execute_result"
    }
   ],
   "source": [
    "action_info_set = set(ss_train.action_info.unique()).intersection(set(ss_test.action_info.unique()))\n",
    "len(actions_set)"
   ]
  },
  {
   "cell_type": "code",
   "execution_count": null,
   "id": "fdfc25fa-1a39-49f6-8eea-d19ac1522ee7",
   "metadata": {},
   "outputs": [],
   "source": []
  },
  {
   "cell_type": "code",
   "execution_count": 53,
   "id": "a2eaedaf-4539-4142-9310-4494e7f7e238",
   "metadata": {},
   "outputs": [
    {
     "data": {
      "text/plain": [
       "(5494799, 7)"
      ]
     },
     "execution_count": 53,
     "metadata": {},
     "output_type": "execute_result"
    }
   ],
   "source": [
    "ss_train = ss_train[ss_train.action_info.isin(action_info_set)]\n",
    "ss_train.reset_index(drop=True, inplace=True)\n",
    "ss_train.shape"
   ]
  },
  {
   "cell_type": "code",
   "execution_count": 54,
   "id": "1e8af66e-bb64-41f4-9cef-6896fa1d329a",
   "metadata": {},
   "outputs": [
    {
     "data": {
      "text/plain": [
       "(4934245, 7)"
      ]
     },
     "execution_count": 54,
     "metadata": {},
     "output_type": "execute_result"
    }
   ],
   "source": [
    "ss_test = ss_test[ss_test.action_info.isin(action_info_set)]\n",
    "ss_test.reset_index(drop=True, inplace=True)\n",
    "ss_test.shape"
   ]
  },
  {
   "cell_type": "code",
   "execution_count": null,
   "id": "3cda4ab7-aae0-4936-b2cd-eae0b194479c",
   "metadata": {},
   "outputs": [],
   "source": []
  },
  {
   "cell_type": "code",
   "execution_count": null,
   "id": "65ed2ba7-f89d-44e9-b221-bfcb9989e031",
   "metadata": {},
   "outputs": [],
   "source": []
  },
  {
   "cell_type": "code",
   "execution_count": null,
   "id": "ef69a9e0-d292-471d-92e2-9e4831890649",
   "metadata": {},
   "outputs": [],
   "source": []
  },
  {
   "cell_type": "markdown",
   "id": "35ff9764-71d4-4caa-9aba-e7f17d5bc38e",
   "metadata": {},
   "source": [
    "### 4. Saving data"
   ]
  },
  {
   "cell_type": "code",
   "execution_count": 60,
   "id": "71a83128-7b48-4854-bd30-415f33ed742b",
   "metadata": {},
   "outputs": [],
   "source": [
    "df.to_parquet('../data/processed/train_users_2.parquet')\n",
    "test.to_parquet('../data/processed/test_users.parquet')"
   ]
  },
  {
   "cell_type": "code",
   "execution_count": 61,
   "id": "bba61e00-b6dd-48d0-b555-2743c192116a",
   "metadata": {},
   "outputs": [],
   "source": [
    "ss_train.to_parquet('../data/processed/sessions_train.parquet')\n",
    "ss_test.to_parquet('../data/processed/sessions_test.parquet')"
   ]
  },
  {
   "cell_type": "code",
   "execution_count": null,
   "id": "10bbd666-3ae2-45ea-a5b6-c77afa41beae",
   "metadata": {},
   "outputs": [],
   "source": []
  }
 ],
 "metadata": {
  "kernelspec": {
   "display_name": "Python 3 (ipykernel)",
   "language": "python",
   "name": "python3"
  },
  "language_info": {
   "codemirror_mode": {
    "name": "ipython",
    "version": 3
   },
   "file_extension": ".py",
   "mimetype": "text/x-python",
   "name": "python",
   "nbconvert_exporter": "python",
   "pygments_lexer": "ipython3",
   "version": "3.9.6"
  }
 },
 "nbformat": 4,
 "nbformat_minor": 5
}
